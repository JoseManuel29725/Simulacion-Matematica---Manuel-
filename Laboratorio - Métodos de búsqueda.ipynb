{
 "cells": [
  {
   "cell_type": "markdown",
   "id": "28086fca-2cdd-41ac-b7bf-bc1af9f759a2",
   "metadata": {},
   "source": [
    "# Laboratorio: Métodos de búsqueda"
   ]
  },
  {
   "cell_type": "markdown",
   "id": "9e19abc1-82f0-4f28-9493-468e4227c14f",
   "metadata": {},
   "source": [
    "En las clases anteriores creaste códigos para realizar búsquedas aleatorias (Simulated Annealing) y búsquedas dirigidas (Optimización Bayesiana). Estos métodos de búsqueda se utilizan para facilitar el proceso de optimización de funciones objetivos compleja y costosas de computar."
   ]
  },
  {
   "cell_type": "markdown",
   "id": "038474ce-6e2f-4d45-895a-bb17f7c8871d",
   "metadata": {},
   "source": [
    "En este laboratorio usaremos el dataset de los diferentes tipos de iris, y sus longitudes y anchos de pétalos y sépalos. Utilizaremos un RandomForest para crear un modelo de clasificación y el métrico F1 para decidir cuál es el mejor modelo de acuerdo a lo que tenemos disponible."
   ]
  },
  {
   "cell_type": "markdown",
   "id": "c04956ea-14f4-419e-adf8-add3b81da443",
   "metadata": {},
   "source": [
    "1. Carga el dataset de Iris"
   ]
  },
  {
   "cell_type": "code",
   "execution_count": 14,
   "id": "aad912f2-1359-437e-af68-3c8cca8d1b03",
   "metadata": {},
   "outputs": [],
   "source": [
    "from sklearn import datasets\n",
    "X, y = datasets.load_iris(return_X_y=True)"
   ]
  },
  {
   "cell_type": "markdown",
   "id": "9b97ad91-d82b-491c-ac5d-be6f872c5334",
   "metadata": {},
   "source": [
    "2. Importa el archivo `Bosque.py`.\n",
    "\n",
    "Este archivo contiene la función `RegresionBosque`, que recibe:\n",
    "- X: las características independientes\n",
    "- y: la variable de respuesta\n",
    "- árboles: cantidad total de árboles\n",
    "- profundidad de bosque: niveles de profundidad del bosque\n",
    "\n",
    "Su salida es:\n",
    "- modelo: El objeto con el modelo ajustado\n",
    "- f1: El métrico que califica qué tan bueno es el modelo que se ajustó.\n"
   ]
  },
  {
   "cell_type": "code",
   "execution_count": 15,
   "id": "23f875f1-a72a-4a57-8355-16d6bb9fb33a",
   "metadata": {},
   "outputs": [
    {
     "data": {
      "text/plain": [
       "0.9444444444444444"
      ]
     },
     "execution_count": 15,
     "metadata": {},
     "output_type": "execute_result"
    }
   ],
   "source": [
    "import Bosque\n",
    "modelo, f1 = Bosque.RegresionBosque(X, y, 10, 3)\n",
    "f1"
   ]
  },
  {
   "cell_type": "markdown",
   "id": "15ac2825-33ac-4919-9ccb-8324701ce99f",
   "metadata": {},
   "source": [
    "### Actividad 1:"
   ]
  },
  {
   "cell_type": "markdown",
   "id": "a8eb265f-9ccf-4fb4-b8c0-8fe221ea534c",
   "metadata": {},
   "source": [
    "Inicializa un espacio con 5 muestras en nuestro dominio de variables independientes:\n",
    "- árboles: números enteros entre 5 y 50.\n",
    "- profundidad: números enteros entre 2 y 10"
   ]
  },
  {
   "cell_type": "markdown",
   "id": "1ed7c396-af97-49a6-828e-c5d63c1b6999",
   "metadata": {},
   "source": [
    "Utiliza optimización Bayesiana para encontrar la combinación de árboles y profundidad que **maximice** el métrico F1."
   ]
  },
  {
   "cell_type": "code",
   "execution_count": 33,
   "id": "1db324af-341b-4dd2-b444-9914aff6d0f8",
   "metadata": {},
   "outputs": [
    {
     "data": {
      "text/plain": [
       "0.9611168735296758"
      ]
     },
     "execution_count": 33,
     "metadata": {},
     "output_type": "execute_result"
    }
   ],
   "source": [
    "import numpy as np\n",
    "from sklearn.gaussian_process import GaussianProcessRegressor\n",
    "from sklearn.gaussian_process.kernels import RBF\n",
    "\n",
    "n = 5\n",
    "n_arboles = np.random.randint(5, 51, n)\n",
    "profundidad = np.random.randint(2, 11, n)\n",
    "\n",
    "lista_f1 = []\n",
    "for n_arb, prof in zip(n_arboles, profundidad):\n",
    "    modelo, f1 = Bosque.RegresionBosque(X, y, n_arb, prof)  \n",
    "    lista_f1.append(f1)\n",
    "\n",
    "n_arb_vec = n_arboles.reshape([-1, 1])\n",
    "prof_vec = profundidad.reshape([-1, 1])\n",
    "X_hiperparam = np.hstack((n_arb_vec, prof_vec))\n",
    "\n",
    "kernel = 1.0 * RBF(length_scale=1)\n",
    "gp = GaussianProcessRegressor(kernel=kernel, n_restarts_optimizer=10)\n",
    "gp.fit(X_hiperparam, lista_f1)\n",
    "\n",
    "x_arb = np.linspace(5, 50, 100).reshape([-1, 1])\n",
    "x_prof = np.linspace(2, 10, 100).reshape([-1, 1])\n",
    "x_grid_arb, x_grid_prof = np.meshgrid(x_arb, x_prof)\n",
    "x_h = np.hstack((x_grid_arb.reshape(-1, 1), x_grid_prof.reshape(-1, 1)))\n",
    "\n",
    "y_pred, y_std = gp.predict(x_h, return_std=True)\n",
    "\n",
    "\n",
    "max_f1_index = np.argmax(y_pred)\n",
    "max_f1_value = y_pred[max_f1_index]\n",
    "optimal_n_arboles = x_h[max_f1_index, 0]\n",
    "optimal_profundidad = x_h[max_f1_index, 1]\n",
    "\n",
    "max_f1_value"
   ]
  },
  {
   "cell_type": "code",
   "execution_count": null,
   "id": "10fc468e-8397-43ea-96b0-65f0956aa7c8",
   "metadata": {},
   "outputs": [],
   "source": []
  },
  {
   "cell_type": "markdown",
   "id": "5e083a3c-fa68-4942-b5d3-f1f7130b4fbb",
   "metadata": {},
   "source": [
    "### Actividad 2:"
   ]
  },
  {
   "cell_type": "markdown",
   "id": "2817a47c-0081-4376-b222-c65735f4ab9d",
   "metadata": {},
   "source": [
    "Inicializa 2 vectores con posibles valores para las variables independientes:\n",
    "- árboles: números enteros entre 5 y 50\n",
    "- profundidad: números enteros entre 2 y 10\n",
    "\n",
    "Utiliza el algoritmo de Simulated Annealing que siga el siguiente orden:\n",
    "- Elige un punto de partida para las variables.\n",
    "- Selecciona al azar una de las dos para modificarlas.\n",
    "- Selecciona un elemento al azar de la lista que contiene los posibles valores de esa variable.\n",
    "- Sigue el algoritmo ($p$ y $q$) para decidir si usas esa combinación nueva o si mantienes la anterior."
   ]
  },
  {
   "cell_type": "code",
   "execution_count": 32,
   "id": "92a2d372-bcde-4b80-bde7-a3216e2dde2c",
   "metadata": {},
   "outputs": [
    {
     "data": {
      "text/plain": [
       "0.9555555555555556"
      ]
     },
     "execution_count": 32,
     "metadata": {},
     "output_type": "execute_result"
    }
   ],
   "source": [
    "import numpy as np \n",
    "\n",
    "X, y = datasets.load_iris(return_X_y=True)\n",
    "v_arboles=np.arange(5, 51)\n",
    "v_profundidad=np.arange(2, 11)\n",
    "\n",
    "T_i=10\n",
    "T_min=.1\n",
    "alpha=.9\n",
    "\n",
    "\n",
    "a_actual=random.choice(v_arboles)\n",
    "p_actual=random.choice(v_profundidad)\n",
    "modelo, f1_actual=Bosque.RegresionBosque(X, y, a_actual, p_actual)\n",
    "\n",
    "\n",
    "def a_new_f1(f1_actual, f1_new, T): \n",
    "    if f1_new>f1_actual: \n",
    "        return True\n",
    "    else:\n",
    "        p=np.exp((f1_new-f1_actual)/T)\n",
    "        return random.random()<p\n",
    "\n",
    "T=T_i\n",
    "mejor_f1=f1_actual\n",
    "mejor_h=(a_actual, p_actual)\n",
    "while T>T_min: \n",
    "    if random.choice([True, False]): \n",
    "        new_a=np.random.choice(v_arboles)\n",
    "        new_p=p_actual\n",
    "    else: \n",
    "        n_a=a_actual\n",
    "        n_p=np.random.choice(v_profundidad)\n",
    "    modelo, n_f1= Bosque.RegresionBosque(X, y, n_a, n_p)\n",
    "    if a_new_f1(f1_actual, n_f1, T):\n",
    "        a_actual, p_actual=new_a, new_p\n",
    "        f1_actual=new_f1\n",
    "        if n_f1>mejor_f1: \n",
    "            mejor_f1=n_f1\n",
    "            mejor_h=(a_actual, p_actual)\n",
    "    T*=alpha\n",
    "mejor_f1"
   ]
  },
  {
   "cell_type": "code",
   "execution_count": 30,
   "id": "44ad0d0f-e9b2-4f04-9351-be417d29f52e",
   "metadata": {},
   "outputs": [
    {
     "data": {
      "text/plain": [
       "(37, 7)"
      ]
     },
     "execution_count": 30,
     "metadata": {},
     "output_type": "execute_result"
    }
   ],
   "source": [
    "mejor_h[0], mejor_h[1]"
   ]
  },
  {
   "cell_type": "code",
   "execution_count": null,
   "id": "2e65f82c-9af3-4ded-a4d1-c0e3a43aa113",
   "metadata": {},
   "outputs": [],
   "source": []
  }
 ],
 "metadata": {
  "kernelspec": {
   "display_name": "Python 3 (ipykernel)",
   "language": "python",
   "name": "python3"
  },
  "language_info": {
   "codemirror_mode": {
    "name": "ipython",
    "version": 3
   },
   "file_extension": ".py",
   "mimetype": "text/x-python",
   "name": "python",
   "nbconvert_exporter": "python",
   "pygments_lexer": "ipython3",
   "version": "3.12.4"
  }
 },
 "nbformat": 4,
 "nbformat_minor": 5
}
