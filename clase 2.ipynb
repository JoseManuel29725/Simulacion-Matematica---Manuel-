{
 "cells": [
  {
   "cell_type": "markdown",
   "id": "10000e04-6146-4295-bd4a-a34c04ef1b37",
   "metadata": {},
   "source": [
    "# Repaso de Python - Dia 2"
   ]
  },
  {
   "cell_type": "markdown",
   "id": "07760615-022c-4e7e-b8bf-42747184bbe8",
   "metadata": {},
   "source": [
    "### !9 de agosto de 2024"
   ]
  },
  {
   "cell_type": "markdown",
   "id": "bdc02262-4a1b-4214-8f87-c8573ad977cd",
   "metadata": {},
   "source": [
    "# tipos de objetos "
   ]
  },
  {
   "cell_type": "code",
   "execution_count": 4,
   "id": "103bd210-bce7-4382-ad4f-d219a4e74abe",
   "metadata": {},
   "outputs": [],
   "source": [
    "no_intentos = 5\n",
    "tasa_de_exito = 0.67\n",
    "apellido = \"Orozco\""
   ]
  },
  {
   "cell_type": "markdown",
   "id": "bb411098-21db-4220-a4f7-f6732be51521",
   "metadata": {},
   "source": [
    "## Listas "
   ]
  },
  {
   "cell_type": "code",
   "execution_count": 7,
   "id": "6f4be81c-a1f8-4f7c-bd32-65e6f10fc466",
   "metadata": {},
   "outputs": [
    {
     "data": {
      "text/plain": [
       "list"
      ]
     },
     "execution_count": 7,
     "metadata": {},
     "output_type": "execute_result"
    }
   ],
   "source": [
    "alumnos = [\"Fraire\",\"Parras\",\"Rivas\",\"Alcaraz\",\"Minakata\",\"Galvan\"]\n",
    "type(alumnos)"
   ]
  },
  {
   "cell_type": "code",
   "execution_count": 9,
   "id": "c5015cf9-6745-47a5-88ef-adccad2e9955",
   "metadata": {},
   "outputs": [
    {
     "data": {
      "text/plain": [
       "['Fraire', 'Parras', 'Rivas', 'Alcaraz', 'Minakata', 'Galvan', 'Juaregui']"
      ]
     },
     "execution_count": 9,
     "metadata": {},
     "output_type": "execute_result"
    }
   ],
   "source": [
    "alumnos.append(\"Juaregui\")\n",
    "alumnos"
   ]
  },
  {
   "cell_type": "code",
   "execution_count": 11,
   "id": "8a4691ab-bf41-4f38-9d8c-7b8a8efe4e88",
   "metadata": {},
   "outputs": [
    {
     "data": {
      "text/plain": [
       "'Fraire'"
      ]
     },
     "execution_count": 11,
     "metadata": {},
     "output_type": "execute_result"
    }
   ],
   "source": [
    "alumnos[0]"
   ]
  },
  {
   "cell_type": "code",
   "execution_count": 15,
   "id": "4c22776a-8f8e-4394-bf92-443279410f8a",
   "metadata": {},
   "outputs": [
    {
     "data": {
      "text/plain": [
       "'Juaregui'"
      ]
     },
     "execution_count": 15,
     "metadata": {},
     "output_type": "execute_result"
    }
   ],
   "source": [
    "alumnos[6]"
   ]
  },
  {
   "cell_type": "code",
   "execution_count": 17,
   "id": "8abc4f86-88ca-4a15-a2cb-553e046ec651",
   "metadata": {},
   "outputs": [
    {
     "data": {
      "text/plain": [
       "'Juaregui'"
      ]
     },
     "execution_count": 17,
     "metadata": {},
     "output_type": "execute_result"
    }
   ],
   "source": [
    "alumnos[-1]"
   ]
  },
  {
   "cell_type": "code",
   "execution_count": 19,
   "id": "eecfcf5c-42e3-46a6-85e9-fa946267a47b",
   "metadata": {},
   "outputs": [
    {
     "data": {
      "text/plain": [
       "\u001b[1;31mSignature:\u001b[0m \u001b[0malumnos\u001b[0m\u001b[1;33m.\u001b[0m\u001b[0minsert\u001b[0m\u001b[1;33m(\u001b[0m\u001b[0mindex\u001b[0m\u001b[1;33m,\u001b[0m \u001b[0mobject\u001b[0m\u001b[1;33m,\u001b[0m \u001b[1;33m/\u001b[0m\u001b[1;33m)\u001b[0m\u001b[1;33m\u001b[0m\u001b[1;33m\u001b[0m\u001b[0m\n",
       "\u001b[1;31mDocstring:\u001b[0m Insert object before index.\n",
       "\u001b[1;31mType:\u001b[0m      builtin_function_or_method"
      ]
     },
     "metadata": {},
     "output_type": "display_data"
    }
   ],
   "source": [
    "alumnos.insert?"
   ]
  },
  {
   "cell_type": "code",
   "execution_count": 21,
   "id": "f321df2c-548e-45e0-be67-4a13b5e475e4",
   "metadata": {},
   "outputs": [],
   "source": [
    "alumnos.insert(4,\"Velazquez\")\n"
   ]
  },
  {
   "cell_type": "code",
   "execution_count": 23,
   "id": "8b84727b-141e-429c-939b-7978224ff04b",
   "metadata": {},
   "outputs": [
    {
     "data": {
      "text/plain": [
       "['Fraire',\n",
       " 'Parras',\n",
       " 'Rivas',\n",
       " 'Alcaraz',\n",
       " 'Velazquez',\n",
       " 'Minakata',\n",
       " 'Galvan',\n",
       " 'Juaregui']"
      ]
     },
     "execution_count": 23,
     "metadata": {},
     "output_type": "execute_result"
    }
   ],
   "source": [
    "alumnos"
   ]
  },
  {
   "cell_type": "code",
   "execution_count": 27,
   "id": "1c0795ae-d858-4e7c-ad39-32cca77774bb",
   "metadata": {},
   "outputs": [
    {
     "data": {
      "text/plain": [
       "['Fraire', 'Parras', 'Rivas', 'Alcaraz', 'Minakata', 'Galvan', 'Juaregui']"
      ]
     },
     "execution_count": 27,
     "metadata": {},
     "output_type": "execute_result"
    }
   ],
   "source": [
    "alumnos.remove(\"Velazquez\")\n",
    "alumnos"
   ]
  },
  {
   "cell_type": "code",
   "execution_count": 29,
   "id": "908d91a4-a935-4231-b8d4-1d3eb76179a7",
   "metadata": {},
   "outputs": [
    {
     "data": {
      "text/plain": [
       "'Rivas'"
      ]
     },
     "execution_count": 29,
     "metadata": {},
     "output_type": "execute_result"
    }
   ],
   "source": [
    "alumnos.pop(2) ## adffwrewffwefwf"
   ]
  },
  {
   "cell_type": "code",
   "execution_count": 31,
   "id": "c251ea2b-f0ed-439e-a75d-d1e89d50be39",
   "metadata": {},
   "outputs": [
    {
     "data": {
      "text/plain": [
       "['Fraire', 'Parras', 'Alcaraz', 'Minakata', 'Galvan', 'Juaregui']"
      ]
     },
     "execution_count": 31,
     "metadata": {},
     "output_type": "execute_result"
    }
   ],
   "source": [
    "alumnos"
   ]
  },
  {
   "cell_type": "code",
   "execution_count": 37,
   "id": "562a42a3-f434-4381-817a-870ac8419f53",
   "metadata": {},
   "outputs": [
    {
     "data": {
      "text/plain": [
       "['Morales', True, 3.141592, 8]"
      ]
     },
     "execution_count": 37,
     "metadata": {},
     "output_type": "execute_result"
    }
   ],
   "source": [
    "\n",
    "lista1 = [\"Morales\" , True , 3.141592 , 8]\n",
    "lista1 "
   ]
  },
  {
   "cell_type": "code",
   "execution_count": 41,
   "id": "0579f2ce-0ae1-4cb4-96b0-fd811912082b",
   "metadata": {},
   "outputs": [
    {
     "data": {
      "text/plain": [
       "['abc', ['Morales', True, 3.141592, 8]]"
      ]
     },
     "execution_count": 41,
     "metadata": {},
     "output_type": "execute_result"
    }
   ],
   "source": [
    "lista2 = [\"abc\", lista1]\n",
    "lista2"
   ]
  },
  {
   "cell_type": "code",
   "execution_count": 43,
   "id": "b3137409-349e-475d-9f51-458d459a8537",
   "metadata": {},
   "outputs": [],
   "source": [
    "lista = [88,24,42,8,12,7,777]"
   ]
  },
  {
   "cell_type": "code",
   "execution_count": 45,
   "id": "d2dc7efe-ad29-4d72-86e7-0749b8858c50",
   "metadata": {},
   "outputs": [
    {
     "data": {
      "text/plain": [
       "88"
      ]
     },
     "execution_count": 45,
     "metadata": {},
     "output_type": "execute_result"
    }
   ],
   "source": [
    "lista[0]"
   ]
  },
  {
   "cell_type": "code",
   "execution_count": 47,
   "id": "d1cdc54a-5c06-4dd2-afb8-3865ccbdd10f",
   "metadata": {},
   "outputs": [
    {
     "data": {
      "text/plain": [
       "24"
      ]
     },
     "execution_count": 47,
     "metadata": {},
     "output_type": "execute_result"
    }
   ],
   "source": [
    "lista[1]"
   ]
  },
  {
   "cell_type": "code",
   "execution_count": 49,
   "id": "2e68e350-d957-4ea9-9d15-17dd5d55a723",
   "metadata": {},
   "outputs": [
    {
     "name": "stdout",
     "output_type": "stream",
     "text": [
      "88\n",
      "24\n",
      "42\n",
      "8\n",
      "12\n",
      "7\n",
      "777\n"
     ]
    }
   ],
   "source": [
    "i = 0\n",
    "while i < len(lista):\n",
    "    print(lista[i])\n",
    "    i += 1 \n"
   ]
  },
  {
   "cell_type": "code",
   "execution_count": 51,
   "id": "1ff1f621-90e9-4d60-a1f4-5d2e67a8f887",
   "metadata": {},
   "outputs": [
    {
     "name": "stdout",
     "output_type": "stream",
     "text": [
      "88\n",
      "24\n",
      "42\n",
      "8\n",
      "12\n",
      "7\n",
      "777\n"
     ]
    }
   ],
   "source": [
    "for elemento in lista : \n",
    "    print( elemento)"
   ]
  },
  {
   "cell_type": "markdown",
   "id": "ca53f7a0-e5af-4bdb-a323-87d4f271aba9",
   "metadata": {},
   "source": [
    "## Funciones "
   ]
  },
  {
   "cell_type": "code",
   "execution_count": 54,
   "id": "794fcff6-72b5-483f-a598-06d4b56d5251",
   "metadata": {},
   "outputs": [],
   "source": [
    "def funcion1():\n",
    "    print(\"Hola\")"
   ]
  },
  {
   "cell_type": "code",
   "execution_count": 60,
   "id": "c93affac-5fe3-415b-a16a-31c7c3178e2f",
   "metadata": {},
   "outputs": [
    {
     "name": "stdout",
     "output_type": "stream",
     "text": [
      "Hola\n"
     ]
    }
   ],
   "source": [
    "funcion1()"
   ]
  },
  {
   "cell_type": "code",
   "execution_count": 64,
   "id": "897aeedd-055e-44f8-be9e-c21fc8c70033",
   "metadata": {},
   "outputs": [],
   "source": [
    "def suma(a,b):\n",
    "    resultado = a +b \n",
    "    return resultado "
   ]
  },
  {
   "cell_type": "code",
   "execution_count": 74,
   "id": "b79a45fb-a253-4c62-b0f3-5d1442c9ce51",
   "metadata": {},
   "outputs": [
    {
     "data": {
      "text/plain": [
       "8"
      ]
     },
     "execution_count": 74,
     "metadata": {},
     "output_type": "execute_result"
    }
   ],
   "source": [
    "suma(5,3 )"
   ]
  },
  {
   "cell_type": "code",
   "execution_count": 70,
   "id": "9ba90cde-bdaa-4566-a318-d38593f92129",
   "metadata": {},
   "outputs": [],
   "source": [
    "def multiplicacion(a ,b):\n",
    "    resultado = a*b\n",
    "    return resultado"
   ]
  },
  {
   "cell_type": "code",
   "execution_count": 96,
   "id": "2aa7a699-4537-4b25-a243-8430471d6273",
   "metadata": {},
   "outputs": [
    {
     "ename": "TypeError",
     "evalue": "multiplicacion() takes 0 positional arguments but 2 were given",
     "output_type": "error",
     "traceback": [
      "\u001b[1;31m---------------------------------------------------------------------------\u001b[0m",
      "\u001b[1;31mTypeError\u001b[0m                                 Traceback (most recent call last)",
      "Cell \u001b[1;32mIn[96], line 1\u001b[0m\n\u001b[1;32m----> 1\u001b[0m multiplicacion(\u001b[38;5;241m10\u001b[39m,\u001b[38;5;241m4\u001b[39m)\n",
      "\u001b[1;31mTypeError\u001b[0m: multiplicacion() takes 0 positional arguments but 2 were given"
     ]
    }
   ],
   "source": [
    "    multiplicacion(10,4)"
   ]
  },
  {
   "cell_type": "code",
   "execution_count": 90,
   "id": "db756fa5-ef59-4baa-9b1e-58ab1987eca0",
   "metadata": {},
   "outputs": [],
   "source": [
    "def factorial():\n",
    "    i = a\n",
    "    acc = 1\n",
    "    while i <= a :\n",
    "        acc = acc*i\n",
    "        i += 1\n",
    "        return acc\n",
    "        factorial(5)"
   ]
  },
  {
   "cell_type": "code",
   "execution_count": 84,
   "id": "1bf8655f-64c7-4ed5-a715-e50510e7c66e",
   "metadata": {},
   "outputs": [
    {
     "data": {
      "text/plain": [
       "list"
      ]
     },
     "execution_count": 84,
     "metadata": {},
     "output_type": "execute_result"
    }
   ],
   "source": [
    "lista = [2,4,7,10,8]\n",
    "type(lista)"
   ]
  },
  {
   "cell_type": "code",
   "execution_count": 98,
   "id": "4a9e6ae8-6da5-493c-9892-2c896521ad81",
   "metadata": {},
   "outputs": [
    {
     "name": "stdout",
     "output_type": "stream",
     "text": [
      "11\n"
     ]
    }
   ],
   "source": [
    "def funcion(a, b ,c= 5  ):\n",
    "    print(a  + b + c )\n",
    "    \n",
    "funcion(b =3,a = 7 , c = 1)"
   ]
  },
  {
   "cell_type": "markdown",
   "id": "9e2abccf-3365-4338-b0c0-d730fa97f634",
   "metadata": {},
   "source": [
    "# Actividad "
   ]
  },
  {
   "cell_type": "markdown",
   "id": "0fdc8ffb-18ad-4d4f-bf30-17bc628e8b75",
   "metadata": {},
   "source": [
    "1. Pasar a una funcion de codigo de encontrar un numero primo que retorne True si si es primo y False si no.\n",
    "\n",
    " $$ es primo(a) $$\n",
    " \n",
    "\n",
    " "
   ]
  },
  {
   "cell_type": "code",
   "execution_count": 115,
   "id": "13805c43-34ae-4d90-ad64-08cb414bf8d2",
   "metadata": {},
   "outputs": [
    {
     "ename": "SyntaxError",
     "evalue": "invalid syntax (3300758262.py, line 5)",
     "output_type": "error",
     "traceback": [
      "\u001b[1;36m  Cell \u001b[1;32mIn[115], line 5\u001b[1;36m\u001b[0m\n\u001b[1;33m    else :\u001b[0m\n\u001b[1;37m    ^\u001b[0m\n\u001b[1;31mSyntaxError\u001b[0m\u001b[1;31m:\u001b[0m invalid syntax\n"
     ]
    }
   ],
   "source": [
    "def numeroprimo(n):\n",
    "  if n == 1 or n== 0:\n",
    "    return False \n",
    "    elif n == 2:\n",
    "        return True\n",
    "elif n > 2: \n",
    "    for divisor in range(2,n):\n",
    "        if n % divisor == 0:\n",
    "            return False \n",
    "        elif n % divisor != 0 and divisor == n-1\n",
    "            return True \n",
    "\n",
    "            \n",
    "\n",
    "\n",
    " "
   ]
  },
  {
   "cell_type": "markdown",
   "id": "b14ebb40-c98d-4acc-b56b-c427b474a5c5",
   "metadata": {},
   "source": [
    "2. Crear una funcion que ingrese un numero a y que encuentre el número primo cercano.\n",
    "$$ 0 <= a <= 100 $$"
   ]
  },
  {
   "cell_type": "code",
   "execution_count": null,
   "id": "68ff3a6e-665d-4940-84bc-5755bb7fc636",
   "metadata": {},
   "outputs": [],
   "source": [
    "def es_primo(n):\n",
    "    a=10\n",
    "    if n <= 1:\n",
    "        return False\n",
    "    if n <= 3:\n",
    "        return True\n",
    "    if n % 2 == 0 or n % 3 == 0:\n",
    "        return False\n",
    "    i = 5\n",
    "    while i * i <= n:\n",
    "        if n % i == 0 or n % (i + 2) == 0:\n",
    "            return False\n",
    "        i += 6\n",
    "    return True\n",
    "\n",
    "def primo_mas_cercano(a):\n",
    "    if es_primo(a):\n",
    "        return a\n",
    "\n",
    "    menor = a - 1\n",
    "    mayor = a + 1\n",
    "\n",
    "    while True:\n",
    "        if es_primo(menor):\n",
    "            return menor\n",
    "        if es_primo(mayor):\n",
    "            return mayor\n",
    "\n",
    "        menor -= 1\n",
    "        mayor += 1\n",
    "\n",
    "\n",
    "primo_cercano = primo_mas_cercano(a)\n"
   ]
  },
  {
   "cell_type": "markdown",
   "id": "bd47537d-26b3-4c71-9fb5-4f8e3fec08dd",
   "metadata": {},
   "source": [
    "3. Pasar a una funcion el codigo de encontrar factorial y encontrar factorial de los siguientes números:\n",
    "* 4\n",
    "* 7\n",
    "* 5\n",
    "* 8\n",
    "* 9\n",
    "* 3\n",
    "No encontrar factoriales de uno en uno "
   ]
  },
  {
   "cell_type": "code",
   "execution_count": 117,
   "id": "002419ef-24be-407a-84cb-73cd35413d59",
   "metadata": {},
   "outputs": [],
   "source": [
    "def factorial():\n",
    "    i = a\n",
    "    acc = 1\n",
    "    while i <= a :\n",
    "        acc = acc*i\n",
    "        i += 1\n",
    "        return acc\n",
    "        factorial(5)"
   ]
  },
  {
   "cell_type": "code",
   "execution_count": 119,
   "id": "216532bf-f65e-4ae2-ac0d-cc9b2701ad72",
   "metadata": {},
   "outputs": [
    {
     "ename": "TypeError",
     "evalue": "factorial() takes 0 positional arguments but 1 was given",
     "output_type": "error",
     "traceback": [
      "\u001b[1;31m---------------------------------------------------------------------------\u001b[0m",
      "\u001b[1;31mTypeError\u001b[0m                                 Traceback (most recent call last)",
      "Cell \u001b[1;32mIn[119], line 1\u001b[0m\n\u001b[1;32m----> 1\u001b[0m factorial(\u001b[38;5;241m4\u001b[39m)\n",
      "\u001b[1;31mTypeError\u001b[0m: factorial() takes 0 positional arguments but 1 was given"
     ]
    }
   ],
   "source": [
    "factorial(4)\n",
    "factorial(7)\n",
    "factorial(5)"
   ]
  },
  {
   "cell_type": "code",
   "execution_count": null,
   "id": "a87d94c0-122b-4ada-a508-ae2ee15b5d25",
   "metadata": {},
   "outputs": [],
   "source": []
  }
 ],
 "metadata": {
  "kernelspec": {
   "display_name": "Python 3 (ipykernel)",
   "language": "python",
   "name": "python3"
  },
  "language_info": {
   "codemirror_mode": {
    "name": "ipython",
    "version": 3
   },
   "file_extension": ".py",
   "mimetype": "text/x-python",
   "name": "python",
   "nbconvert_exporter": "python",
   "pygments_lexer": "ipython3",
   "version": "3.12.4"
  }
 },
 "nbformat": 4,
 "nbformat_minor": 5
}
