{
 "cells": [
  {
   "cell_type": "markdown",
   "id": "ddbc8e63-c363-4b2c-a84d-571af892f1cf",
   "metadata": {},
   "source": [
    "Jose Manuel Orozco Martinez 22/10/24"
   ]
  },
  {
   "cell_type": "markdown",
   "id": "28ac033e-3002-43ee-b541-d4d26ffcd350",
   "metadata": {},
   "source": [
    "# Distribuciones de Probabilidad "
   ]
  },
  {
   "cell_type": "markdown",
   "id": "4d77ecc5-d15d-40b3-a908-621696645de9",
   "metadata": {},
   "source": [
    "\n",
    "**1.-** Un proyecto de construcción está por comenzar. Se hace la compra de los materiales y el proveedor dice que en promedio tardan una semana con una desviación de 3 días en llegar. Una vez llegados los materiales se tarda entre 3 y 5 semanas en construir (uniforme). Después de la construcción se deben esperar 3 días antes de empezar a pintar, y toma 6 días en promedio con 2 días de desviación estándar hacerlo.\n",
    "\n",
    "**a)** Describe en una celda qué distribución usarías para cada paso del proceso"
   ]
  },
  {
   "cell_type": "markdown",
   "id": "7c0ccb35-9b01-48c0-82d8-29e63826e8d6",
   "metadata": {},
   "source": [
    "1.Tiempo de entrega de materiales:\n",
    "\n",
    "* Distribución Normal con media de 7 días y desviación estándar de 3 días.\n",
    "  \n",
    "2.Tiempo de construcción:\n",
    "  \n",
    "* Distribución Uniforme entre 3 y 5 semanas (21 a 35 días).\n",
    "\n",
    "3.Tiempo de espera antes de pintar:\n",
    "  \n",
    "* Distribución Constante de 3 días (siempre 3 días).\n",
    "  \n",
    "4.Tiempo de pintura:\n",
    "\n",
    "* Distribución Normal con media de 6 días y desviación estándar de 2 días."
   ]
  },
  {
   "cell_type": "markdown",
   "id": "30d38c0b-6084-4b60-ba07-e55cbbe5c6ff",
   "metadata": {},
   "source": [
    "**b)** Simula cada paso en el proceso un millón de veces\n"
   ]
  },
  {
   "cell_type": "code",
   "execution_count": 252,
   "id": "6ae98592-be1f-4d98-9839-a12daf11e71a",
   "metadata": {},
   "outputs": [],
   "source": [
    "import numpy as np\n",
    "\n",
    "\n",
    "np.random.seed(42)\n",
    "\n",
    "n_sim = 1000000\n",
    "\n",
    "tiempo_espera_pintar = np.full(n_sim, 3) \n",
    "tiempo_entrega_materiales = np.random.normal(loc=7, scale=3, size=n_sim)\n",
    "tiempo_construccion = np.random.uniform(low=21, high=36, size=n_sim)\n",
    "\n",
    "\n",
    "tiempo_pintura = np.random.normal(loc=6, scale=2, size=n_sim)\n",
    "tiempo_pintura = np.maximum(tiempo_pintura, 0)\n"
   ]
  },
  {
   "cell_type": "markdown",
   "id": "dae1d140-67bd-419d-805c-2f2c910354ed",
   "metadata": {},
   "source": [
    "**c)** Agrupa las simulaciones de cada paso para tener la simulación del proceso completo"
   ]
  },
  {
   "cell_type": "code",
   "execution_count": 254,
   "id": "0efe8e68-d40f-45ae-af21-911a5f82910c",
   "metadata": {},
   "outputs": [],
   "source": [
    "tiempo_total_proyecto = (\n",
    "    tiempo_entrega_materiales + \n",
    "    tiempo_construccion + \n",
    "    tiempo_espera_pintar + \n",
    "    tiempo_pintura\n",
    ")\n"
   ]
  },
  {
   "cell_type": "markdown",
   "id": "344f4c20-4d75-4d0f-9c96-fc931737c6d7",
   "metadata": {},
   "source": [
    "**d)** ¿Cuál es el tiempo promedio para de inicio-fin del proyecto?"
   ]
  },
  {
   "cell_type": "code",
   "execution_count": 256,
   "id": "ca5e1081-ae38-4e68-a2f8-eb5ef3f80619",
   "metadata": {},
   "outputs": [
    {
     "data": {
      "text/plain": [
       "44.491695156848735"
      ]
     },
     "execution_count": 256,
     "metadata": {},
     "output_type": "execute_result"
    }
   ],
   "source": [
    "tiempo_promedio = np.mean(tiempo_total_proyecto)\n",
    "tiempo_promedio\n"
   ]
  },
  {
   "cell_type": "markdown",
   "id": "347ad571-4541-4b6e-977e-cebe742cae55",
   "metadata": {},
   "source": [
    "**e)** De acuerdo a tus simulaciones, ¿cuál es el peor caso? ¿cuál es el mejor caso?"
   ]
  },
  {
   "cell_type": "code",
   "execution_count": 258,
   "id": "782ade12-f7cc-4ca9-9e2f-a1fc75be0d3e",
   "metadata": {},
   "outputs": [
    {
     "data": {
      "text/plain": [
       "(22.069410441769605, 65.99181783105071)"
      ]
     },
     "execution_count": 258,
     "metadata": {},
     "output_type": "execute_result"
    }
   ],
   "source": [
    "mejor_caso = np.min(tiempo_total_proyecto)\n",
    "peor_caso = np.max(tiempo_total_proyecto)\n",
    "\n",
    "mejor_caso, peor_caso\n"
   ]
  },
  {
   "cell_type": "markdown",
   "id": "aeb239f4-6aec-4e2a-9c52-b842559a1d88",
   "metadata": {},
   "source": [
    "\n",
    "**f)** Si el proyecto se tiene que entregar a más tardar en 50 días o se tiene que pagar una compensación al cliente, ¿cuál es la probabilidad de que el proyecto se entregue a tiempo?"
   ]
  },
  {
   "cell_type": "code",
   "execution_count": 262,
   "id": "db112179-7323-44a6-911e-841e5741d96e",
   "metadata": {},
   "outputs": [
    {
     "data": {
      "text/plain": [
       "0.823427"
      ]
     },
     "execution_count": 262,
     "metadata": {},
     "output_type": "execute_result"
    }
   ],
   "source": [
    "probabilidad_atiempo = np.mean(tiempo_total_proyecto <= 50)\n",
    "probabilidad_atiempo\n"
   ]
  },
  {
   "cell_type": "markdown",
   "id": "53aa33cd-63ce-43b2-9b4f-74d48377e9b4",
   "metadata": {},
   "source": [
    "**g)** ¿Cuál es la probabilidad de que el proyecto tome entre 20 y 40 días?"
   ]
  },
  {
   "cell_type": "code",
   "execution_count": 266,
   "id": "2c8ecd53-5a45-43c3-a1d9-384d98ae7750",
   "metadata": {},
   "outputs": [
    {
     "data": {
      "text/plain": [
       "0.227679"
      ]
     },
     "execution_count": 266,
     "metadata": {},
     "output_type": "execute_result"
    }
   ],
   "source": [
    "probabilidad_entre_20_40 = np.mean((tiempo_total_proyecto >= 20) & (tiempo_total_proyecto <= 40))\n",
    "probabilidad_entre_20_40\n"
   ]
  },
  {
   "cell_type": "markdown",
   "id": "ffe3ce99-e936-44ff-b2e4-5903c71723ff",
   "metadata": {},
   "source": [
    "**2.-** Hay un elevador pequeño en una plaza donde se espera que entren máximo 4 personas a la vez, y su capacidad de peso para poder operar es de 300 kg. En el último censo se encontró que habían 378350 personas en la zona:\n",
    "\n",
    "185392 mujeres\n",
    "162690 hombres\n",
    "30268 personas que o prefirieron no dar la información o se identificaron como no binarias\n",
    "El peso promedio medido en mujeres es de 70 kg con una desviación estándar de 11 kg. En los hombres se midió un peso promedio de 80 kg y una desviación estándar de 16 kg. En el tercer grupo se midió un peso promedio de 73 kg con una desviación estándar de 12 kg.\n",
    "\n",
    "**a)** Si el elevador se llenara 10,000 veces, ¿cuántas de esas veces se excedería el peso permitido?"
   ]
  },
  {
   "cell_type": "code",
   "execution_count": 218,
   "id": "54b11760-2bce-4a4d-baf6-50911d53efbf",
   "metadata": {},
   "outputs": [
    {
     "data": {
      "text/plain": [
       "3829"
      ]
     },
     "execution_count": 218,
     "metadata": {},
     "output_type": "execute_result"
    }
   ],
   "source": [
    "import numpy as np\n",
    "peso_max = 300  \n",
    "n_sim= 10000\n",
    "max_p= 4\n",
    "\n",
    "peso_m = 70  \n",
    "desviacion_m = 11  \n",
    "peso_h = 80  \n",
    "desviacion_h = 16 \n",
    "peso_no_binarios = 73\n",
    "desviacion_no_binarios = 12  \n",
    "\n",
    "def simular_pesos(n):\n",
    "   \n",
    "    num_m = np.random.randint(0, max_p+ 1)\n",
    "    num_h = np.random.randint(0, max_p+ 1 - num_m)\n",
    "    num_no_binarios = max_personas - (num_m + num_h)\n",
    "    \n",
    "    pesos = []\n",
    "    pesos.extend(np.random.normal(peso_m, desviacion_m, num_m))\n",
    "    pesos.extend(np.random.normal(peso_h, desviacion_h, num_h))\n",
    "    pesos.extend(np.random.normal(peso_no_binarios, desviacion_no_binarios, num_no_binarios))\n",
    "    \n",
    "    return np.sum(pesos)\n",
    "\n",
    "\n",
    "pesos_totales = [simular_pesos(max_personas) for _ in range(n_simulaciones)]\n",
    "\n",
    "excedidos = np.sum(np.array(pesos_totales) > peso_maximo)\n",
    "excedidos\n"
   ]
  },
  {
   "cell_type": "markdown",
   "id": "207a9520-3626-44f4-8a3d-5bafd22934a3",
   "metadata": {},
   "source": [
    "**b)** ¿Qué peso total tendría que soportar el elevador si se quiere que el 95% de las veces que se llene no se exceda el peso permitido?"
   ]
  },
  {
   "cell_type": "code",
   "execution_count": 237,
   "id": "ac7b775b-4557-4fc7-abbe-9c0c9a1cec2d",
   "metadata": {},
   "outputs": [
    {
     "data": {
      "text/plain": [
       "340.34771424212124"
      ]
     },
     "execution_count": 237,
     "metadata": {},
     "output_type": "execute_result"
    }
   ],
   "source": [
    "peso_95 = np.percentile(pesos_totales, 95)\n",
    "peso_95\n"
   ]
  },
  {
   "cell_type": "markdown",
   "id": "ad409e77-ddc8-4685-8b77-40b9a369b900",
   "metadata": {},
   "source": [
    "**3.-** Tienes diez dados justos. Si arrojas todos al mismo tiempo, ¿cuál es la probabilidad de que la suma de los dados sea múltiplo de 6?"
   ]
  },
  {
   "cell_type": "code",
   "execution_count": 235,
   "id": "1230ee6d-c184-4e53-91a3-8994f65da300",
   "metadata": {},
   "outputs": [
    {
     "data": {
      "text/plain": [
       "0.16797"
      ]
     },
     "execution_count": 235,
     "metadata": {},
     "output_type": "execute_result"
    }
   ],
   "source": [
    "import numpy as np\n",
    "\n",
    "\n",
    "n_sim = 100000\n",
    "contador_multiplos_6 = 0\n",
    "\n",
    "for _ in range(n_sim):\n",
    "\n",
    "    dados = np.random.randint(1, 7, size=10)\n",
    "    suma_dados = np.sum(dados)\n",
    "    \n",
    "   \n",
    "    if suma_dados % 6 == 0:\n",
    "        contador_multiplos_6 += 1\n",
    "\n",
    "\n",
    "probabilidad = contador_multiplos_6 / n_sim\n",
    "probabilidad\n"
   ]
  },
  {
   "cell_type": "markdown",
   "id": "6fe333ff-7c7e-466f-85c9-d5628e238225",
   "metadata": {},
   "source": [
    "**4.**- A y B juegan al siguiente juego: un número k del 1 al 6 es elegido, y A y B avientan el dado por turnos hasta que alguien consiga que el dado caiga en k. El ganador recibe $100.\n",
    "\n",
    "**a)** ¿Cuál es la probabilidad de que el primer jugador gane?\n"
   ]
  },
  {
   "cell_type": "code",
   "execution_count": 245,
   "id": "ed97f84d-7aaf-4ab3-9517-1304186e3cf5",
   "metadata": {},
   "outputs": [
    {
     "data": {
      "text/plain": [
       "0.54522"
      ]
     },
     "execution_count": 245,
     "metadata": {},
     "output_type": "execute_result"
    }
   ],
   "source": [
    "import numpy as np\n",
    "\n",
    "np.random.seed(42)\n",
    "\n",
    "n_sim = 100000\n",
    "\n",
    "k = np.random.randint(1, 7)\n",
    "\n",
    "contador_a_gana = 0\n",
    "\n",
    "for _ in range(n_sim):\n",
    "    # Turno de A\n",
    "    while True:\n",
    "        lanzamiento_a = np.random.randint(1, 7) \n",
    "        if lanzamiento_a == k:\n",
    "            contador_a_gana += 1  \n",
    "            break\n",
    "        \n",
    "        # Turno de B\n",
    "        lanzamiento_b = np.random.randint(1, 7)  \n",
    "        if lanzamiento_b == k:\n",
    "            break \n",
    "\n",
    "probabilidad_a_gana = contador_a_gana / n_sim\n",
    "probabilidad_a_gana\n"
   ]
  },
  {
   "cell_type": "markdown",
   "id": "1e78db8c-57d7-48ad-8fa6-368dddbeaa7d",
   "metadata": {},
   "source": [
    "**b)** ¿Cuál es la probabilidad de que el segundo jugador gane?"
   ]
  },
  {
   "cell_type": "code",
   "execution_count": 247,
   "id": "0983f219-ec14-4a3c-8eb3-1cb91fd24f92",
   "metadata": {},
   "outputs": [
    {
     "data": {
      "text/plain": [
       "0.45643"
      ]
     },
     "execution_count": 247,
     "metadata": {},
     "output_type": "execute_result"
    }
   ],
   "source": [
    "probabilidad_B = jugador_B_gana / n_sim\n",
    "probabilidad_B\n"
   ]
  },
  {
   "cell_type": "markdown",
   "id": "25f9230d-420b-4168-88ed-a23897a8de44",
   "metadata": {},
   "source": [
    "**c)** ¿Cuánto vale la pena pagar para ir primero?"
   ]
  },
  {
   "cell_type": "code",
   "execution_count": 249,
   "id": "c5569def-773e-4312-862d-4a09dea4a79b",
   "metadata": {},
   "outputs": [
    {
     "data": {
      "text/plain": [
       "543.5699999999999"
      ]
     },
     "execution_count": 249,
     "metadata": {},
     "output_type": "execute_result"
    }
   ],
   "source": [
    "valor_p = probabilidad_A * 100  \n",
    "valor_p"
   ]
  },
  {
   "cell_type": "code",
   "execution_count": null,
   "id": "c40d1eb1-5b4e-4b02-ac9c-83d01533e5ce",
   "metadata": {},
   "outputs": [],
   "source": []
  }
 ],
 "metadata": {
  "kernelspec": {
   "display_name": "Python 3 (ipykernel)",
   "language": "python",
   "name": "python3"
  },
  "language_info": {
   "codemirror_mode": {
    "name": "ipython",
    "version": 3
   },
   "file_extension": ".py",
   "mimetype": "text/x-python",
   "name": "python",
   "nbconvert_exporter": "python",
   "pygments_lexer": "ipython3",
   "version": "3.12.4"
  }
 },
 "nbformat": 4,
 "nbformat_minor": 5
}
