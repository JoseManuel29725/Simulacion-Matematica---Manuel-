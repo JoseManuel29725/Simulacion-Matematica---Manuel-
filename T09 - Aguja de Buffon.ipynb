{
 "cells": [
  {
   "cell_type": "markdown",
   "id": "6c02d208-e7f6-4a33-b6a9-32ecfaf42493",
   "metadata": {},
   "source": [
    "# T09 - Aguja de Buffon"
   ]
  },
  {
   "cell_type": "markdown",
   "id": "256efdd8-f3a2-4242-b715-2dab52f64781",
   "metadata": {},
   "source": [
    "## Investiga el problema de la aguja de Buffon."
   ]
  },
  {
   "cell_type": "markdown",
   "id": "d813aebc-f48c-4506-aa3f-9f81e779b9ed",
   "metadata": {},
   "source": [
    "El problema de la aguja de Buffon es un experimento clásico en probabilidad geométrica, planteado por el matemático francés Georges-Louis Leclerc, conde de Buffon, en el siglo XVIII. De los trabajos de Buffon en matemáticas se destaca un problema que propuso en 1733 y que retomó en 1757. En su forma más sencilla de plantearlo, se trata de lanzar una aguja (al azar) sobre una superficie horizontal en la que están trazadas unas líneas paralelas equidistantes. Se pide calcular la probabilidad de que la aguja corte al menos a una de las rectas paralelas."
   ]
  },
  {
   "cell_type": "markdown",
   "id": "52280bfb-6b41-415e-bfe4-4d4db4f9e471",
   "metadata": {},
   "source": [
    "El problema de la aguja de Buffon nos ofrece una manera diferente de descubrir a π. La tradicional es trazando un círculo y dividiendo lo que mide su circunferencia entre lo que mide su diámetro."
   ]
  },
  {
   "cell_type": "markdown",
   "id": "e183f3f6-ee9b-4819-95c8-ff1f8bd6f68a",
   "metadata": {},
   "source": [
    "La probabilidad de que la aguja cruce una línea paralela está dada por: $(2L)/(Dπ)$"
   ]
  },
  {
   "cell_type": "markdown",
   "id": "9ebb89b4-099d-4fc1-bd30-e7223eea7186",
   "metadata": {},
   "source": [
    "$L:$ a la longitud de la aguja"
   ]
  },
  {
   "cell_type": "markdown",
   "id": "d566438a-8125-4206-a603-a60a191ad884",
   "metadata": {},
   "source": [
    "$D$: distancia entre las lineas paralelas"
   ]
  },
  {
   "cell_type": "markdown",
   "id": "e070636b-9ca5-4bde-9ab4-a4fc6d92d9e4",
   "metadata": {},
   "source": [
    "# Explica la solución con cálculo integral usando mis palabras."
   ]
  },
  {
   "cell_type": "markdown",
   "id": "34d239c2-3d5b-4ebd-a916-7aa54d7d3701",
   "metadata": {},
   "source": [
    "**Variables del problema:**"
   ]
  },
  {
   "cell_type": "markdown",
   "id": "0f53960a-948c-4b59-a844-01161543bd8b",
   "metadata": {},
   "source": [
    "$x$: La distancia desde el centro de la aguja hasta la línea más cercana (entre 0 y D/2).\n",
    "\n",
    "$θ$: El ángulo entre la aguja y las líneas paralelas (entre 0 y π/2).\n",
    "\n",
    "la condicion cuando la aguja cruce una linea paralela osea que sea mayor que \"x\" es: \n",
    "\n",
    "$(L/2)sin(θ) \\geq  x$"
   ]
  },
  {
   "cell_type": "markdown",
   "id": "f6f0c380-dd1f-4539-a9c5-70c0a1054534",
   "metadata": {},
   "source": [
    "#### Cálculo de la probabilidad usando integrales:\n",
    "\n",
    "* la probabilidad de que cruce es integrando todas las combinaciones posibles de x y θ\n",
    "* la distancia en x puede variar como ya habia dicho entre 0 y D/2 para cada x , esto los debemos integrar respecto al angulo θ\n",
    "* El ángulo θ varia entre entre 0 y π/2 para un valor de x la aguja solo cruzara si:\n",
    "\n",
    "$sin(θ) \\geq (2x/L) $\n",
    "\n",
    "* Por lo tanto, para cada x, θ debe estar dentro del intervalo:\n",
    "\n",
    " $\\theta \\in \\left[ \\arcsin\\left(\\frac{2x}{L}\\right), \\frac{\\pi}{2} \\right]$\r\n"
   ]
  },
  {
   "cell_type": "markdown",
   "id": "8767f3be-f99f-426b-91e8-c4d140409933",
   "metadata": {},
   "source": [
    "##### Formula:"
   ]
  },
  {
   "cell_type": "markdown",
   "id": "0a1d815c-7fa3-4ee0-a09f-a21d98e70909",
   "metadata": {},
   "source": [
    "la integral se calcula usando la siguente interal doble. primero integramos respecto a θ y luego respecto a x , con los limites que defini anteriormente:\n",
    "\n",
    "$$\n",
    "P = \\frac{2}{\\pi} \\int_0^{D/2} \\int_{\\arcsin\\left(\\frac{2x}{L}\\right)}^{\\pi/2} 1 \\, d\\theta \\, \\frac{2}{D} \\, dx\n",
    "$$\n"
   ]
  },
  {
   "cell_type": "markdown",
   "id": "c11f07ca-0e1d-4d4b-9785-ffee525fd140",
   "metadata": {},
   "source": [
    "# Explica la solución sin cálculo integral usando tus palabras"
   ]
  },
  {
   "cell_type": "markdown",
   "id": "ad21e968-cbf7-4943-991b-dcaf4c7435b1",
   "metadata": {},
   "source": [
    "Entonces queremos encontrar la probabilidad de que la aguja L cruce alguna linea en el plano con las lineas paralelas separadas por una distancia D.\n",
    "La posición del centro de la aguja y el angulo que forma con las lineas paralelas se determinara con esto si hay un cruce."
   ]
  },
  {
   "cell_type": "markdown",
   "id": "95f1c459-d213-4da1-8cff-0348448b3a60",
   "metadata": {},
   "source": [
    "#### condiciones de cruce:\n",
    "* Entonces la aguja tiene una longitud L y forma una angulo θ con las lineas paralelas.\n",
    "* El centro de la aguja cae a una distancia x de la linea mas cercana. donde esta linea estara en el rango:\n",
    "$0 \\leq x \\leq D/2$\n",
    "\n",
    "para que la aguja cruce una linea paralela osea que sea mayor que \"x\" es: \n",
    "\n",
    "$(L/2)sin(θ) \\geq  x$"
   ]
  },
  {
   "cell_type": "markdown",
   "id": "395b9d05-7fbf-41ab-ac27-c394c6bb4e40",
   "metadata": {},
   "source": [
    "Cada vez que lanzamos una aguja se genera al azar:\n",
    "* Un angulo entre entre 0 y π/2\n",
    "* Una distancia entre entre 0 y D/2\n",
    "\n",
    "si sumamos todas las combinaciones que se pueden generar donde la condicion de cruce se cumple , obtenemos la probabilidad total."
   ]
  },
  {
   "cell_type": "markdown",
   "id": "5a54e8bb-c743-48b3-bf3c-ba3d1fb8ba3d",
   "metadata": {},
   "source": [
    "#### Formula:"
   ]
  },
  {
   "cell_type": "markdown",
   "id": "0463040b-5a69-469c-ae7b-d4722c00deb7",
   "metadata": {},
   "source": [
    "despues de obtener todas las posiciones y angulos, el resultado es: $(2L)/(Dπ)$\n"
   ]
  },
  {
   "cell_type": "markdown",
   "id": "6bafd410-c1d1-4555-8477-49f7aa54d157",
   "metadata": {},
   "source": [
    "#### Conclusion\n",
    "la probabilidad de cruce depende de la geometria y de las dimensiones de la aguja y la sepracion de las lineas paralelas.\n",
    "lo que hace el calculo integral es sumar todas estas posibilidades pero el resultado va a ser el mismo.\n",
    "donde la formula se usa tambien para aproximar π."
   ]
  },
  {
   "cell_type": "markdown",
   "id": "03d979c0-8775-4c30-a046-14375c332374",
   "metadata": {},
   "source": [
    "# simulación con numpy donde se arrojen n agujas de longitud l dado que se tiene una distancia d entre cada línea paralela."
   ]
  },
  {
   "cell_type": "code",
   "execution_count": 105,
   "id": "84f1cbb5-471b-408b-9102-102a503cc92a",
   "metadata": {},
   "outputs": [
    {
     "data": {
      "text/plain": [
       "(25, 0.5)"
      ]
     },
     "execution_count": 105,
     "metadata": {},
     "output_type": "execute_result"
    }
   ],
   "source": [
    "import numpy as np\n",
    "\n",
    "# Parámetros\n",
    "L = 3  # cm\n",
    "D = 4  # cm\n",
    "n_agujas = 50 \n",
    "\n",
    "centros = np.random.uniform(0, D / 2, n_agujas)  \n",
    "angulos = np.random.uniform(0, np.pi / 2, n_agujas) \n",
    "\n",
    "proyecciones = (L / 2) * np.sin(angulos)\n",
    "cruzan = proyecciones >= centros \n",
    "\n",
    "n_cruzan = np.sum(cruzan) \n",
    "proba_estimada = n_cruzan / n_agujas  \n",
    "\n",
    "n_cruzan ,proba_estimada\n"
   ]
  },
  {
   "cell_type": "markdown",
   "id": "3183c2e3-5bb1-4b51-b756-5c340528a1e5",
   "metadata": {},
   "source": [
    "#### ¿Qué variables aleatorias hay en este caso?"
   ]
  },
  {
   "cell_type": "markdown",
   "id": "d353c92e-b65e-49c4-bd16-001347c4ac42",
   "metadata": {},
   "source": [
    "* La posicion del centro de la aguja \n",
    "* Angulo de la aguja con las lineas paralelas "
   ]
  },
  {
   "cell_type": "markdown",
   "id": "0fc58f2b-4271-48d6-ac29-945cd292d749",
   "metadata": {},
   "source": [
    "#### ¿Qué distribución siguen?"
   ]
  },
  {
   "cell_type": "markdown",
   "id": "8ab18abe-cb29-45a6-8b7f-fae3c7a532e5",
   "metadata": {},
   "source": [
    "Las dos variables aleatorias involucradas en el problema de la aguja de Buffon siguen distribuciones uniformes continuas.\n",
    "ya que pueden tomar cualquier valor dentro de un intervalo de numeros reales\n"
   ]
  },
  {
   "cell_type": "markdown",
   "id": "b132500c-ad51-42ee-9b90-7d5887334385",
   "metadata": {},
   "source": [
    "#### ¿Cómo evoluciona el resultado contra la cantidad de agujas que se usa?\n",
    "\n"
   ]
  },
  {
   "cell_type": "markdown",
   "id": "412258c0-31f0-4cf4-8c8e-bf26dcabc28e",
   "metadata": {},
   "source": [
    "La probabilidad estimada tiende a estabilizarse y aproximarse a la probabilidad teórica $(2L)/(Dπ)$ a medida que se aumenta el número de agujas lanzadas."
   ]
  }
 ],
 "metadata": {
  "kernelspec": {
   "display_name": "Python 3 (ipykernel)",
   "language": "python",
   "name": "python3"
  },
  "language_info": {
   "codemirror_mode": {
    "name": "ipython",
    "version": 3
   },
   "file_extension": ".py",
   "mimetype": "text/x-python",
   "name": "python",
   "nbconvert_exporter": "python",
   "pygments_lexer": "ipython3",
   "version": "3.12.4"
  }
 },
 "nbformat": 4,
 "nbformat_minor": 5
}
