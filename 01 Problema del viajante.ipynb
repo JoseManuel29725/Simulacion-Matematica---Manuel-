{
 "cells": [
  {
   "cell_type": "markdown",
   "id": "d76090e0-e6ed-4b3a-ad35-951cb1621ca2",
   "metadata": {},
   "source": [
    "# Problema del viajante"
   ]
  },
  {
   "cell_type": "markdown",
   "id": "b614eba1-92a2-4a90-b174-c3de5f619c89",
   "metadata": {},
   "source": [
    "Crédito al profesor **Fernando Ignacio Becerra López**. Actividad adaptada de su curso IDI1."
   ]
  },
  {
   "cell_type": "markdown",
   "id": "a8cf7c21-5c1a-45bf-a905-72a23bc42de2",
   "metadata": {},
   "source": [
    "## Planteamiento"
   ]
  },
  {
   "cell_type": "markdown",
   "id": "a129754f-fecf-4473-a599-ed25bacd6994",
   "metadata": {},
   "source": [
    "Eres un agente de viajes / alguien que quiere viajar, y tienes una lista de ciudades destino. Quieres planear una ruta cíclica que visite todas las ciudades, pero quieres optimizar o tiempo de viaje o costos de viaje (o una combinación de ambas).\n",
    "\n",
    "¿Cuál es el mejor orden para visitar todas estas ciudades?"
   ]
  },
  {
   "cell_type": "markdown",
   "id": "4e92e822-22c0-4976-9f6e-a37f4c74f831",
   "metadata": {},
   "source": [
    "1. Toma el archivo `datosCT.xlsx` y lee la hoja `8c` utilizando `pandas`.\n",
    "\n",
    "`nombre_de_variable = pd.read_excel(\"datosCT.xlsx\", sheet_name=\"8c\").set_index(\"Unnamed: 0\")`\n",
    "\n",
    "Imprime la tabla resultante."
   ]
  },
  {
   "cell_type": "code",
   "execution_count": 9,
   "id": "5e873f05-a919-4380-b160-cb1c4606ea39",
   "metadata": {},
   "outputs": [
    {
     "data": {
      "text/html": [
       "<div>\n",
       "<style scoped>\n",
       "    .dataframe tbody tr th:only-of-type {\n",
       "        vertical-align: middle;\n",
       "    }\n",
       "\n",
       "    .dataframe tbody tr th {\n",
       "        vertical-align: top;\n",
       "    }\n",
       "\n",
       "    .dataframe thead th {\n",
       "        text-align: right;\n",
       "    }\n",
       "</style>\n",
       "<table border=\"1\" class=\"dataframe\">\n",
       "  <thead>\n",
       "    <tr style=\"text-align: right;\">\n",
       "      <th></th>\n",
       "      <th>Tijuana</th>\n",
       "      <th>Mérida</th>\n",
       "      <th>GDL</th>\n",
       "      <th>México</th>\n",
       "      <th>León</th>\n",
       "      <th>Monterrey</th>\n",
       "      <th>Tapachula</th>\n",
       "      <th>Chihuahua</th>\n",
       "    </tr>\n",
       "    <tr>\n",
       "      <th>Unnamed: 0</th>\n",
       "      <th></th>\n",
       "      <th></th>\n",
       "      <th></th>\n",
       "      <th></th>\n",
       "      <th></th>\n",
       "      <th></th>\n",
       "      <th></th>\n",
       "      <th></th>\n",
       "    </tr>\n",
       "  </thead>\n",
       "  <tbody>\n",
       "    <tr>\n",
       "      <th>Tijuana</th>\n",
       "      <td>0</td>\n",
       "      <td>4180</td>\n",
       "      <td>2306</td>\n",
       "      <td>2848</td>\n",
       "      <td>2529</td>\n",
       "      <td>2409</td>\n",
       "      <td>4005</td>\n",
       "      <td>1583</td>\n",
       "    </tr>\n",
       "    <tr>\n",
       "      <th>Mérida</th>\n",
       "      <td>4180</td>\n",
       "      <td>0</td>\n",
       "      <td>1874</td>\n",
       "      <td>1332</td>\n",
       "      <td>1719</td>\n",
       "      <td>2046</td>\n",
       "      <td>1062</td>\n",
       "      <td>2819</td>\n",
       "    </tr>\n",
       "    <tr>\n",
       "      <th>GDL</th>\n",
       "      <td>2306</td>\n",
       "      <td>1874</td>\n",
       "      <td>0</td>\n",
       "      <td>542</td>\n",
       "      <td>223</td>\n",
       "      <td>789</td>\n",
       "      <td>1699</td>\n",
       "      <td>1202</td>\n",
       "    </tr>\n",
       "    <tr>\n",
       "      <th>México</th>\n",
       "      <td>2848</td>\n",
       "      <td>1332</td>\n",
       "      <td>542</td>\n",
       "      <td>0</td>\n",
       "      <td>389</td>\n",
       "      <td>933</td>\n",
       "      <td>1157</td>\n",
       "      <td>1487</td>\n",
       "    </tr>\n",
       "    <tr>\n",
       "      <th>León</th>\n",
       "      <td>2529</td>\n",
       "      <td>1719</td>\n",
       "      <td>223</td>\n",
       "      <td>389</td>\n",
       "      <td>0</td>\n",
       "      <td>711</td>\n",
       "      <td>1544</td>\n",
       "      <td>1140</td>\n",
       "    </tr>\n",
       "    <tr>\n",
       "      <th>Monterrey</th>\n",
       "      <td>2409</td>\n",
       "      <td>2046</td>\n",
       "      <td>789</td>\n",
       "      <td>933</td>\n",
       "      <td>711</td>\n",
       "      <td>0</td>\n",
       "      <td>1803</td>\n",
       "      <td>826</td>\n",
       "    </tr>\n",
       "    <tr>\n",
       "      <th>Tapachula</th>\n",
       "      <td>4005</td>\n",
       "      <td>1062</td>\n",
       "      <td>1699</td>\n",
       "      <td>1157</td>\n",
       "      <td>1544</td>\n",
       "      <td>1803</td>\n",
       "      <td>0</td>\n",
       "      <td>2644</td>\n",
       "    </tr>\n",
       "    <tr>\n",
       "      <th>Chihuahua</th>\n",
       "      <td>1583</td>\n",
       "      <td>2819</td>\n",
       "      <td>1202</td>\n",
       "      <td>1487</td>\n",
       "      <td>1140</td>\n",
       "      <td>826</td>\n",
       "      <td>2644</td>\n",
       "      <td>0</td>\n",
       "    </tr>\n",
       "  </tbody>\n",
       "</table>\n",
       "</div>"
      ],
      "text/plain": [
       "            Tijuana  Mérida   GDL  México  León  Monterrey  Tapachula  \\\n",
       "Unnamed: 0                                                              \n",
       "Tijuana           0    4180  2306    2848  2529       2409       4005   \n",
       "Mérida         4180       0  1874    1332  1719       2046       1062   \n",
       "GDL            2306    1874     0     542   223        789       1699   \n",
       "México         2848    1332   542       0   389        933       1157   \n",
       "León           2529    1719   223     389     0        711       1544   \n",
       "Monterrey      2409    2046   789     933   711          0       1803   \n",
       "Tapachula      4005    1062  1699    1157  1544       1803          0   \n",
       "Chihuahua      1583    2819  1202    1487  1140        826       2644   \n",
       "\n",
       "            Chihuahua  \n",
       "Unnamed: 0             \n",
       "Tijuana          1583  \n",
       "Mérida           2819  \n",
       "GDL              1202  \n",
       "México           1487  \n",
       "León             1140  \n",
       "Monterrey         826  \n",
       "Tapachula        2644  \n",
       "Chihuahua           0  "
      ]
     },
     "execution_count": 9,
     "metadata": {},
     "output_type": "execute_result"
    }
   ],
   "source": [
    "import pandas as pd \n",
    "tabla=pd.read_excel(\"datosCT.xlsx\", sheet_name=\"8c\").set_index(\"Unnamed: 0\")\n",
    "\n",
    "tabla"
   ]
  },
  {
   "cell_type": "code",
   "execution_count": null,
   "id": "7cd4dab6-5b24-4a00-bbef-76ccf5f2d183",
   "metadata": {},
   "outputs": [],
   "source": []
  },
  {
   "cell_type": "markdown",
   "id": "57788b70-c8a2-427a-9468-6c802086275b",
   "metadata": {},
   "source": [
    "La tabla contiene una matriz de la distancia de recorrido entre cada ciudad. Por ejemplo, si quiero saber la distancia entre Tijuana y Tapachula busco el renglón Tijuana y la columna Tapachula / la columna Tijuana y el renglón Tapachula.\n",
    "\n",
    "2. Crea una función que retorne las ciudades de la tabla en un orden aleatorio."
   ]
  },
  {
   "cell_type": "code",
   "execution_count": 5,
   "id": "6bc4a556-15e9-4cab-8552-bb5aa5bc0604",
   "metadata": {},
   "outputs": [
    {
     "data": {
      "text/plain": [
       "['Tapachula',\n",
       " 'Leon',\n",
       " 'Mexico',\n",
       " 'Chihuahua',\n",
       " 'Monterrey',\n",
       " 'Mérida',\n",
       " 'GDL',\n",
       " 'Tijuana']"
      ]
     },
     "execution_count": 5,
     "metadata": {},
     "output_type": "execute_result"
    }
   ],
   "source": [
    "import numpy as np\n",
    "def c_orden_aleatorio(c):\n",
    "    \n",
    "    c_aleatorias = c.copy()\n",
    "  \n",
    "    np.random.shuffle(c_aleatorias)\n",
    "    return c_aleatorias\n",
    "\n",
    "ciudades = [\"Tijuana\", \"Mérida\", \"GDL\", \"Mexico\", \"Leon\", \"Monterrey\", \"Tapachula\", \"Chihuahua\"]\n",
    "c_orden_aleatorio(ciudades)"
   ]
  },
  {
   "cell_type": "code",
   "execution_count": null,
   "id": "2b70d52e-f67c-456e-b11d-7a8e954e96d3",
   "metadata": {},
   "outputs": [],
   "source": []
  },
  {
   "cell_type": "markdown",
   "id": "e04e03f2-740b-48f6-8903-f09d6b940782",
   "metadata": {},
   "source": [
    "3. Crea una función que dadas dos ciudades te indique la distancia entre ellas."
   ]
  },
  {
   "cell_type": "code",
   "execution_count": 1,
   "id": "a1b46a2e-c1a4-4610-aae9-37cb3b2b8ebc",
   "metadata": {},
   "outputs": [
    {
     "name": "stdout",
     "output_type": "stream",
     "text": [
      "223\n"
     ]
    }
   ],
   "source": [
    "dist = {\n",
    "    'Tijuana': {'Tijuana': 0, 'Merida': 4180, 'GDL': 2306, 'Mexico': 2848, 'Leon': 2529, 'Monterrey': 2409, 'Tapachula': 4005, 'Chihuahua': 1583},    'Mérida': {'Tijuana': 4180, 'Mérida': 0, 'GDL': 1874, 'México': 1332, 'León': 1719, 'Monterrey': 2046, 'Tapachula': 1062, 'Chihuahua': 2819},\n",
    "    'GDL': {'Tijuana': 2306, 'Merida': 1874, 'GDL': 0, 'Mexico': 542, 'Leon': 223, 'Monterrey': 789, 'Tapachula': 1699, 'Chihuahua': 1202},\n",
    "    'México': {'Tijuana': 2848, 'Merida': 1332, 'GDL': 542, 'Mexico': 0, 'Leon': 389, 'Monterrey': 933, 'Tapachula': 1157, 'Chihuahua': 1487},\n",
    "    'León': {'Tijuana': 2529, 'Merida': 1719, 'GDL': 223, 'Mexico': 389, 'Leon': 0, 'Monterrey': 711, 'Tapachula': 1544, 'Chihuahua': 1140},\n",
    "    'Monterrey': {'Tijuana': 2409, 'Merida': 2046, 'GDL': 789, 'Mexico': 933, 'Leon': 711, 'Monterrey': 0, 'Tapachula': 1803, 'Chihuahua': 826},\n",
    "    'Tapachula': {'Tijuana': 4005, 'Merida': 1062, 'GDL': 1699, 'Mexico': 1157, 'Leon': 1544, 'Monterrey': 1803, 'Tapachula': 0, 'Chihuahua': 2644},\n",
    "    'Chihuahua': {'Tijuana': 1583, 'Merida': 2819, 'GDL': 1202, 'Mexico': 1487, 'Leon': 1140, 'Monterrey': 826, 'Tapachula': 2644, 'Chihuahua': 0}\n",
    "}\n",
    "\n",
    "def distancias(c1, c2):\n",
    "    if c1 in dist and c2 in dist[c1]:\n",
    "        return dist[c1][c2]\n",
    "\n",
    "#Colocar ciudades:\n",
    "print(distancias(\"GDL\", \"Leon\"))  "
   ]
  },
  {
   "cell_type": "code",
   "execution_count": null,
   "id": "e815ec31-67ed-4ab6-8801-b99ccebaa904",
   "metadata": {},
   "outputs": [],
   "source": []
  },
  {
   "cell_type": "markdown",
   "id": "d081dc58-5886-4c90-a42f-ed52e9edc10f",
   "metadata": {},
   "source": [
    "4. Crea una función que calcule la distancia total de recorrer una lista de ciudades:\n",
    "    - $C1 → C2 + C2 → C3 + ... + C_{n-1} → C_n + C_n → C_1$"
   ]
  },
  {
   "cell_type": "code",
   "execution_count": 17,
   "id": "527b40de-279b-4048-b162-4988182c1d85",
   "metadata": {},
   "outputs": [
    {
     "data": {
      "text/plain": [
       "6534"
      ]
     },
     "execution_count": 17,
     "metadata": {},
     "output_type": "execute_result"
    }
   ],
   "source": [
    "def distancia_t(ciudades):\n",
    "    total_dist = 0\n",
    "    \n",
    "    for i in range(len(ciudades) - 1):\n",
    "        c1, c2 = ciudades[i], ciudades[i + 1]\n",
    "        if c1 in dist and c2 in dist[c1]:\n",
    "            total_dist += dist[c1][c2]\n",
    "      \n",
    " \n",
    "    if ciudades[-1] in dist and ciudades[0] in dist[ciudades[-1]]:\n",
    "        total_dist += dist[ciudades[-1]][ciudades[0]]\n",
    "\n",
    "\n",
    "    return total_dist\n",
    "\n",
    "#colocar ciudades:\n",
    "l_ciudades = [\"Tapachula\", \"México\", \"León\", \"GDL\", \"Tijuana\"]\n",
    "distancia_t(l_ciudades) \n"
   ]
  },
  {
   "cell_type": "markdown",
   "id": "c5201501-d413-4091-8c45-facfcd7e81bc",
   "metadata": {},
   "source": [
    "5. Genera una lista con 100 listas de ciudades generadas con permutaciones aleatorias (no importa si hay repetidas)"
   ]
  },
  {
   "cell_type": "code",
   "execution_count": 11,
   "id": "48698062-fa57-45b5-85b4-232b48012283",
   "metadata": {},
   "outputs": [
    {
     "name": "stdout",
     "output_type": "stream",
     "text": [
      "['Leon', 'Monterrey', 'Chihuahua', 'Mexico', 'Merida', 'Tapachula', 'GDL', 'Tijuana']\n",
      "['Mexico', 'GDL', 'Tijuana', 'Tapachula', 'Merida', 'Monterrey', 'Chihuahua', 'Leon']\n",
      "['Tapachula', 'Mexico', 'GDL', 'Monterrey', 'Merida', 'Leon', 'Chihuahua', 'Tijuana']\n",
      "['Tijuana', 'Mexico', 'Tapachula', 'Merida', 'Monterrey', 'Chihuahua', 'GDL', 'Leon']\n",
      "['GDL', 'Leon', 'Merida', 'Tapachula', 'Monterrey', 'Mexico', 'Chihuahua', 'Tijuana']\n",
      "['Mexico', 'Tapachula', 'Tijuana', 'Leon', 'Chihuahua', 'Merida', 'GDL', 'Monterrey']\n",
      "['Tapachula', 'Mexico', 'Merida', 'Leon', 'Tijuana', 'Chihuahua', 'Monterrey', 'GDL']\n",
      "['Mexico', 'Merida', 'Tijuana', 'GDL', 'Leon', 'Tapachula', 'Chihuahua', 'Monterrey']\n",
      "['Merida', 'GDL', 'Tijuana', 'Mexico', 'Monterrey', 'Chihuahua', 'Tapachula', 'Leon']\n",
      "['Chihuahua', 'GDL', 'Leon', 'Tijuana', 'Tapachula', 'Mexico', 'Merida', 'Monterrey']\n",
      "['Monterrey', 'Tijuana', 'Merida', 'Tapachula', 'Chihuahua', 'Leon', 'Mexico', 'GDL']\n",
      "['Tijuana', 'Mexico', 'Monterrey', 'GDL', 'Chihuahua', 'Tapachula', 'Merida', 'Leon']\n",
      "['Monterrey', 'Chihuahua', 'GDL', 'Leon', 'Tijuana', 'Tapachula', 'Merida', 'Mexico']\n",
      "['Monterrey', 'GDL', 'Tapachula', 'Merida', 'Mexico', 'Chihuahua', 'Leon', 'Tijuana']\n",
      "['Chihuahua', 'Leon', 'GDL', 'Merida', 'Mexico', 'Tijuana', 'Monterrey', 'Tapachula']\n",
      "['GDL', 'Tijuana', 'Monterrey', 'Tapachula', 'Leon', 'Merida', 'Chihuahua', 'Mexico']\n",
      "['Tijuana', 'Tapachula', 'GDL', 'Chihuahua', 'Monterrey', 'Mexico', 'Merida', 'Leon']\n",
      "['Tijuana', 'Merida', 'Monterrey', 'Mexico', 'Chihuahua', 'Tapachula', 'Leon', 'GDL']\n",
      "['Tapachula', 'Monterrey', 'Leon', 'Merida', 'GDL', 'Mexico', 'Chihuahua', 'Tijuana']\n",
      "['Merida', 'Monterrey', 'Mexico', 'Leon', 'GDL', 'Chihuahua', 'Tijuana', 'Tapachula']\n",
      "['GDL', 'Tijuana', 'Leon', 'Merida', 'Mexico', 'Tapachula', 'Monterrey', 'Chihuahua']\n",
      "['Merida', 'Monterrey', 'Tijuana', 'Chihuahua', 'GDL', 'Tapachula', 'Leon', 'Mexico']\n",
      "['Tapachula', 'Monterrey', 'Tijuana', 'Leon', 'Merida', 'Mexico', 'Chihuahua', 'GDL']\n",
      "['Tijuana', 'GDL', 'Mexico', 'Leon', 'Chihuahua', 'Merida', 'Monterrey', 'Tapachula']\n",
      "['Mexico', 'Chihuahua', 'Monterrey', 'Leon', 'Tapachula', 'Merida', 'Tijuana', 'GDL']\n",
      "['Chihuahua', 'Mexico', 'GDL', 'Merida', 'Tijuana', 'Monterrey', 'Tapachula', 'Leon']\n",
      "['Chihuahua', 'Leon', 'Tapachula', 'Monterrey', 'Mexico', 'Tijuana', 'Merida', 'GDL']\n",
      "['Chihuahua', 'Tapachula', 'GDL', 'Mexico', 'Merida', 'Leon', 'Tijuana', 'Monterrey']\n",
      "['Chihuahua', 'Tapachula', 'Merida', 'GDL', 'Tijuana', 'Mexico', 'Leon', 'Monterrey']\n",
      "['Monterrey', 'GDL', 'Tijuana', 'Chihuahua', 'Merida', 'Tapachula', 'Leon', 'Mexico']\n",
      "['GDL', 'Mexico', 'Tapachula', 'Merida', 'Chihuahua', 'Leon', 'Monterrey', 'Tijuana']\n",
      "['Tapachula', 'Chihuahua', 'Merida', 'Leon', 'Monterrey', 'Mexico', 'Tijuana', 'GDL']\n",
      "['Leon', 'Merida', 'Tapachula', 'Mexico', 'Chihuahua', 'Monterrey', 'GDL', 'Tijuana']\n",
      "['Tapachula', 'Chihuahua', 'Monterrey', 'GDL', 'Leon', 'Tijuana', 'Merida', 'Mexico']\n",
      "['Tapachula', 'GDL', 'Merida', 'Monterrey', 'Chihuahua', 'Mexico', 'Leon', 'Tijuana']\n",
      "['Tijuana', 'Leon', 'Chihuahua', 'Merida', 'Mexico', 'GDL', 'Monterrey', 'Tapachula']\n",
      "['Leon', 'Chihuahua', 'Monterrey', 'Merida', 'Tijuana', 'GDL', 'Mexico', 'Tapachula']\n",
      "['Leon', 'Tijuana', 'Mexico', 'Chihuahua', 'GDL', 'Tapachula', 'Merida', 'Monterrey']\n",
      "['Monterrey', 'Merida', 'Mexico', 'Tijuana', 'GDL', 'Chihuahua', 'Leon', 'Tapachula']\n",
      "['Mexico', 'Tapachula', 'Merida', 'GDL', 'Monterrey', 'Tijuana', 'Leon', 'Chihuahua']\n",
      "['Tapachula', 'Tijuana', 'Monterrey', 'Merida', 'Chihuahua', 'Leon', 'GDL', 'Mexico']\n",
      "['Tapachula', 'Mexico', 'GDL', 'Chihuahua', 'Leon', 'Tijuana', 'Monterrey', 'Merida']\n",
      "['Monterrey', 'Mexico', 'Tijuana', 'Chihuahua', 'Merida', 'Leon', 'GDL', 'Tapachula']\n",
      "['Tijuana', 'Tapachula', 'Mexico', 'Monterrey', 'Chihuahua', 'GDL', 'Merida', 'Leon']\n",
      "['Tijuana', 'Tapachula', 'GDL', 'Monterrey', 'Chihuahua', 'Merida', 'Mexico', 'Leon']\n",
      "['Leon', 'Tijuana', 'Mexico', 'Merida', 'Chihuahua', 'Monterrey', 'GDL', 'Tapachula']\n",
      "['GDL', 'Monterrey', 'Leon', 'Chihuahua', 'Tijuana', 'Merida', 'Mexico', 'Tapachula']\n",
      "['Tapachula', 'Tijuana', 'GDL', 'Chihuahua', 'Merida', 'Leon', 'Monterrey', 'Mexico']\n",
      "['Merida', 'Chihuahua', 'GDL', 'Tapachula', 'Mexico', 'Leon', 'Monterrey', 'Tijuana']\n",
      "['Chihuahua', 'Mexico', 'Leon', 'Monterrey', 'Tapachula', 'GDL', 'Merida', 'Tijuana']\n",
      "['Tijuana', 'Merida', 'Chihuahua', 'Monterrey', 'Mexico', 'GDL', 'Tapachula', 'Leon']\n",
      "['GDL', 'Merida', 'Tapachula', 'Monterrey', 'Mexico', 'Chihuahua', 'Tijuana', 'Leon']\n",
      "['GDL', 'Monterrey', 'Merida', 'Leon', 'Tijuana', 'Tapachula', 'Mexico', 'Chihuahua']\n",
      "['Tijuana', 'Chihuahua', 'Merida', 'Leon', 'Tapachula', 'Monterrey', 'Mexico', 'GDL']\n",
      "['GDL', 'Leon', 'Chihuahua', 'Mexico', 'Tijuana', 'Monterrey', 'Tapachula', 'Merida']\n",
      "['GDL', 'Tapachula', 'Chihuahua', 'Merida', 'Leon', 'Tijuana', 'Monterrey', 'Mexico']\n",
      "['Chihuahua', 'Merida', 'Monterrey', 'Tapachula', 'GDL', 'Mexico', 'Leon', 'Tijuana']\n",
      "['Tapachula', 'Chihuahua', 'Tijuana', 'Leon', 'Merida', 'Monterrey', 'Mexico', 'GDL']\n",
      "['Chihuahua', 'Leon', 'Merida', 'GDL', 'Monterrey', 'Tapachula', 'Tijuana', 'Mexico']\n",
      "['Mexico', 'Monterrey', 'GDL', 'Tapachula', 'Tijuana', 'Merida', 'Chihuahua', 'Leon']\n",
      "['Monterrey', 'Tijuana', 'Chihuahua', 'Tapachula', 'GDL', 'Leon', 'Merida', 'Mexico']\n",
      "['Leon', 'Merida', 'Tapachula', 'GDL', 'Mexico', 'Tijuana', 'Chihuahua', 'Monterrey']\n",
      "['Chihuahua', 'GDL', 'Mexico', 'Merida', 'Leon', 'Tijuana', 'Monterrey', 'Tapachula']\n",
      "['Monterrey', 'Tapachula', 'Merida', 'Leon', 'Tijuana', 'Mexico', 'Chihuahua', 'GDL']\n",
      "['Tijuana', 'GDL', 'Tapachula', 'Chihuahua', 'Mexico', 'Merida', 'Monterrey', 'Leon']\n",
      "['Leon', 'Chihuahua', 'GDL', 'Mexico', 'Monterrey', 'Tijuana', 'Merida', 'Tapachula']\n",
      "['Leon', 'Tijuana', 'Merida', 'Mexico', 'Chihuahua', 'Tapachula', 'Monterrey', 'GDL']\n",
      "['Chihuahua', 'Merida', 'GDL', 'Tapachula', 'Monterrey', 'Tijuana', 'Leon', 'Mexico']\n",
      "['Mexico', 'GDL', 'Leon', 'Tapachula', 'Tijuana', 'Monterrey', 'Merida', 'Chihuahua']\n",
      "['Tijuana', 'Chihuahua', 'Leon', 'Monterrey', 'Tapachula', 'GDL', 'Merida', 'Mexico']\n",
      "['Monterrey', 'Leon', 'Tijuana', 'GDL', 'Merida', 'Mexico', 'Chihuahua', 'Tapachula']\n",
      "['Monterrey', 'Tijuana', 'Chihuahua', 'Mexico', 'Tapachula', 'Merida', 'Leon', 'GDL']\n",
      "['Leon', 'Merida', 'Tapachula', 'Mexico', 'Monterrey', 'GDL', 'Tijuana', 'Chihuahua']\n",
      "['GDL', 'Monterrey', 'Chihuahua', 'Leon', 'Tijuana', 'Merida', 'Tapachula', 'Mexico']\n",
      "['Merida', 'Mexico', 'Leon', 'Tapachula', 'GDL', 'Monterrey', 'Chihuahua', 'Tijuana']\n",
      "['Merida', 'Monterrey', 'GDL', 'Tapachula', 'Chihuahua', 'Mexico', 'Leon', 'Tijuana']\n",
      "['Mexico', 'Tijuana', 'Leon', 'Chihuahua', 'GDL', 'Monterrey', 'Merida', 'Tapachula']\n",
      "['Leon', 'Tijuana', 'GDL', 'Tapachula', 'Merida', 'Mexico', 'Monterrey', 'Chihuahua']\n",
      "['Tijuana', 'GDL', 'Merida', 'Chihuahua', 'Leon', 'Mexico', 'Monterrey', 'Tapachula']\n",
      "['Monterrey', 'Leon', 'Merida', 'GDL', 'Mexico', 'Tijuana', 'Chihuahua', 'Tapachula']\n",
      "['Tapachula', 'Merida', 'Monterrey', 'Chihuahua', 'Mexico', 'Tijuana', 'GDL', 'Leon']\n",
      "['Monterrey', 'Leon', 'Tijuana', 'Mexico', 'Chihuahua', 'GDL', 'Tapachula', 'Merida']\n",
      "['Merida', 'Tapachula', 'GDL', 'Tijuana', 'Leon', 'Chihuahua', 'Monterrey', 'Mexico']\n",
      "['GDL', 'Monterrey', 'Merida', 'Tapachula', 'Tijuana', 'Leon', 'Chihuahua', 'Mexico']\n",
      "['Mexico', 'Tapachula', 'Merida', 'Tijuana', 'GDL', 'Chihuahua', 'Monterrey', 'Leon']\n",
      "['Tijuana', 'Tapachula', 'Mexico', 'Merida', 'Chihuahua', 'GDL', 'Leon', 'Monterrey']\n",
      "['Merida', 'Leon', 'Monterrey', 'Tapachula', 'GDL', 'Chihuahua', 'Tijuana', 'Mexico']\n",
      "['Tapachula', 'Tijuana', 'Merida', 'Monterrey', 'Mexico', 'GDL', 'Leon', 'Chihuahua']\n",
      "['Leon', 'Monterrey', 'Tapachula', 'Mexico', 'Merida', 'GDL', 'Tijuana', 'Chihuahua']\n",
      "['Mexico', 'Chihuahua', 'Merida', 'Monterrey', 'Tijuana', 'Leon', 'Tapachula', 'GDL']\n",
      "['Merida', 'Mexico', 'Chihuahua', 'Tapachula', 'Tijuana', 'GDL', 'Monterrey', 'Leon']\n",
      "['Chihuahua', 'Monterrey', 'Tijuana', 'GDL', 'Tapachula', 'Mexico', 'Merida', 'Leon']\n",
      "['Merida', 'GDL', 'Monterrey', 'Tijuana', 'Chihuahua', 'Leon', 'Tapachula', 'Mexico']\n",
      "['Tapachula', 'Monterrey', 'Mexico', 'Leon', 'Chihuahua', 'Merida', 'GDL', 'Tijuana']\n",
      "['Merida', 'Chihuahua', 'Tijuana', 'Mexico', 'Monterrey', 'Leon', 'GDL', 'Tapachula']\n",
      "['Mexico', 'Chihuahua', 'Tapachula', 'Monterrey', 'Tijuana', 'Leon', 'Merida', 'GDL']\n",
      "['Chihuahua', 'Tijuana', 'Monterrey', 'Tapachula', 'Merida', 'Mexico', 'GDL', 'Leon']\n",
      "['Mexico', 'Merida', 'Tijuana', 'GDL', 'Monterrey', 'Chihuahua', 'Leon', 'Tapachula']\n",
      "['Monterrey', 'Merida', 'GDL', 'Chihuahua', 'Leon', 'Tijuana', 'Tapachula', 'Mexico']\n",
      "['Monterrey', 'Chihuahua', 'Tijuana', 'GDL', 'Merida', 'Tapachula', 'Mexico', 'Leon']\n"
     ]
    }
   ],
   "source": [
    "import numpy as np\n",
    "\n",
    "ciudades = [\"Merida\", \"Tijuana\", \"GDL\", \"Mexico\", \"Leon\", \"Monterrey\", \"Tapachula\", \"Chihuahua\"]\n",
    "listas_ciudades = [np.random.permutation(ciudades).tolist() for _ in range(100)]\n",
    "\n",
    "for lista in listas_ciudades:\n",
    "    print(lista)\n"
   ]
  },
  {
   "cell_type": "code",
   "execution_count": null,
   "id": "b9b7b94e-4138-434d-872e-98bbe217c4a2",
   "metadata": {},
   "outputs": [],
   "source": []
  },
  {
   "cell_type": "markdown",
   "id": "c7326a12-a09b-497f-bd57-90f190ecd5d7",
   "metadata": {},
   "source": [
    "6. Calcula la distancia total de todas las rutas generadas y guarda la información en otra lista."
   ]
  },
  {
   "cell_type": "code",
   "execution_count": 19,
   "id": "567eae21-c4bb-4ff1-95cf-9cb4ed401ffa",
   "metadata": {},
   "outputs": [
    {
     "name": "stdout",
     "output_type": "stream",
     "text": [
      "8847\n",
      "9339\n",
      "9580\n",
      "6161\n",
      "6848\n",
      "11075\n",
      "6054\n",
      "6932\n",
      "10168\n",
      "7413\n",
      "11162\n",
      "8545\n",
      "7318\n",
      "7099\n",
      "9870\n",
      "9549\n",
      "8665\n",
      "11607\n",
      "8644\n",
      "8785\n",
      "8666\n",
      "8437\n",
      "9642\n",
      "11475\n",
      "5447\n",
      "9117\n",
      "9258\n",
      "8120\n",
      "9686\n",
      "9041\n",
      "7459\n",
      "10401\n",
      "7607\n",
      "8662\n",
      "9891\n",
      "11945\n",
      "7264\n",
      "7522\n",
      "8497\n",
      "8276\n",
      "10142\n",
      "7954\n",
      "8837\n",
      "9064\n",
      "10138\n",
      "7706\n",
      "8962\n",
      "11265\n",
      "10647\n",
      "8446\n",
      "9182\n",
      "8722\n",
      "9199\n",
      "9444\n",
      "6984\n",
      "10504\n",
      "8446\n",
      "9388\n",
      "10585\n",
      "11813\n",
      "8558\n",
      "5361\n",
      "8600\n",
      "7704\n",
      "8847\n",
      "9877\n",
      "9639\n",
      "11259\n",
      "10170\n",
      "8099\n",
      "9338\n",
      "7330\n",
      "6975\n",
      "8092\n",
      "9077\n",
      "10799\n",
      "7723\n",
      "7033\n",
      "11128\n",
      "7283\n",
      "5904\n",
      "7522\n",
      "8293\n",
      "10856\n",
      "6107\n",
      "8996\n",
      "9135\n",
      "11985\n",
      "7989\n",
      "9998\n",
      "10455\n",
      "8397\n",
      "7078\n",
      "11866\n",
      "7903\n",
      "9927\n",
      "7080\n",
      "6218\n",
      "9550\n",
      "7746\n"
     ]
    }
   ],
   "source": [
    "distancias_t = [distancia_t(ruta) for ruta in listas_ciudades]\n",
    "\n",
    "for distancia in distancias_t:\n",
    "    print(distancia)"
   ]
  },
  {
   "cell_type": "code",
   "execution_count": null,
   "id": "00b67041-0567-4541-a37b-e92a3dbc25e6",
   "metadata": {},
   "outputs": [],
   "source": []
  },
  {
   "cell_type": "markdown",
   "id": "110f4bf1-8ba2-44bb-af76-1ab1411ccdf6",
   "metadata": {},
   "source": [
    "7. ¿Cuál fue la mejor ruta? Compara con tus compañeros"
   ]
  },
  {
   "cell_type": "markdown",
   "id": "d8f457d5-096e-4619-a03d-e8d52b3de461",
   "metadata": {},
   "source": [
    "Creo que la mejor de las rutas depende  de las combinaciones, en este caso es 7078km  ya que es la distancia mas corta. esto debido a las permutaciones aleatorias que se generaron "
   ]
  },
  {
   "cell_type": "code",
   "execution_count": null,
   "id": "3f5d5b47-5242-40ce-b91a-91f26fb15e70",
   "metadata": {},
   "outputs": [],
   "source": []
  },
  {
   "cell_type": "markdown",
   "id": "0761dba0-3977-409a-bfaa-fa460d0e507e",
   "metadata": {},
   "source": [
    "## ¿Qué hay detrás?"
   ]
  },
  {
   "cell_type": "markdown",
   "id": "3a690ea9-2e70-425d-b53b-5f29342f0656",
   "metadata": {},
   "source": [
    "Hasta ahora, las optimizaciones que hemos hecho en clase han sido todas de funciones convexas, que garantizan un mínimo/máximo global. Incluso en los casos de regresiones o programación lineal, que teníamos muchas variables y graficarlas era imposible, se sabe desde el planteamiento del problema que la solución será única.\n",
    "\n",
    "![](https://encrypted-tbn0.gstatic.com/images?q=tbn:ANd9GcTWjD1olGFjjZN8Yi99lqDzWa1X5Rz4b4BP7g&s)"
   ]
  },
  {
   "cell_type": "markdown",
   "id": "7ac96682-7833-4196-87ba-bd9ba71b8ccc",
   "metadata": {},
   "source": [
    "Estos casos y campo de estudio se conocen como **Optimización Convexa**. Hay casos en los que el problema se puede adaptar para suavizar su respuesta y *volverlo* convexo, pero en muchos casos las funciones no son convexas y resultan en la aparición de muchos mínimos y máximos.\n",
    "\n",
    "![](https://encrypted-tbn0.gstatic.com/images?q=tbn:ANd9GcTsUVelChbZG6NX2cHTB68j3Ma0_8RUKnPUNg&s)"
   ]
  },
  {
   "cell_type": "markdown",
   "id": "209ab61f-90f4-4b4f-8d99-fc2a0688a4a2",
   "metadata": {},
   "source": [
    "![](https://upload.wikimedia.org/wikipedia/commons/e/e3/Non-Convex_Objective_Function.gif)"
   ]
  },
  {
   "cell_type": "markdown",
   "id": "6ad2ceca-1dce-426a-b02c-15f76daa1609",
   "metadata": {},
   "source": [
    "En los casos donde podemos graficar es muy sencillo saber si el valor óptimo encontrado es global o no, pero una solución general para *n* dimensiones en un problema no existe. Imaginemos el cerebro humano aprendiendo un deporte sin instructor:\n",
    "- Alguien puede aprender a jugar tennis **sin** instructor, viendo y replicando comportamientos y patrones vistos anteriormente (aprendiendo)\n",
    "- Alguien también puede aprender a jugar tennis **con** instructor, donde el instructor corregirá hábitos erróneos."
   ]
  },
  {
   "cell_type": "markdown",
   "id": "56e4f84d-2a61-4372-8ac9-c708944e3ca2",
   "metadata": {},
   "source": [
    "Por lógica, la persona que está aprendiendo sin instructor llegará a un nivel de juego donde sus limitantes serán los malos hábitos formados al aprender y optimizar su forma de juego (óptimo local).\n",
    "\n",
    "La persona con instructor será guiada a un mínimo global pues el instructor conoce su ubicación."
   ]
  },
  {
   "cell_type": "markdown",
   "id": "dc04d58b-5402-40b0-b778-41532bd862f1",
   "metadata": {},
   "source": [
    "Todos aprendemos de formas diferentes y cada quién podría llegar a su óptimo en dado tiempo; no hay garantía de que la forma en la que aprendes sea la mejor, entonces lo mejor es tener una mente abierta para ver si es que te has estancado y quizás hay otro valor óptimo en alguna otra parte."
   ]
  },
  {
   "cell_type": "markdown",
   "id": "5a41d7ad-adb1-43d6-8920-d29210c49ec5",
   "metadata": {},
   "source": [
    "## Uniendo"
   ]
  },
  {
   "cell_type": "markdown",
   "id": "ad106cd0-eefc-4ddd-8439-bdf583da2eb1",
   "metadata": {},
   "source": [
    "En el caso del problema de las ciudades hay 20,160 posibles combinaciones (excluyendo rutas repetidas con el viaje en orden reverso). Con las computadoras de hoy en día podemos revisar todos esos casos y tomar el mejor. ¿Qué pasa si añadimos ciudades?\n",
    "- 9 ciudades → $181,440$ combinaciones\n",
    "- 10 ciudades → $1'814,400$ combinaciones\n",
    "- 15 ciudades → $653,837'184,000$ combinaciones\n",
    "\n",
    "Para 15 ciudades, si cada ruta distinta nos tomara 1 segundo procesarla, se tardaría ~21 años en calcular todos los casos posibles. Si agregamos otra ciudad, entonces serían ~335 años."
   ]
  },
  {
   "cell_type": "markdown",
   "id": "21528c33-77cb-4756-a65a-86f3b848ae23",
   "metadata": {},
   "source": [
    "Los algoritmos de optimización con métodos numéricos necesitan un punto de partida, y a partir de ahí iteran hasta encontrar un mínimo/máximo sin poder saber si es local o global. ¿Cómo sabemos cuántas veces intentar optimizar y con qué punto de partida si no sabemos cuántos mínimos/máximos existen en nuestro problema o si siquiera existe un mínimo/máximo global?"
   ]
  },
  {
   "cell_type": "markdown",
   "id": "c71b3e5f-74cf-4607-92f6-a44d43208cbf",
   "metadata": {},
   "source": [
    "**No sabemos.** Lo mejor que podemos hacer es usar *métodos de búsqueda* / *algoritmos probabilísticos* para intentar encontrar la mejor solución posible en el momento y decidir si esa solución es suficiente."
   ]
  },
  {
   "cell_type": "markdown",
   "id": "fde134fb-e526-48af-a559-72b13dcd03a5",
   "metadata": {},
   "source": [
    "## Siguientes pasos"
   ]
  },
  {
   "cell_type": "markdown",
   "id": "791b7fa4-170c-48a0-a9e2-ae8c3c80cbae",
   "metadata": {},
   "source": [
    "En lugar de usar fuerza bruta (Monte Carlo o algoritmos iterativos) para encontrar la respuesta empezaremos a usar búsquedas dirigidas para intentar mejorar nuestros resultados mientras diminuimos nuestro tiempo de procesamiento."
   ]
  },
  {
   "cell_type": "code",
   "execution_count": null,
   "id": "a7c80c90-8c69-4055-a7f6-e29a730e1fe1",
   "metadata": {},
   "outputs": [],
   "source": []
  },
  {
   "cell_type": "code",
   "execution_count": null,
   "id": "33ca80c5-c2c1-4486-bc9d-a0bbb145edf5",
   "metadata": {},
   "outputs": [],
   "source": []
  }
 ],
 "metadata": {
  "kernelspec": {
   "display_name": "Python 3 (ipykernel)",
   "language": "python",
   "name": "python3"
  },
  "language_info": {
   "codemirror_mode": {
    "name": "ipython",
    "version": 3
   },
   "file_extension": ".py",
   "mimetype": "text/x-python",
   "name": "python",
   "nbconvert_exporter": "python",
   "pygments_lexer": "ipython3",
   "version": "3.12.4"
  }
 },
 "nbformat": 4,
 "nbformat_minor": 5
}
