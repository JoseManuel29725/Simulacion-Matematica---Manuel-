{
 "cells": [
  {
   "cell_type": "markdown",
   "id": "366cb221-18d8-4a87-8454-eec0a2bc59b8",
   "metadata": {},
   "source": [
    "Jose Manuel Orozco Martinez\n",
    "04/09/24\n",
    "## Resuelve los siguientes problemas usando sympy:"
   ]
  },
  {
   "cell_type": "markdown",
   "id": "79becce3-88ec-404a-9fa2-8a491f2c7a91",
   "metadata": {},
   "source": [
    "## Optimizacion "
   ]
  },
  {
   "cell_type": "markdown",
   "id": "1a37f099-eee8-4317-8785-ea48e2321bcf",
   "metadata": {},
   "source": [
    "### Ejercicio 1"
   ]
  },
  {
   "cell_type": "code",
   "execution_count": null,
   "id": "27c7fcfd-e103-4a75-a337-4fd4cd80ab6c",
   "metadata": {},
   "outputs": [],
   "source": [
    "#1-. definimos el problema:\n",
    "#Sea a la longitud de los lados iguales.\n",
    "#Sea b la longitud de la base del triángulo.\n",
    "#El triángulo rota alrededor de su eje de simetría para formar un cono.\n",
    "#El perímetro del triángulo es:"
   ]
  },
  {
   "cell_type": "markdown",
   "id": "96e0a90d-677d-4855-a9d9-e4e05332cf89",
   "metadata": {},
   "source": [
    " $P=2a+b=20 cm.$"
   ]
  },
  {
   "cell_type": "code",
   "execution_count": 23,
   "id": "c3ea79f6-f758-43ed-a255-1716fc7a6067",
   "metadata": {},
   "outputs": [],
   "source": [
    "#2-.Geometría del problema:\n",
    "\n",
    "#La altura h del triángulo, que será el radio de la base del cono, puede expresarse en términos de a y b usando el teorema de Pitágoras:\n",
    "#h=sqrt\\a^2-(b/2)^2\n",
    "#el volumen de un cono es: 1/3.pi*r^2\n",
    "#3-.Maximización del volumen:\n",
    "# tomamos el volumen en terminos de a y b , sustituimos= 20-2a y luego maximizamos V respecto a A"
   ]
  },
  {
   "cell_type": "code",
   "execution_count": 24,
   "id": "97ef4e5f-3905-482d-af1f-4f68ca12857c",
   "metadata": {},
   "outputs": [
    {
     "name": "stdout",
     "output_type": "stream",
     "text": [
      "Sus lados deben medir: [7.50000000000000]\n",
      "EL volumen maximo es: [41.6666666666667*pi]\n",
      "La longitud de la base es: [5.00000000000000]\n"
     ]
    },
    {
     "data": {
      "text/plain": [
       "(None, None, None)"
      ]
     },
     "execution_count": 24,
     "metadata": {},
     "output_type": "execute_result"
    }
   ],
   "source": [
    "import sympy as sp\n",
    "\n",
    "# Definimos las variables \n",
    "a, b = sp.symbols('a b',positive=True) \n",
    "P = 20\n",
    "b_expr = P - 2*a  # Expresión para b en términos de a\n",
    "h = sp.sqrt(a**2 - (b_expr/2)**2) # Altura \n",
    "V = (1/3) * sp.pi * h**2 * (b_expr/2) #volumen\n",
    "\n",
    "V_simpl = sp.simplify(V)\n",
    "V_prima = sp.diff(V_simpl, a)# Derivadar\n",
    "\n",
    "# Resolver para encontrar el valor de a que maximiza V\n",
    "a_optima = sp.solve(V_prima, a)\n",
    "b_optima = [P - 2*a_val for a_val in a_optima]\n",
    "V_max = [V_simpl.subs(a, a_val) for a_val in a_optima]\n",
    "\n",
    "print(\"Sus lados deben medir:\",a_optima), print(\"EL volumen maximo es:\",V_max),print(\"La longitud de la base es:\",b_optima)"
   ]
  },
  {
   "cell_type": "markdown",
   "id": "2506c9d5-a401-408e-bf51-dc711061fb5b",
   "metadata": {},
   "source": [
    "### Ejercicio 2"
   ]
  },
  {
   "cell_type": "code",
   "execution_count": 36,
   "id": "11f12155-72ef-4753-844c-887e74ef651c",
   "metadata": {},
   "outputs": [],
   "source": [
    "# 1-. Definimos variables:\n",
    "#Sea x la longitud de cada poste vertical.\n",
    "#Sea y la longitud del travesaño horizontal.\n",
    "#La suma de las longitudes de las tres piezas de la portería , es igual a la longitud total de la barra:"
   ]
  },
  {
   "cell_type": "markdown",
   "id": "5a392ec0-6367-428f-8ba7-203727bb5433",
   "metadata": {},
   "source": [
    "$ 2x-y=6$"
   ]
  },
  {
   "cell_type": "code",
   "execution_count": 39,
   "id": "d25fa0f3-c226-453b-8d9f-11deeab2a646",
   "metadata": {},
   "outputs": [],
   "source": [
    "#2-. Area de la porteria:\n"
   ]
  },
  {
   "cell_type": "markdown",
   "id": "d925afaf-9122-4473-bfda-4b005e7b19bb",
   "metadata": {},
   "source": [
    "$A= x*y$"
   ]
  },
  {
   "cell_type": "code",
   "execution_count": 43,
   "id": "e1380267-a350-4d72-9aa7-0714f0c99464",
   "metadata": {},
   "outputs": [],
   "source": [
    "# Necesitamos expresar A en terminos de una sola variable usando 2x-y=6\n",
    "#despejamos y de la ecuacion : "
   ]
  },
  {
   "cell_type": "markdown",
   "id": "0a55a6ef-42dd-402c-ad1a-9204e313bc88",
   "metadata": {},
   "source": [
    "$ y=6-2x$"
   ]
  },
  {
   "cell_type": "code",
   "execution_count": 46,
   "id": "ba19e177-6032-42c7-8cb5-10c95c74ea28",
   "metadata": {},
   "outputs": [],
   "source": [
    "#sustituimos:"
   ]
  },
  {
   "cell_type": "markdown",
   "id": "d720471a-cb09-48e8-b39e-82aff0cdbf7f",
   "metadata": {},
   "source": [
    "$A(x)= x*(6-2x)$"
   ]
  },
  {
   "cell_type": "code",
   "execution_count": 49,
   "id": "9218f111-0a38-4b32-a15a-9283ffd57b87",
   "metadata": {},
   "outputs": [],
   "source": [
    "#Para encontrar el valor de x que maximiza el área, tomamos la derivada A(x) y igualamos a cero "
   ]
  },
  {
   "cell_type": "code",
   "execution_count": 34,
   "id": "5e45aeed-08ba-4113-a2b4-3b3ef4609fca",
   "metadata": {},
   "outputs": [
    {
     "name": "stdout",
     "output_type": "stream",
     "text": [
      "sus lados miden: [3/2] [3]\n",
      "El area maxima es: [9/2]\n"
     ]
    },
    {
     "data": {
      "text/plain": [
       "(None, None)"
      ]
     },
     "execution_count": 34,
     "metadata": {},
     "output_type": "execute_result"
    }
   ],
   "source": [
    "import sympy as sp\n",
    "\n",
    "# Definir la variable \n",
    "x = sp.symbols('x', positive=True)\n",
    "y = 6 - 2*x\n",
    "A = x * y\n",
    "A_prima = sp.diff(A, x)\n",
    "x_optima = sp.solve(A_prima, x)\n",
    "\n",
    "# Calcular y correspondiente\n",
    "y_optima = [6 - 2*x_val for x_val in x_optima]\n",
    "A_max = [A.subs(x, x_val) for x_val in x_optima]\n",
    "print(\"sus lados miden:\",x_optima, y_optima), print(\"El area maxima es:\",A_max)"
   ]
  },
  {
   "cell_type": "markdown",
   "id": "a1f68f21-43dc-40c1-880a-9d296cd98357",
   "metadata": {},
   "source": [
    "### Ejercicio 3 "
   ]
  },
  {
   "cell_type": "markdown",
   "id": "a81f6340-e88f-426c-8e0a-08ca6c20227c",
   "metadata": {},
   "source": [
    "resistencia de una viga:"
   ]
  },
  {
   "cell_type": "code",
   "execution_count": 19,
   "id": "15d1e46f-fa4d-4728-82bd-0b514b18a75c",
   "metadata": {},
   "outputs": [],
   "source": [
    "# Para resolver esto debemos maximisar:"
   ]
  },
  {
   "cell_type": "markdown",
   "id": "ac30c416-6235-4e17-b372-5c71a97eb0a8",
   "metadata": {},
   "source": [
    "$S=kwh^2$"
   ]
  },
  {
   "cell_type": "code",
   "execution_count": 26,
   "id": "e26b2b87-becf-4f87-825a-2e67e35de42f",
   "metadata": {},
   "outputs": [],
   "source": [
    "# Como la viga debe ser cortada a la mitad en el circulo de 24 pulgadas.\n",
    "#la sección transversal rectangular de la viga debe estar dentro de un círculo de radio 12 pulgadas.\n",
    "#entonces que maximisar la ecuacion bajo la restriccion de:"
   ]
  },
  {
   "cell_type": "markdown",
   "id": "0d7378f1-5133-4053-a5da-2ac4cac1f964",
   "metadata": {},
   "source": [
    "$w ^2+h2 <= 12^2$ esto es igual a = $w ^2+h^2=144$"
   ]
  },
  {
   "cell_type": "code",
   "execution_count": 125,
   "id": "336b454b-1b1b-4c9a-84ff-c8c255d412eb",
   "metadata": {},
   "outputs": [
    {
     "name": "stdout",
     "output_type": "stream",
     "text": [
      "Dado que h es igual a w sumados son el resultado:  8.48528137423857 8.48528137423857\n"
     ]
    }
   ],
   "source": [
    "import sympy as sp\n",
    "\n",
    "# Definir las variables\n",
    "h, w = sp.symbols('h w')\n",
    "k = sp.symbols('k')\n",
    "# Restricción del círculo:\n",
    "restriction = sp.Eq(w**2 + h**2, 144)\n",
    "# Resistencia:\n",
    "S = k * w * h**2\n",
    "# caso en el que h = w\n",
    "h_igual_w = sp.sqrt(144 / 2)\n",
    "w_igual_h = h_equal_w\n",
    "print(\"Dado que h es igual a w sumados son el resultado: \",h_igual_w, w_igual_h)"
   ]
  },
  {
   "cell_type": "markdown",
   "id": "79d89dee-429b-44c4-8bc9-43e32b3cf813",
   "metadata": {},
   "source": [
    "### Ejercicio 4"
   ]
  },
  {
   "cell_type": "markdown",
   "id": "7e16e478-2645-4b2a-b52d-a5d465774093",
   "metadata": {},
   "source": [
    "Iluminacion:"
   ]
  },
  {
   "cell_type": "code",
   "execution_count": 63,
   "id": "3a86bc09-e0c2-4f67-9493-aa240e6a015a",
   "metadata": {},
   "outputs": [],
   "source": [
    "# para encontrar la altura h que maximisa la iluminacion I en el perimetro de la mesa \n",
    "# necesitamos optimizar la ecuacion:"
   ]
  },
  {
   "cell_type": "markdown",
   "id": "4ee2f6b5-1ee6-437a-b5f5-7227c2ebfad5",
   "metadata": {},
   "source": [
    "$sin(α)/s^2$"
   ]
  },
  {
   "cell_type": "code",
   "execution_count": 68,
   "id": "57bfcec1-3d91-4975-a86e-93c9e28c6fde",
   "metadata": {},
   "outputs": [],
   "source": [
    "#definimos las variables y el radio de la mesa\n",
    "#Escribimos la expresion para la altura oblicua s en funcion de h y el radio de la mesa\n",
    "#utilizando teorema de pitagoras.\n",
    "#Escribir la funcion de iluminacion I.\n",
    "#optimizamos la funcion I con respecto a h"
   ]
  },
  {
   "cell_type": "code",
   "execution_count": 76,
   "id": "7d786363-c2be-4441-af92-9f4ca8f28650",
   "metadata": {},
   "outputs": [
    {
     "name": "stdout",
     "output_type": "stream",
     "text": [
      "La altura óptima h que maximiza la iluminación es: 0\n"
     ]
    }
   ],
   "source": [
    "import sympy as sp\n",
    "h, R, theta = sp.symbols('h R theta')\n",
    "R_valor = 2  # Radio de la mesa \n",
    "s = sp.sqrt(h**2 + R**2)\n",
    "alpha = sp.asin(R / s)\n",
    "#iluminación I\n",
    "I = sp.sin(alpha) / s**2\n",
    "I_diff_h = sp.diff(I, h)# Derivar I con respecto a h\n",
    "# Encontrar la altura h que maximiza I\n",
    "valor_h_optima = sp.solve(I_diff_h, h)[0]\n",
    "valor_h_optima = valor_h_optima.subs(R, R_valor)\n",
    "\n",
    "print(\"La altura óptima h que maximiza la iluminación es:\" ,valor_h_optima)"
   ]
  },
  {
   "cell_type": "markdown",
   "id": "c04af3b5-b709-47e6-a304-77f1c70a68d6",
   "metadata": {},
   "source": [
    "### Ejercicio 5"
   ]
  },
  {
   "cell_type": "markdown",
   "id": "9f14b8df-5f3a-41a3-8e20-1c0661eb9695",
   "metadata": {},
   "source": [
    "Fuerza Minima:"
   ]
  },
  {
   "cell_type": "markdown",
   "id": "044dbf47-9e70-4e31-9b4c-a80db85d8c33",
   "metadata": {},
   "source": [
    "En este se me complico mas buscar informacion de como resolverlo pero creo que se pudo "
   ]
  },
  {
   "cell_type": "code",
   "execution_count": 90,
   "id": "ba5214b8-ff9f-4fd1-b3a2-5deafbc09da4",
   "metadata": {},
   "outputs": [],
   "source": [
    "# Identificamos la fuerza de friccion se calcula:\n"
   ]
  },
  {
   "cell_type": "markdown",
   "id": "77526278-8f06-4590-b098-b2527c45c11e",
   "metadata": {},
   "source": [
    "$Fr= k*W*cos(θ)$"
   ]
  },
  {
   "cell_type": "code",
   "execution_count": 93,
   "id": "373c84e4-a7f2-49dd-9c51-12050110a7d4",
   "metadata": {},
   "outputs": [],
   "source": [
    "#Ahora identificamos la fuerza minima:\n"
   ]
  },
  {
   "cell_type": "markdown",
   "id": "ed820f17-18c4-4150-ac8b-f7c5e659d5e0",
   "metadata": {},
   "source": [
    "$ f=Fr+W*sin(θ)$"
   ]
  },
  {
   "cell_type": "code",
   "execution_count": 96,
   "id": "54a08c4a-cd08-4b16-89f1-4f6fd2f47283",
   "metadata": {},
   "outputs": [],
   "source": [
    "#buscar el valor de θ que hace que esta derivada sea cero.\n"
   ]
  },
  {
   "cell_type": "code",
   "execution_count": 123,
   "id": "2ac44295-4bda-495b-882d-b4aa67794228",
   "metadata": {},
   "outputs": [
    {
     "data": {
      "text/plain": [
       "(0.0, 1.0)"
      ]
     },
     "execution_count": 123,
     "metadata": {},
     "output_type": "execute_result"
    }
   ],
   "source": [
    "import numpy as np\n",
    "\n",
    "k = 0.1\n",
    "W = 10  # Peso en Newtons\n",
    "# Rango de ángulos a evaluar\n",
    "thetas = np.arange(0, 90, 0.01)\n",
    "\n",
    "# Calcular la fuerza para cada ángulo\n",
    "fuerzas = k * W * np.cos(np.radians(thetas)) + W * np.sin(np.radians(thetas))\n",
    "\n",
    "# Encontrar el ángulo que minimiza la fuerza\n",
    "indice_min = np.argmin(fuerzas)\n",
    "theta_optima = thetas[indice_min]\n",
    "f_min = fuerzas[indice_min]\n",
    "theta_optima, f_min"
   ]
  },
  {
   "cell_type": "code",
   "execution_count": null,
   "id": "4e25d5cb-9f50-450e-b0ce-a76401caeaf6",
   "metadata": {},
   "outputs": [],
   "source": []
  }
 ],
 "metadata": {
  "kernelspec": {
   "display_name": "Python 3 (ipykernel)",
   "language": "python",
   "name": "python3"
  },
  "language_info": {
   "codemirror_mode": {
    "name": "ipython",
    "version": 3
   },
   "file_extension": ".py",
   "mimetype": "text/x-python",
   "name": "python",
   "nbconvert_exporter": "python",
   "pygments_lexer": "ipython3",
   "version": "3.12.4"
  }
 },
 "nbformat": 4,
 "nbformat_minor": 5
}
