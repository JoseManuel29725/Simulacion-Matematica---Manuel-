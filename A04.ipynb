{
 "cells": [
  {
   "cell_type": "markdown",
   "id": "8f94f338-358b-4ee8-98a3-2f49d9c87584",
   "metadata": {},
   "source": [
    "# A04_sympy"
   ]
  },
  {
   "cell_type": "markdown",
   "id": "70eca955-ca5d-4daf-8bf7-e6a06bfaf703",
   "metadata": {},
   "source": [
    "1. Utiliza sympy y encuentra los valores de las incógnitas que hagan que los siguientes sistemas de ecuaciones sean verdaderos:"
   ]
  },
  {
   "cell_type": "markdown",
   "id": "ef165194-f510-476e-a0b3-24acbb060171",
   "metadata": {},
   "source": [
    "### Ejercicio 1"
   ]
  },
  {
   "cell_type": "code",
   "execution_count": 8,
   "id": "8201d08e-240a-496c-ba28-36334bb8003f",
   "metadata": {},
   "outputs": [
    {
     "data": {
      "text/plain": [
       "(6, 4)"
      ]
     },
     "execution_count": 8,
     "metadata": {},
     "output_type": "execute_result"
    }
   ],
   "source": [
    "import sympy as sp\n",
    "sp.var(\"x\")\n",
    "sp.var(\"y\")\n",
    "\n",
    "# defino ecuaciones \n",
    "eq1 = x + y -10\n",
    "eq2 = x-y-2\n",
    "\n",
    "#resuelvo una variable en una ecuacion \n",
    "x_eq1= sp.solve(eq1,x)[0]\n",
    "x_eq1\n",
    "#Sustituyo en segunda ecuacion \n",
    "y_eq2 = eq2.subs(x,x_eq1)\n",
    "#resuelvo segunda ecuacion \n",
    "y_sol = sp.solve(y_eq2, y)[0]\n",
    "# sustituyo valor de 'y'para encontrar valor de 'x'\n",
    "x_sol = x_eq1.subs(y,y_sol)\n",
    "\n",
    "x_sol , y_sol"
   ]
  },
  {
   "cell_type": "markdown",
   "id": "32bcf692-fd09-4dc7-8550-b645739323c4",
   "metadata": {},
   "source": [
    "### Ejercicio 2"
   ]
  },
  {
   "cell_type": "code",
   "execution_count": 31,
   "id": "dcfc8e63-8b5d-4722-87e7-b7d1e35d8b59",
   "metadata": {},
   "outputs": [
    {
     "data": {
      "text/plain": [
       "(1.00000000000000, 1.00000000000000)"
      ]
     },
     "execution_count": 31,
     "metadata": {},
     "output_type": "execute_result"
    }
   ],
   "source": [
    "import sympy as sp\n",
    "sp.var(\"x\")\n",
    "sp.var(\"y\")\n",
    "\n",
    "# defino ecuaciones \n",
    "eq1 = (3*x -2*y)/3 + 4*y-(13/3)\n",
    "eq2 = ((2*(-2*y+x))/3) - ((3*x)/2) +(13/6)\n",
    "\n",
    "#resuelvo una variable en una ecuacion \n",
    "x_eq1= sp.solve(eq1,x)[0]\n",
    "x_eq1\n",
    "#Sustituyo en segunda ecuacion \n",
    "y_eq2 = eq2.subs(x,x_eq1)\n",
    "#resuelvo segunda ecuacion \n",
    "y_sol = sp.solve(y_eq2, y)[0]\n",
    "# sustituyo valor de 'y'para encontrar valor de 'x'\n",
    "x_sol = x_eq1.subs(y,y_sol)\n",
    "\n",
    "x_sol , y_sol"
   ]
  },
  {
   "cell_type": "markdown",
   "id": "67748e57-1655-4ae8-956c-39c4199ab098",
   "metadata": {},
   "source": [
    "###  Ejercicio 3"
   ]
  },
  {
   "cell_type": "code",
   "execution_count": 21,
   "id": "f7accebb-307b-49d8-9fd6-8413eb081968",
   "metadata": {},
   "outputs": [
    {
     "data": {
      "text/plain": [
       "(-sqrt(12 - 2*sqrt(11)), -sqrt(11) - 2)"
      ]
     },
     "execution_count": 21,
     "metadata": {},
     "output_type": "execute_result"
    }
   ],
   "source": [
    "import sympy as sp\n",
    "sp.var(\"x\")\n",
    "sp.var(\"y\")\n",
    "\n",
    "# defino ecuaciones \n",
    "eq1 = x**2 -2*y-16\n",
    "eq2 = x-y-3\n",
    "\n",
    "#resuelvo una variable en una ecuacion \n",
    "x_eq1= sp.solve(eq1,x)[0]\n",
    "x_eq1\n",
    "#Sustituyo en segunda ecuacion \n",
    "y_eq2 = eq2.subs(x,x_eq1)\n",
    "#resuelvo segunda ecuacion \n",
    "y_sol = sp.solve(y_eq2, y)[0]\n",
    "# sustituyo valor de 'y'para encontrar valor de 'x'\n",
    "x_sol = x_eq1.subs(y,y_sol)\n",
    "\n",
    "x_sol , y_sol"
   ]
  },
  {
   "cell_type": "markdown",
   "id": "95dddf20-7caa-45cf-b135-4cd8da35767a",
   "metadata": {},
   "source": [
    "### Ejercicio 4 "
   ]
  },
  {
   "cell_type": "code",
   "execution_count": 24,
   "id": "be2cdfba-8d90-4fca-814e-a7dac9f421a6",
   "metadata": {},
   "outputs": [
    {
     "data": {
      "text/plain": [
       "(z/2 + 6, z/2 + 4, y - 5)"
      ]
     },
     "execution_count": 24,
     "metadata": {},
     "output_type": "execute_result"
    }
   ],
   "source": [
    "import sympy as sp\n",
    "sp.var(\"x\")\n",
    "sp.var(\"y\")\n",
    "sp.var(\"z\")\n",
    "# defino ecuaciones \n",
    "eq1 = x+y-z-10\n",
    "eq2 = x-y-2\n",
    "eq3 = y+z+2\n",
    "#resuelvo una variable en una ecuacion \n",
    "x_eq1= sp.solve(eq1,x)[0]\n",
    "x_eq1\n",
    "#Sustituyo en segunda ecuacion \n",
    "y_eq2 = eq2.subs(x,x_eq1)\n",
    "#sustituyo con tercera ecuacion \n",
    "z_eq3 = eq3.subs(y,y_eq2)\n",
    "#resuelvo segunda ecuacion \n",
    "y_sol = sp.solve(y_eq2, y)[0]\n",
    "#resuelvo tercera  ecuacion\n",
    "z_sol= sp.solve(z_eq3, z)[0]\n",
    "# sustituyo valor de 'y'para encontrar valor de 'x'\n",
    "x_sol = x_eq1.subs(y,y_sol)\n",
    "\n",
    "x_sol , y_sol , z_sol"
   ]
  },
  {
   "cell_type": "markdown",
   "id": "43a2beaa-30e9-4b1f-8e1b-8963fcec5194",
   "metadata": {},
   "source": [
    "2. Encuentra los puntos críticos usando cálculo diferencial, decide si son máximos o mínimos usando el criterio de la segunda derivada, y grafica para decidir se son óptimos locales o globales:"
   ]
  },
  {
   "cell_type": "markdown",
   "id": "0e057ce5-66a2-40f3-943f-02b9491e7b3f",
   "metadata": {},
   "source": [
    "$f(x) = 1235 +113x-6x^2$"
   ]
  },
  {
   "cell_type": "code",
   "execution_count": 35,
   "id": "b4b72b61-e1a9-4aea-a459-3b0df54711c7",
   "metadata": {},
   "outputs": [
    {
     "name": "stdout",
     "output_type": "stream",
     "text": [
      "[113/12]\n"
     ]
    },
    {
     "data": {
      "text/latex": [
       "$\\displaystyle -12$"
      ],
      "text/plain": [
       "-12"
      ]
     },
     "execution_count": 35,
     "metadata": {},
     "output_type": "execute_result"
    }
   ],
   "source": [
    "def f(x) :\n",
    "    return 1235+113*x-6*x**2\n",
    "sp.var(\"x\") # defino variable \n",
    "df= sp.diff(f(x),x) # encuentro derivada 1\n",
    "pc = sp.solve(df,x) # encuentro punto critico \n",
    "print(pc)\n",
    "d2f = sp.diff(df,x) # Encuentra la derivada 2\n",
    "d2f # para saber si es un minimo o un maximo \n",
    "\n"
   ]
  },
  {
   "cell_type": "code",
   "execution_count": 94,
   "id": "fb83ed87-563b-4c45-b4a1-a3d2afc0c3e4",
   "metadata": {},
   "outputs": [
    {
     "name": "stdout",
     "output_type": "stream",
     "text": [
      "El punto critico está en113/12\n"
     ]
    },
    {
     "data": {
      "text/plain": [
       "[<matplotlib.lines.Line2D at 0x2a01d761e20>]"
      ]
     },
     "execution_count": 94,
     "metadata": {},
     "output_type": "execute_result"
    },
    {
     "data": {
      "image/png": "[encoded data removed]",
      "text/plain": [
       "<Figure size 600x300 with 1 Axes>"
      ]
     },
     "metadata": {},
     "output_type": "display_data"
    }
   ],
   "source": [
    "import sympy as sp \n",
    "sp.var(\"x\")\n",
    "y= 1235+113*x-6*x**2\n",
    "def g(x):\n",
    "    return 1235+113*x-6*x**2\n",
    "dg = sp.diff(g(x),x)\n",
    "pc = sp.solve(dg,x)\n",
    "print(\"El punto critico está en\" + str(pc[0]))\n",
    "import numpy as np\n",
    "x = np.linspace(-20 ,5,200)\n",
    "plt.figure(figsize=(6,3))\n",
    "plt.plot(x,g(x))\n",
    "plt.grid()\n",
    "plt.plot(-12, g(-12), \"*r\", ms=20)"
   ]
  },
  {
   "cell_type": "markdown",
   "id": "13ada075-fc92-42cc-af31-c888b586d8f4",
   "metadata": {},
   "source": [
    "$f(x)=-3+x+pi/x $ para "
   ]
  },
  {
   "cell_type": "markdown",
   "id": "05058fb6-0300-48d8-b95a-947b261a461c",
   "metadata": {},
   "source": [
    "$x>0$ "
   ]
  },
  {
   "cell_type": "code",
   "execution_count": 113,
   "id": "921fba82-612f-4f34-a222-54c1e949ca66",
   "metadata": {},
   "outputs": [
    {
     "name": "stdout",
     "output_type": "stream",
     "text": [
      "[-1.77245385090552, 1.77245385090552]\n"
     ]
    },
    {
     "data": {
      "text/latex": [
       "$\\displaystyle \\frac{6.28318530717959}{x^{3}}$"
      ],
      "text/plain": [
       "6.28318530717959/x**3"
      ]
     },
     "execution_count": 113,
     "metadata": {},
     "output_type": "execute_result"
    }
   ],
   "source": [
    "\n",
    "def f(x) :\n",
    "    return -3+x+np.pi/x\n",
    "sp.var(\"x\") # defino variable \n",
    "df= sp.diff(f(x),x) # encuentro derivada 1\n",
    "pc = sp.solve(df,x) # encuentro punto critico \n",
    "print(pc)\n",
    "d2f = sp.diff(df,x) # Encuentra la derivada 2\n",
    "d2f # para saber si es un minimo o un maximo \n"
   ]
  },
  {
   "cell_type": "code",
   "execution_count": 115,
   "id": "52054749-4f0e-43f9-a39b-a269aecc7a9d",
   "metadata": {},
   "outputs": [
    {
     "name": "stdout",
     "output_type": "stream",
     "text": [
      "El punto critico está en-1.77245385090552\n"
     ]
    },
    {
     "data": {
      "text/plain": [
       "[<matplotlib.lines.Line2D at 0x2a01f242210>]"
      ]
     },
     "execution_count": 115,
     "metadata": {},
     "output_type": "execute_result"
    },
    {
     "data": {
      "image/png": "[encoded data removed]",
      "text/plain": [
       "<Figure size 600x300 with 1 Axes>"
      ]
     },
     "metadata": {},
     "output_type": "display_data"
    }
   ],
   "source": [
    "import sympy as sp \n",
    "sp.var(\"x\")\n",
    "y= -3+x+np.pi/x\n",
    "def g(x):\n",
    "    return -3+x+np.pi/x\n",
    "dg = sp.diff(g(x),x)\n",
    "pc = sp.solve(dg,x)\n",
    "print(\"El punto critico está en\" + str(pc[0]))\n",
    "import numpy as np\n",
    "x = np.linspace(-20 ,5,200)\n",
    "plt.figure(figsize=(6,3))\n",
    "plt.plot(x,g(x))\n",
    "plt.grid()\n",
    "plt.plot(-12, g(-12), \"*r\", ms=20)"
   ]
  },
  {
   "cell_type": "code",
   "execution_count": null,
   "id": "7cadde20-6796-437c-ae1a-d865e2784b02",
   "metadata": {},
   "outputs": [],
   "source": []
  }
 ],
 "metadata": {
  "kernelspec": {
   "display_name": "Python 3 (ipykernel)",
   "language": "python",
   "name": "python3"
  },
  "language_info": {
   "codemirror_mode": {
    "name": "ipython",
    "version": 3
   },
   "file_extension": ".py",
   "mimetype": "text/x-python",
   "name": "python",
   "nbconvert_exporter": "python",
   "pygments_lexer": "ipython3",
   "version": "3.12.4"
  }
 },
 "nbformat": 4,
 "nbformat_minor": 5
}
