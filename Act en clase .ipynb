{
 "cells": [
  {
   "cell_type": "markdown",
   "id": "7824fd22-28c4-47b2-ac47-b65055717570",
   "metadata": {},
   "source": [
    "# Factorial "
   ]
  },
  {
   "cell_type": "markdown",
   "id": "d2ccbab0-0832-4ac4-afdb-628e7ddb1ba6",
   "metadata": {},
   "source": [
    "##  Dada una entrada ‘a’, imprimir el factorial de ‘a’."
   ]
  },
  {
   "cell_type": "code",
   "execution_count": 3,
   "id": "08150dc7-34a4-4847-ae8f-3f4db4fa50dd",
   "metadata": {},
   "outputs": [
    {
     "name": "stdout",
     "output_type": "stream",
     "text": [
      "El factorial es: 120\n"
     ]
    }
   ],
   "source": [
    "a = 5\n",
    "fac = 1\n",
    "if a != 0:\n",
    "    for i in range(1,a+1):\n",
    "        fac = fac *i \n",
    "print(\"El factorial es:\",fac)"
   ]
  },
  {
   "cell_type": "markdown",
   "id": "46840146-3b1e-4961-b39b-a29676d6ced8",
   "metadata": {},
   "source": [
    "#  Números primos"
   ]
  },
  {
   "cell_type": "markdown",
   "id": "32f3f28c-cf98-4dc6-ab10-7d7e99e0de98",
   "metadata": {},
   "source": [
    "## Dada una entrada ‘a’, imprimir si ‘a’ es un número primo."
   ]
  },
  {
   "cell_type": "code",
   "execution_count": 8,
   "id": "8d7f3b4c-f8cd-411a-9501-dd77dbd98891",
   "metadata": {},
   "outputs": [
    {
     "name": "stdout",
     "output_type": "stream",
     "text": [
      " es un número primo.\n"
     ]
    }
   ],
   "source": [
    "a = 2\n",
    "if a <= 1:\n",
    "    print(\"No es numero primo\")\n",
    "else: \n",
    "    primo = True\n",
    "    for i in range(2, a):\n",
    "        if a % i == 0:\n",
    "            primo = False\n",
    "            break\n",
    "    if primo:\n",
    "        print(\" es un número primo.\")\n",
    "    else:\n",
    "        print(\" no es un número primo.\")"
   ]
  },
  {
   "cell_type": "markdown",
   "id": "2f55e222-5def-47da-bc61-6872f741b97a",
   "metadata": {},
   "source": []
  },
  {
   "cell_type": "code",
   "execution_count": null,
   "id": "d6414dbd-0a7a-49ed-a0ba-c8a438450214",
   "metadata": {},
   "outputs": [],
   "source": []
  }
 ],
 "metadata": {
  "kernelspec": {
   "display_name": "Python 3 (ipykernel)",
   "language": "python",
   "name": "python3"
  },
  "language_info": {
   "codemirror_mode": {
    "name": "ipython",
    "version": 3
   },
   "file_extension": ".py",
   "mimetype": "text/x-python",
   "name": "python",
   "nbconvert_exporter": "python",
   "pygments_lexer": "ipython3",
   "version": "3.12.4"
  }
 },
 "nbformat": 4,
 "nbformat_minor": 5
}
