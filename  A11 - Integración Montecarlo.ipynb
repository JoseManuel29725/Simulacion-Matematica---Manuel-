{
 "cells": [
  {
   "cell_type": "markdown",
   "id": "17929e94-d95e-4330-97ad-bfed2cd2a7dc",
   "metadata": {},
   "source": [
    "# A11 - Integración Montecarlo"
   ]
  },
  {
   "cell_type": "markdown",
   "id": "7a8614a3-3ba4-406c-bebd-7c8559c0bcd2",
   "metadata": {},
   "source": [
    "**1.-** Se tiene la siguiente ecuación diferencial:"
   ]
  },
  {
   "cell_type": "code",
   "execution_count": 13,
   "id": "bfa3ac92-53e9-478d-b1fa-ecb4fb503b2b",
   "metadata": {},
   "outputs": [],
   "source": [
    "def montecarlo_tipo1(f,a,b,n) : \n",
    "    u = np.random.uniform(a,b,n)\n",
    "    return np.mean(f(u)*(b-a))"
   ]
  },
  {
   "cell_type": "code",
   "execution_count": 89,
   "id": "9b9915e6-9e02-45f4-b6ba-12e3501a15ea",
   "metadata": {},
   "outputs": [],
   "source": [
    "def f(x):\n",
    "    return np.log(1.5+ np.sin(x**2))/(x*np.exp(-x**2))\n",
    "\n",
    "int1 = montecarlo_tipo1(f,0.1,0.3,1000000)"
   ]
  },
  {
   "cell_type": "code",
   "execution_count": 91,
   "id": "d9ba149e-ee5f-4c6b-b621-81cccbd59aec",
   "metadata": {},
   "outputs": [],
   "source": [
    "int2 = montecarlo_tipo1(f,0.3,0.5,1000000)"
   ]
  },
  {
   "cell_type": "code",
   "execution_count": 93,
   "id": "bf002374-f533-4efb-9a07-d27b0d7215a1",
   "metadata": {},
   "outputs": [],
   "source": [
    "int3 = montecarlo_tipo1(f,0.5,0.7,1000000)"
   ]
  },
  {
   "cell_type": "code",
   "execution_count": 95,
   "id": "cd0cb692-63b8-4b34-8ba5-80cf1b94f396",
   "metadata": {},
   "outputs": [],
   "source": [
    "int4 = montecarlo_tipo1(f,0.7,0.9,1000000)"
   ]
  },
  {
   "cell_type": "code",
   "execution_count": 97,
   "id": "f68fd4e6-f372-41b3-ab0a-594632facc22",
   "metadata": {},
   "outputs": [],
   "source": [
    "int5 = montecarlo_tipo1(f,0.9,1.1,1000000)"
   ]
  },
  {
   "cell_type": "markdown",
   "id": "0bab4c24-2710-4f8f-863d-460ade46f3a4",
   "metadata": {},
   "source": [
    "**a)** Integra los siguientes intervalos utilizando 1 millón de muestras. Escribe los resultados en un DataFrame de pandas."
   ]
  },
  {
   "cell_type": "code",
   "execution_count": 99,
   "id": "32bb346e-326f-457c-aa73-4808941a5d07",
   "metadata": {},
   "outputs": [
    {
     "data": {
      "text/html": [
       "<div>\n",
       "<style scoped>\n",
       "    .dataframe tbody tr th:only-of-type {\n",
       "        vertical-align: middle;\n",
       "    }\n",
       "\n",
       "    .dataframe tbody tr th {\n",
       "        vertical-align: top;\n",
       "    }\n",
       "\n",
       "    .dataframe thead th {\n",
       "        text-align: right;\n",
       "    }\n",
       "</style>\n",
       "<table border=\"1\" class=\"dataframe\">\n",
       "  <thead>\n",
       "    <tr style=\"text-align: right;\">\n",
       "      <th></th>\n",
       "      <th>intervalos1</th>\n",
       "      <th>intervalos2</th>\n",
       "      <th>intervalos3</th>\n",
       "      <th>intervalos4</th>\n",
       "      <th>intervalos5</th>\n",
       "    </tr>\n",
       "  </thead>\n",
       "  <tbody>\n",
       "    <tr>\n",
       "      <th>0</th>\n",
       "      <td>0.489805</td>\n",
       "      <td>0.30214</td>\n",
       "      <td>0.296817</td>\n",
       "      <td>0.353366</td>\n",
       "      <td>0.465386</td>\n",
       "    </tr>\n",
       "  </tbody>\n",
       "</table>\n",
       "</div>"
      ],
      "text/plain": [
       "   intervalos1  intervalos2  intervalos3   intervalos4   intervalos5 \n",
       "0     0.489805      0.30214      0.296817      0.353366      0.465386"
      ]
     },
     "execution_count": 99,
     "metadata": {},
     "output_type": "execute_result"
    }
   ],
   "source": [
    "import pandas as pd \n",
    "renglones =[]\n",
    "tabla = pd.DataFrame()\n",
    "tabla.loc[0,\"intervalos1\"]= int1\n",
    "tabla.loc[0,\"intervalos2\"]= int2\n",
    "tabla.loc[0,\"intervalos3 \"]= int3\n",
    "tabla.loc[0,\"intervalos4 \"]= int4\n",
    "tabla.loc[0,\"intervalos5 \"]= int5\n",
    "\n",
    "tabla"
   ]
  },
  {
   "cell_type": "code",
   "execution_count": null,
   "id": "66e0c517-0177-4615-8122-94902bbf434d",
   "metadata": {},
   "outputs": [],
   "source": [
    "\n"
   ]
  },
  {
   "cell_type": "markdown",
   "id": "30b3cdcc-7897-4129-ba6f-9242293d42f5",
   "metadata": {},
   "source": [
    "**b)** Usa el teorema fundamental del cálculo para escribir la secuencia de valores para y(x):"
   ]
  },
  {
   "cell_type": "code",
   "execution_count": 127,
   "id": "2dde22c0-364c-47c7-9986-2af064ea9e25",
   "metadata": {},
   "outputs": [
    {
     "data": {
      "text/plain": [
       "0.5898050937724091"
      ]
     },
     "execution_count": 127,
     "metadata": {},
     "output_type": "execute_result"
    }
   ],
   "source": [
    "y_03 = 0.1 +int1\n",
    "y_03"
   ]
  },
  {
   "cell_type": "code",
   "execution_count": 107,
   "id": "18c9c062-3b0c-4e9f-ae41-d8d5a5365cdb",
   "metadata": {},
   "outputs": [
    {
     "data": {
      "text/plain": [
       "0.6021395892436371"
      ]
     },
     "execution_count": 107,
     "metadata": {},
     "output_type": "execute_result"
    }
   ],
   "source": [
    "y_05 =  +int2"
   ]
  },
  {
   "cell_type": "code",
   "execution_count": 111,
   "id": "9e465824-2196-4890-95a5-86d7a096e963",
   "metadata": {},
   "outputs": [
    {
     "data": {
      "text/plain": [
       "0.7968170985489768"
      ]
     },
     "execution_count": 111,
     "metadata": {},
     "output_type": "execute_result"
    }
   ],
   "source": [
    "0.5 +int3"
   ]
  },
  {
   "cell_type": "code",
   "execution_count": 113,
   "id": "d2c815fb-1c86-4f41-a697-b08e85c47796",
   "metadata": {},
   "outputs": [
    {
     "data": {
      "text/plain": [
       "1.0533659432927918"
      ]
     },
     "execution_count": 113,
     "metadata": {},
     "output_type": "execute_result"
    }
   ],
   "source": [
    "0.7 +int4"
   ]
  },
  {
   "cell_type": "code",
   "execution_count": 115,
   "id": "c7448e69-e355-4c38-abab-d5b141417424",
   "metadata": {},
   "outputs": [
    {
     "data": {
      "text/plain": [
       "1.3653856759651046"
      ]
     },
     "execution_count": 115,
     "metadata": {},
     "output_type": "execute_result"
    }
   ],
   "source": [
    "0.9 +int5"
   ]
  },
  {
   "cell_type": "code",
   "execution_count": 119,
   "id": "4ae20ad5-7de2-416b-99b5-a13f8b231f89",
   "metadata": {},
   "outputs": [
    {
     "data": {
      "text/plain": [
       "1.5653856759651048"
      ]
     },
     "execution_count": 119,
     "metadata": {},
     "output_type": "execute_result"
    }
   ],
   "source": [
    "1.1+ int5"
   ]
  },
  {
   "cell_type": "markdown",
   "id": "05813d5f-06a3-48e7-a69c-36493411ed1c",
   "metadata": {},
   "source": [
    "**2.-** Dadas superficies en el espacio ![](a11_01.png):"
   ]
  },
  {
   "cell_type": "code",
   "execution_count": null,
   "id": "0d5e08f4-2b01-43ef-8117-e42f109a0429",
   "metadata": {},
   "outputs": [],
   "source": [
    "!"
   ]
  }
 ],
 "metadata": {
  "kernelspec": {
   "display_name": "Python 3 (ipykernel)",
   "language": "python",
   "name": "python3"
  },
  "language_info": {
   "codemirror_mode": {
    "name": "ipython",
    "version": 3
   },
   "file_extension": ".py",
   "mimetype": "text/x-python",
   "name": "python",
   "nbconvert_exporter": "python",
   "pygments_lexer": "ipython3",
   "version": "3.12.4"
  }
 },
 "nbformat": 4,
 "nbformat_minor": 5
}
