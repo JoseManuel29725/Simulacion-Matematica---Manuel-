{
 "cells": [
  {
   "cell_type": "markdown",
   "id": "c155e3f4-df8c-499b-a2b8-8b997c5743d7",
   "metadata": {},
   "source": [
    "# 02 Simulated Annealinng"
   ]
  },
  {
   "cell_type": "code",
   "execution_count": 154,
   "id": "0a02f209-998a-44d8-be4d-31fad2a378b3",
   "metadata": {},
   "outputs": [
    {
     "data": {
      "text/html": [
       "<div>\n",
       "<style scoped>\n",
       "    .dataframe tbody tr th:only-of-type {\n",
       "        vertical-align: middle;\n",
       "    }\n",
       "\n",
       "    .dataframe tbody tr th {\n",
       "        vertical-align: top;\n",
       "    }\n",
       "\n",
       "    .dataframe thead th {\n",
       "        text-align: right;\n",
       "    }\n",
       "</style>\n",
       "<table border=\"1\" class=\"dataframe\">\n",
       "  <thead>\n",
       "    <tr style=\"text-align: right;\">\n",
       "      <th></th>\n",
       "      <th>Tijuana</th>\n",
       "      <th>Mérida</th>\n",
       "      <th>GDL</th>\n",
       "      <th>México</th>\n",
       "      <th>León</th>\n",
       "      <th>Monterrey</th>\n",
       "      <th>Tapachula</th>\n",
       "      <th>Chihuahua</th>\n",
       "    </tr>\n",
       "    <tr>\n",
       "      <th>Unnamed: 0</th>\n",
       "      <th></th>\n",
       "      <th></th>\n",
       "      <th></th>\n",
       "      <th></th>\n",
       "      <th></th>\n",
       "      <th></th>\n",
       "      <th></th>\n",
       "      <th></th>\n",
       "    </tr>\n",
       "  </thead>\n",
       "  <tbody>\n",
       "    <tr>\n",
       "      <th>Tijuana</th>\n",
       "      <td>0</td>\n",
       "      <td>4180</td>\n",
       "      <td>2306</td>\n",
       "      <td>2848</td>\n",
       "      <td>2529</td>\n",
       "      <td>2409</td>\n",
       "      <td>4005</td>\n",
       "      <td>1583</td>\n",
       "    </tr>\n",
       "    <tr>\n",
       "      <th>Mérida</th>\n",
       "      <td>4180</td>\n",
       "      <td>0</td>\n",
       "      <td>1874</td>\n",
       "      <td>1332</td>\n",
       "      <td>1719</td>\n",
       "      <td>2046</td>\n",
       "      <td>1062</td>\n",
       "      <td>2819</td>\n",
       "    </tr>\n",
       "    <tr>\n",
       "      <th>GDL</th>\n",
       "      <td>2306</td>\n",
       "      <td>1874</td>\n",
       "      <td>0</td>\n",
       "      <td>542</td>\n",
       "      <td>223</td>\n",
       "      <td>789</td>\n",
       "      <td>1699</td>\n",
       "      <td>1202</td>\n",
       "    </tr>\n",
       "    <tr>\n",
       "      <th>México</th>\n",
       "      <td>2848</td>\n",
       "      <td>1332</td>\n",
       "      <td>542</td>\n",
       "      <td>0</td>\n",
       "      <td>389</td>\n",
       "      <td>933</td>\n",
       "      <td>1157</td>\n",
       "      <td>1487</td>\n",
       "    </tr>\n",
       "    <tr>\n",
       "      <th>León</th>\n",
       "      <td>2529</td>\n",
       "      <td>1719</td>\n",
       "      <td>223</td>\n",
       "      <td>389</td>\n",
       "      <td>0</td>\n",
       "      <td>711</td>\n",
       "      <td>1544</td>\n",
       "      <td>1140</td>\n",
       "    </tr>\n",
       "    <tr>\n",
       "      <th>Monterrey</th>\n",
       "      <td>2409</td>\n",
       "      <td>2046</td>\n",
       "      <td>789</td>\n",
       "      <td>933</td>\n",
       "      <td>711</td>\n",
       "      <td>0</td>\n",
       "      <td>1803</td>\n",
       "      <td>826</td>\n",
       "    </tr>\n",
       "    <tr>\n",
       "      <th>Tapachula</th>\n",
       "      <td>4005</td>\n",
       "      <td>1062</td>\n",
       "      <td>1699</td>\n",
       "      <td>1157</td>\n",
       "      <td>1544</td>\n",
       "      <td>1803</td>\n",
       "      <td>0</td>\n",
       "      <td>2644</td>\n",
       "    </tr>\n",
       "    <tr>\n",
       "      <th>Chihuahua</th>\n",
       "      <td>1583</td>\n",
       "      <td>2819</td>\n",
       "      <td>1202</td>\n",
       "      <td>1487</td>\n",
       "      <td>1140</td>\n",
       "      <td>826</td>\n",
       "      <td>2644</td>\n",
       "      <td>0</td>\n",
       "    </tr>\n",
       "  </tbody>\n",
       "</table>\n",
       "</div>"
      ],
      "text/plain": [
       "            Tijuana  Mérida   GDL  México  León  Monterrey  Tapachula  \\\n",
       "Unnamed: 0                                                              \n",
       "Tijuana           0    4180  2306    2848  2529       2409       4005   \n",
       "Mérida         4180       0  1874    1332  1719       2046       1062   \n",
       "GDL            2306    1874     0     542   223        789       1699   \n",
       "México         2848    1332   542       0   389        933       1157   \n",
       "León           2529    1719   223     389     0        711       1544   \n",
       "Monterrey      2409    2046   789     933   711          0       1803   \n",
       "Tapachula      4005    1062  1699    1157  1544       1803          0   \n",
       "Chihuahua      1583    2819  1202    1487  1140        826       2644   \n",
       "\n",
       "            Chihuahua  \n",
       "Unnamed: 0             \n",
       "Tijuana          1583  \n",
       "Mérida           2819  \n",
       "GDL              1202  \n",
       "México           1487  \n",
       "León             1140  \n",
       "Monterrey         826  \n",
       "Tapachula        2644  \n",
       "Chihuahua           0  "
      ]
     },
     "execution_count": 154,
     "metadata": {},
     "output_type": "execute_result"
    }
   ],
   "source": [
    "import pandas as pd \n",
    "tabla=pd.read_excel(\"datosCT.xlsx\", sheet_name=\"8c\").set_index(\"Unnamed: 0\")\n",
    "\n",
    "tabla"
   ]
  },
  {
   "cell_type": "code",
   "execution_count": 157,
   "id": "f896c8dc-bdd8-4e29-9220-3648f7737e60",
   "metadata": {},
   "outputs": [
    {
     "data": {
      "text/plain": [
       "(['Tijuana',\n",
       "  'Mérida',\n",
       "  'GDL',\n",
       "  'Mexico',\n",
       "  'Leon',\n",
       "  'Monterrey',\n",
       "  'Tapachula',\n",
       "  'Chihuahua'],\n",
       " ['Tijuana',\n",
       "  'Mérida',\n",
       "  'Tapachula',\n",
       "  'Mexico',\n",
       "  'Leon',\n",
       "  'Monterrey',\n",
       "  'GDL',\n",
       "  'Chihuahua'])"
      ]
     },
     "execution_count": 157,
     "metadata": {},
     "output_type": "execute_result"
    }
   ],
   "source": [
    "import numpy as np\n",
    "\n",
    "def intercambio_posicion(R):\n",
    "    R_aleatorias = R.copy()\n",
    "    \n",
    "    # Seleccionar dos índices distintos aleatoriamente\n",
    "    Rc1, Rc2 = np.random.choice(len(R_aleatorias), size=2, replace=False)\n",
    "    \n",
    "   \n",
    "    R_aleatorias[Rc1], R_aleatorias[Rc2] = R_aleatorias[Rc2], R_aleatorias[Rc1]\n",
    "    \n",
    "    return R_aleatorias\n",
    "\n",
    "R1 = [\"Tijuana\", \"Mérida\", \"GDL\", \"Mexico\", \"Leon\", \"Monterrey\", \"Tapachula\", \"Chihuahua\"]\n",
    "\n",
    "\n",
    "R2 = intercambio_posicion(R1)\n",
    "R1, R2\n"
   ]
  },
  {
   "cell_type": "code",
   "execution_count": 159,
   "id": "5e349fd1-a44b-4f01-a788-f42412c570cf",
   "metadata": {},
   "outputs": [
    {
     "data": {
      "text/plain": [
       "8446"
      ]
     },
     "execution_count": 159,
     "metadata": {},
     "output_type": "execute_result"
    }
   ],
   "source": [
    "def distancia_t(ciudades):\n",
    "    total_dist = 0\n",
    "    \n",
    "    for i in range(len(ciudades) - 1):\n",
    "        c1, c2 = ciudades[i], ciudades[i + 1]\n",
    "        if c1 in dist and c2 in dist[c1]:\n",
    "            total_dist += dist[c1][c2]\n",
    "      \n",
    " \n",
    "    if ciudades[-1] in dist and ciudades[0] in dist[ciudades[-1]]:\n",
    "        total_dist += dist[ciudades[-1]][ciudades[0]]\n",
    "\n",
    "\n",
    "    return total_dist\n",
    "\n",
    "\n",
    "D1\n"
   ]
  },
  {
   "cell_type": "code",
   "execution_count": 161,
   "id": "9c35f2f0-38ba-4bdc-8f22-a22ad038ddaf",
   "metadata": {},
   "outputs": [],
   "source": [
    "def c_orden_aleatorio(c):\n",
    "    c_aleatorias = c.copy()\n",
    "    random.shuffle(c_aleatorias)\n",
    "    return c_aleatorias"
   ]
  },
  {
   "cell_type": "markdown",
   "id": "a5d536a6-89cd-449f-ab01-a405b6e8b71f",
   "metadata": {},
   "source": [
    "#### Paso 1"
   ]
  },
  {
   "cell_type": "code",
   "execution_count": 167,
   "id": "caa3b028-8bb0-4698-86e9-244f8c82a8e9",
   "metadata": {},
   "outputs": [],
   "source": [
    "T=1000\n",
    "R1 = [\"Tijuana\", \"Mérida\", \"GDL\", \"Mexico\", \"Leon\", \"Monterrey\", \"Tapachula\", \"Chihuahua\"]\n",
    "R2 = intercambio_posicion(R1)\n",
    "D1 = distancia_t(R1)\n",
    "D2 = distancia_t(R2)\n",
    "q= np.exp((D1 - D2)/T)\n",
    "p = np.random.uniform(0, 1)\n",
    "if p < q :\n",
    "    R1 = R2.copy()\n"
   ]
  },
  {
   "cell_type": "code",
   "execution_count": 175,
   "id": "4cee3d7c-24f9-4c29-8802-d8487d6c94b7",
   "metadata": {},
   "outputs": [
    {
     "data": {
      "text/plain": [
       "0.2564042444642247"
      ]
     },
     "execution_count": 175,
     "metadata": {},
     "output_type": "execute_result"
    }
   ],
   "source": [
    "q"
   ]
  },
  {
   "cell_type": "code",
   "execution_count": 177,
   "id": "22b54f8d-4ff8-49fc-84df-489ff2fdc32b",
   "metadata": {},
   "outputs": [
    {
     "data": {
      "text/plain": [
       "0.9961465869665878"
      ]
     },
     "execution_count": 177,
     "metadata": {},
     "output_type": "execute_result"
    }
   ],
   "source": [
    "p"
   ]
  },
  {
   "cell_type": "markdown",
   "id": "89be62cd-66e4-416e-af4b-21825906d83c",
   "metadata": {},
   "source": [
    "#### Paso 2 "
   ]
  },
  {
   "cell_type": "code",
   "execution_count": 181,
   "id": "d130a227-abc9-4b5b-bc8d-489c6d3f5188",
   "metadata": {},
   "outputs": [
    {
     "ename": "SyntaxError",
     "evalue": "invalid syntax (3455907840.py, line 4)",
     "output_type": "error",
     "traceback": [
      "\u001b[1;36m  Cell \u001b[1;32mIn[181], line 4\u001b[1;36m\u001b[0m\n\u001b[1;33m    i++\u001b[0m\n\u001b[1;37m       ^\u001b[0m\n\u001b[1;31mSyntaxError\u001b[0m\u001b[1;31m:\u001b[0m invalid syntax\n"
     ]
    }
   ],
   "source": [
    "R1\n",
    "i=0\n",
    "N = N > 1\n",
    "i++\n",
    "while i>=N\n",
    "break "
   ]
  },
  {
   "cell_type": "code",
   "execution_count": null,
   "id": "73238e0d-48dd-4c1c-a78b-39b53548bdb5",
   "metadata": {},
   "outputs": [],
   "source": []
  }
 ],
 "metadata": {
  "kernelspec": {
   "display_name": "Python 3 (ipykernel)",
   "language": "python",
   "name": "python3"
  },
  "language_info": {
   "codemirror_mode": {
    "name": "ipython",
    "version": 3
   },
   "file_extension": ".py",
   "mimetype": "text/x-python",
   "name": "python",
   "nbconvert_exporter": "python",
   "pygments_lexer": "ipython3",
   "version": "3.12.4"
  }
 },
 "nbformat": 4,
 "nbformat_minor": 5
}
