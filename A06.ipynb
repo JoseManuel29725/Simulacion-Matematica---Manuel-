{
 "cells": [
  {
   "cell_type": "markdown",
   "id": "4d50ecc0-4abb-4947-9835-bd39218b4af9",
   "metadata": {},
   "source": [
    "### Ejercicio 1"
   ]
  },
  {
   "cell_type": "markdown",
   "id": "6b2abc1e-0a1f-4336-a079-df1ff5b64678",
   "metadata": {},
   "source": [
    "Una carpintería local fabrica sillas, mesas, libreros y bases de cama. Hay dos empleados en esta carpintería: un empleado experimentado y un aprendiz. El aprendiz tarda aproximadamente 50% más tiempo que el carpintero experimentado en construir cualquier cosa, además de que tiene un desperdicio de alrededor de 20% de material. Los materiales y tiempos necesarios para construir algo se desglozan en la siguiente tabla:\n",
    "\n",
    "Las mesas se venden en 9000, las sillas en 3000, los libreros en 10000, y las bases de cama en $9000. Suponiendo una jornada de 40 horas a la semana y que tienen 100 unidades de madera, ¿qué les conviene construir durante una semana para maximizar su ganancia?\n",
    "\n",
    "* ¿Cuántas horas trabaja cada quién?\r",
    "* ¿Cuánto material se usa\n",
    "* \n",
    "¿Cuál se el ingreso total si se vende todo lo fabricado\n",
    "\n",
    "\r",
    "a\t3\t5?"
   ]
  },
  {
   "cell_type": "markdown",
   "id": "14a37b71-5484-473c-ae02-8dbae8702031",
   "metadata": {},
   "source": [
    "1-. Identificar criterio de optimizacion min ,max:\n",
    "Definimos las variables de decisión:\n"
   ]
  },
  {
   "cell_type": "markdown",
   "id": "3f6bd57b-a0e9-4317-885c-4e8135659c22",
   "metadata": {},
   "source": [
    "2-. Variables de control ,funcion objetivo:\n",
    "$$x1: número\\_de\\_mesas\\_a\\_fabricar $$\n",
    "$$x2: número\\_de\\_sillas\\_a\\_fabricar.$$\n",
    "$$x3: número\\_de libreros\\_a\\_fabricar. $$\n",
    "$$x4: número\\_de\\_bases\\_de\\_cama\\_a\\_fabricar. $$ "
   ]
  },
  {
   "cell_type": "markdown",
   "id": "c965539f-ad7e-4fd8-af33-eebee8ee6b69",
   "metadata": {},
   "source": [
    "3-. Uso 2 y 1 para escribir (funcion de costo ) comb lineal de variable 2 :\n",
    "$$ Maximisar Z = 9000x1 + 3000x2 + 10000x3 + 9000x4$$"
   ]
  },
  {
   "cell_type": "markdown",
   "id": "03e609ac-2dd1-4b75-a0bb-f77f434af17e",
   "metadata": {},
   "source": [
    "4-. Informacion general:\n",
    "$$ restriccion\\_tiempo\\_experimentado = 3x_1 + x_2 + 4x_3 + 3x_4 \\leq 40 $$\n",
    "$$ restriccion\\_tiempo\\_aprendiz  = 1.5(3x_1 + x_2 + 4x_3 + 3x_4) \\leq 40 $$\n",
    "$$ restriccion\\_materiales\\_experimentado   = 6x_1 + 2x_2 + 5x_3 + 5x_4 \\leq 100 $$\n",
    "$$ restriccion\\_materiales\\_aprendiz  = 1.2(6x_1 + 2x_2 + 5x_3 + 5x_4) \\leq 40 $$"
   ]
  },
  {
   "cell_type": "code",
   "execution_count": 46,
   "id": "7b215442-c0f6-497f-8533-fadf00b80877",
   "metadata": {},
   "outputs": [
    {
     "data": {
      "text/plain": [
       "        message: Optimization terminated successfully. (HiGHS Status 7: Optimal)\n",
       "        success: True\n",
       "         status: 0\n",
       "            fun: -78000.0\n",
       "              x: [ 0.000e+00  2.000e+00  0.000e+00  8.000e+00]\n",
       "            nit: -1\n",
       "          lower:  residual: [ 0.000e+00  2.000e+00  0.000e+00  8.000e+00]\n",
       "                 marginals: [ 0.000e+00  0.000e+00  0.000e+00  0.000e+00]\n",
       "          upper:  residual: [       inf        inf        inf        inf]\n",
       "                 marginals: [ 0.000e+00  0.000e+00  0.000e+00  0.000e+00]\n",
       "          eqlin:  residual: []\n",
       "                 marginals: []\n",
       "        ineqlin:  residual: [ 1.400e+01  1.000e+00  5.600e+01  4.720e+01]\n",
       "                 marginals: [ 0.000e+00  0.000e+00  0.000e+00  0.000e+00]\n",
       " mip_node_count: 1\n",
       " mip_dual_bound: -78000.0\n",
       "        mip_gap: 0.0"
      ]
     },
     "execution_count": 46,
     "metadata": {},
     "output_type": "execute_result"
    }
   ],
   "source": [
    "import numpy as np\n",
    "import scipy.optimize as opt\n",
    "\n",
    "\n",
    "c = np.array([-9000, -3000, -10000, -9000])\n",
    "\n",
    "\n",
    "Aub = np.array([\n",
    "    [3, 1, 4, 3],                \n",
    "    [1.5 * 3, 1.5 * 1, 1.5 * 4, 1.5 * 3],  \n",
    "    [6, 2, 5, 5],                \n",
    "    [1.2 * 6, 1.2 * 2, 1.2 * 5, 1.2 * 5]   \n",
    "])\n",
    "\n",
    "\n",
    "bub = np.array([40, 40, 100, 100])\n",
    "\n",
    "\n",
    "\n",
    "# Mostrar los resultados\n",
    "sol= opt.linprog(c, Aub, bub, integrality=1)\n",
    "type(sol)\n",
    "sol\n"
   ]
  },
  {
   "cell_type": "code",
   "execution_count": null,
   "id": "3c9e9ab8-432b-41a2-aa56-ba341cb66108",
   "metadata": {},
   "outputs": [],
   "source": []
  }
 ],
 "metadata": {
  "kernelspec": {
   "display_name": "Python 3 (ipykernel)",
   "language": "python",
   "name": "python3"
  },
  "language_info": {
   "codemirror_mode": {
    "name": "ipython",
    "version": 3
   },
   "file_extension": ".py",
   "mimetype": "text/x-python",
   "name": "python",
   "nbconvert_exporter": "python",
   "pygments_lexer": "ipython3",
   "version": "3.12.4"
  }
 },
 "nbformat": 4,
 "nbformat_minor": 5
}
