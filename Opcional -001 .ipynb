{
 "cells": [
  {
   "cell_type": "markdown",
   "id": "f2cfea4d-20f1-451d-abd5-0910516195fb",
   "metadata": {},
   "source": [
    "# Tarea opcional 001"
   ]
  },
  {
   "cell_type": "markdown",
   "id": "e0dc28c7-4db4-4f50-9dec-a19452e981d3",
   "metadata": {},
   "source": [
    "## Ejercicio 1\n",
    "definir salarios de empleados: salario total , minimo ,experiencia , inasistencias."
   ]
  },
  {
   "cell_type": "code",
   "execution_count": 105,
   "id": "1a282cd9-fb8e-4444-a9ec-5cf0fe94c5bd",
   "metadata": {},
   "outputs": [
    {
     "data": {
      "text/plain": [
       "'El salario total  755: $500 de salario mínimo + $180 por 9 años de experiencia + $75 por 5 dependientes + $0 por no inasistencias.'"
      ]
     },
     "execution_count": 105,
     "metadata": {},
     "output_type": "execute_result"
    }
   ],
   "source": [
    "# Definimos la función \n",
    "\n",
    "def calcular_salario(antiguedad, dependientes, asistencia):\n",
    "    # Validación de los datos:\n",
    "    if not (antiguedad, int) or not (dependientes, int) or not (asistencia, bool):\n",
    "        return \"Error. Revisar entradas.\"\n",
    "    \n",
    "    # Cálculo del salario\n",
    "    salario_base = 500\n",
    "    salario_antiguedad = antiguedad * 20\n",
    "    salario_dependientes = dependientes * 15\n",
    "    salario_asistencia = 100 if asistencia else 0\n",
    "    salario_total = salario_base + salario_antiguedad + salario_dependientes + salario_asistencia\n",
    "    # Estos son los datos para la salida \n",
    "    resultado = (f\"El salario total  {salario_total}: \"\n",
    "                 f\"${salario_base} de salario mínimo + \"\n",
    "                 f\"${salario_antiguedad} por {antiguedad} años de experiencia + \"\n",
    "                 f\"${salario_dependientes} por {dependientes} dependientes + \"\n",
    "                 f\"${salario_asistencia} por no inasistencias.\")\n",
    "    \n",
    "    return resultado\n",
    "\n",
    "# Ejemplo de uso \n",
    "calcular_salario(9, 5, False) #true or false es para ver si ah tenido inasistencias o no "
   ]
  },
  {
   "cell_type": "markdown",
   "id": "a5235c39-0661-4814-a284-68531458ee66",
   "metadata": {},
   "source": [
    "## Ejercicio 2\n",
    "    "
   ]
  },
  {
   "cell_type": "markdown",
   "id": "e5966ee9-2a39-4410-970c-1b81392b826c",
   "metadata": {},
   "source": [
    " función que recibe un número entero de 3 cifras:"
   ]
  },
  {
   "cell_type": "code",
   "execution_count": 107,
   "id": "6c0059c9-2c7c-4554-b6a4-4841647edbaf",
   "metadata": {},
   "outputs": [
    {
     "data": {
      "text/plain": [
       "'Error. El número debe ser de 3 cifras.'"
      ]
     },
     "execution_count": 107,
     "metadata": {},
     "output_type": "execute_result"
    }
   ],
   "source": [
    "numero = 7534\n",
    "\n",
    "# Validación de los datos \n",
    "if not (numero, int) or numero < 100 or numero > 999:\n",
    "        resultado = \"Error. El número debe ser de 3 cifras.\"\n",
    "   \n",
    "else:\n",
    "    centenas = numero // 100\n",
    "    decenas = (numero % 100) // 10\n",
    "    unidades = numero % 10\n",
    "    #Salida\n",
    "    resultado = (f\"El número tiene (centenas) centenas,\"\n",
    "                 f\"El número tiene (decenas) decenas,\"\n",
    "                 f\"El número tiene (unidades) unidades\")\n",
    "resultado"
   ]
  },
  {
   "cell_type": "markdown",
   "id": "c702160b-7a6c-4336-adb0-a764da0ed261",
   "metadata": {},
   "source": [
    "## Ejercicio 3"
   ]
  },
  {
   "cell_type": "markdown",
   "id": "d248375b-c3ce-4cc5-9268-fa5d7bc40f44",
   "metadata": {},
   "source": [
    "Cibercafe formas de cobrar a un cliente:"
   ]
  },
  {
   "cell_type": "code",
   "execution_count": 22,
   "id": "4d174839-323d-4c4b-a563-364b70bc682c",
   "metadata": {},
   "outputs": [
    {
     "name": "stdout",
     "output_type": "stream",
     "text": [
      "El usuario Manuel no es un miembro y estuvo 7 horas + el impuesto del 20%. Total: 33.0 pesos.\n"
     ]
    }
   ],
   "source": [
    "miembros = [\"Magnolia\", \"Pedro\", \"Iván\", \"Sabrina\", \"Montserrat\", \"Miguel\"]\n",
    "# Entrada de datos\n",
    "nombre_cliente = \"Manuel\"  # Cambia esto por el nombre del cliente\n",
    "horas = 7  # Cambia esto por el número de horas que el cliente estuvo usando el equipo\n",
    "\n",
    "# Verificar que sea miembro \n",
    "es_miembro = nombre_cliente in miembros\n",
    "if es_miembro:\n",
    "    costo_hora = 10\n",
    "    impuesto = 0.10\n",
    "else:\n",
    "    costo_por_hora = 25\n",
    "    impuesto = 0.20\n",
    "# Costo sin impuesto \n",
    "total_sin_impuesto = horas * costo_por_hora\n",
    "# Calcular el impuesto\n",
    "total_impuesto = total_sin_impuesto * impuesto\n",
    "# Total\n",
    "total = total_sin_impuesto + total_impuesto\n",
    "# Imprimir el resultado\n",
    "if es_miembro:\n",
    "    print(f\"El usuario {nombre_cliente} es un miembro y estuvo {horas} horas + el impuesto del 10%. Total: {total_final} pesos.\")\n",
    "else:\n",
    "    print(f\"El usuario {nombre_cliente} no es un miembro y estuvo {horas} horas + el impuesto del 20%. Total: {total_final} pesos.\")"
   ]
  },
  {
   "cell_type": "markdown",
   "id": "d101998c-1db2-4bc8-b640-a6057b65989e",
   "metadata": {},
   "source": [
    "## Ejercicio 4 "
   ]
  },
  {
   "cell_type": "markdown",
   "id": "917e6a0f-e3ed-4441-8e5f-57d72e4bc0be",
   "metadata": {},
   "source": [
    "Calcular sumatoria:"
   ]
  },
  {
   "cell_type": "code",
   "execution_count": 109,
   "id": "133b2260-aea7-474d-af96-94e160fef340",
   "metadata": {},
   "outputs": [
    {
     "name": "stdout",
     "output_type": "stream",
     "text": [
      "La sumatoria de 1 hasta 11 es: 66\n"
     ]
    }
   ],
   "source": [
    "# Número para calcular sumatoria \n",
    "n = 11  # Se puede cambiar este valor \n",
    "suma = 0\n",
    "for i in range(1, n + 1):\n",
    "    suma += i\n",
    "# Imprimir el resultado\n",
    "print(f\"La sumatoria de 1 hasta {n} es: {suma}\")"
   ]
  },
  {
   "cell_type": "markdown",
   "id": "1bf3e23c-283a-4755-b8e2-331f644ac6a7",
   "metadata": {},
   "source": [
    "## Ejercicio 5 "
   ]
  },
  {
   "cell_type": "markdown",
   "id": "8a991c11-3bf7-4135-9ff0-5c462ba2147d",
   "metadata": {},
   "source": [
    "Calcular el promedio:\n"
   ]
  },
  {
   "cell_type": "code",
   "execution_count": 83,
   "id": "18034127-666b-4deb-9e77-3cc68740e009",
   "metadata": {},
   "outputs": [
    {
     "name": "stdout",
     "output_type": "stream",
     "text": [
      "El promedio de la lista es: 57.8\n"
     ]
    }
   ],
   "source": [
    "# Lista de números\n",
    "lista_numeros = [56, 23, 67, 88, 55]  # lista de variables \n",
    "\n",
    "# Inicializar variables\n",
    "suma = 0\n",
    "contador = 0\n",
    "# Iteraracion:\n",
    "for elemento in lista_numeros:\n",
    "    if (elemento, (int, float)):\n",
    "        suma += elemento\n",
    "        contador += 1\n",
    "    else:\n",
    "        print(f\"Error: '{elemento}' no es un número.\")\n",
    "        break  \n",
    "# Verificar si no hubo errores:\n",
    "if contador > 0:\n",
    "    promedio = suma / contador\n",
    "    print(f\"El promedio de la lista es: {promedio}\")\n",
    "else:\n",
    "    print(\"No se pudo calcular el promedio debido a un error.\")"
   ]
  },
  {
   "cell_type": "markdown",
   "id": "052ace7a-81ed-427b-851e-b7abda0defff",
   "metadata": {},
   "source": [
    "## Ejercicio 6"
   ]
  },
  {
   "cell_type": "markdown",
   "id": "d8530d77-1dbf-4cf8-ab04-abe1b9a86d82",
   "metadata": {},
   "source": [
    "### 1. En orden alfabetico "
   ]
  },
  {
   "cell_type": "code",
   "execution_count": 75,
   "id": "79bfea01-a9fd-434b-9617-ec92eb0aa0ce",
   "metadata": {},
   "outputs": [
    {
     "name": "stdout",
     "output_type": "stream",
     "text": [
      "Ordenado alfabéticamente:\n",
      "Nombres: ['Beatriz', 'Jorge', 'Juan', 'María', 'Nina', 'Álex']\n",
      "Códigos: [32134, 25342, 12134, 32343, 35342, 42343]\n"
     ]
    }
   ],
   "source": [
    "nombres = [\"María\", \"Juan\", \"Jorge\", \"Nina\", \"Álex\", \"Beatriz\"]\n",
    "codigos = [32343, 12134, 25342, 35342, 42343, 32134]\n",
    "# Ordenar por nombres \n",
    "nombres_ordenados, codigos_ordenados = zip(*sorted(zip(nombres, codigos))) #zip: combinar listas en pares \n",
    "# Convertir de tupla a lista\n",
    "nombres_ordenados = list(nombres_ordenados)\n",
    "codigos_ordenados = list(codigos_ordenados)\n",
    "\n",
    "print(\"Ordenado alfabéticamente:\")\n",
    "print(\"Nombres:\", nombres_ordenados)\n",
    "print(\"Códigos:\", codigos_ordenados)"
   ]
  },
  {
   "cell_type": "markdown",
   "id": "b048e70d-4204-4234-9d5a-bf70ad423430",
   "metadata": {},
   "source": [
    "### 2. De código de acceso menor a mayor"
   ]
  },
  {
   "cell_type": "code",
   "execution_count": 79,
   "id": "6dbd11dd-5ab7-4276-ac19-1cf1667f910b",
   "metadata": {},
   "outputs": [
    {
     "name": "stdout",
     "output_type": "stream",
     "text": [
      "Ordenado por código de acceso:\n",
      "Códigos: [12134, 25342, 32134, 32343, 35342, 42343]\n"
     ]
    }
   ],
   "source": [
    "nombres = [\"María\", \"Juan\", \"Jorge\", \"Nina\", \"Álex\", \"Beatriz\"]\n",
    "codigos = [32343, 12134, 25342, 35342, 42343, 32134]\n",
    "# Ordenar por código de acceso\n",
    "codigos_ordenados = zip(*sorted(zip(codigos, nombres)))\n",
    "# Convertir de tupla a lista\n",
    "codigos_ordenados = list(nombres_ordenados)\n",
    "nombres_ordenados = list(codigos_ordenados)\n",
    "\n",
    "print(\"Ordenado por código de acceso:\")\n",
    "print(\"Códigos:\", codigos_ordenados)"
   ]
  },
  {
   "cell_type": "markdown",
   "id": "90ae8768-e11d-4099-842c-a6404b9025bd",
   "metadata": {},
   "source": [
    "## Ejercicio 7"
   ]
  },
  {
   "cell_type": "markdown",
   "id": "0972fc0d-dca3-4867-b495-57ce367952d7",
   "metadata": {},
   "source": [
    "Banco dos listas: "
   ]
  },
  {
   "cell_type": "markdown",
   "id": "35a4880f-6c5a-4dd3-8c95-a6bb45a1679c",
   "metadata": {},
   "source": [
    "### 1.Función para Transferir Clientes de Activos a Inactivos"
   ]
  },
  {
   "cell_type": "code",
   "execution_count": 94,
   "id": "84793ab6-62a5-47cd-a044-304b255bd5ed",
   "metadata": {},
   "outputs": [
    {
     "name": "stdout",
     "output_type": "stream",
     "text": [
      "Clientes activos después de la transferencia: [['gabriel', 'morales', 5, False], ['magnolia', 'lara', 0, True], ['iván', 'ruiz', 0, False]]\n",
      "Clientes inactivos después de la transferencia: []\n"
     ]
    }
   ],
   "source": [
    "clientes_activos = [[\"gabriel\", \"morales\", 5, False], [\"magnolia\", \"lara\", 0, True], [\"iván\", \"ruiz\", 0, False]]\n",
    "clientes_inactivos = []\n",
    "# Lista para almacenar clientes:\n",
    "inactivos_a_transferir = []\n",
    "# Iteracion:\n",
    "for cliente in clientes_activos:\n",
    "    nombre, apellido, saldo, premium = cliente\n",
    "    if saldo == 0 and premium:\n",
    "        inactivos_a_transferir\n",
    "clientes_activos = [cliente for cliente in clientes_activos]\n",
    "clientes_inactivos.extend(inactivos_a_transferir)\n",
    "# Resultados\n",
    "print(\"Clientes activos después de la transferencia:\", clientes_activos)\n",
    "print(\"Clientes inactivos después de la transferencia:\", clientes_inactivos)"
   ]
  },
  {
   "cell_type": "markdown",
   "id": "48087df5-73df-4555-bf3b-73a7c37a2fc7",
   "metadata": {},
   "source": [
    "### 2.Transferir de Inactivos a Activos"
   ]
  },
  {
   "cell_type": "code",
   "execution_count": 111,
   "id": "3cce7420-5dc4-4694-b2c6-d447ecea39b3",
   "metadata": {},
   "outputs": [
    {
     "name": "stdout",
     "output_type": "stream",
     "text": [
      "Clientes inactivos después de el saldo: [['juan', 'perez', 100, True], ['maría', 'lopez', 0, False]]\n",
      "Clientes activos después de el saldo : []\n"
     ]
    }
   ],
   "source": [
    "clientes_inactivos = [[\"Yahir\", \"Garcia \", 100, True], [\"Manuel \", \"Orozco\", 0, False]]\n",
    "clientes_activos = []\n",
    "# Lista para almacenar clientes:\n",
    "activos_a_transferir = []\n",
    "# Iteracion:\n",
    "for cliente in clientes_inactivos:\n",
    "    nombre, apellido, saldo, premium = cliente\n",
    "    if saldo > 0 or premium:\n",
    "        activos_a_transferir\n",
    "clientes_activos.extend(activos_a_transferir)\n",
    "# Resultados\n",
    "print(\"Clientes inactivos después de el saldo:\", clientes_inactivos)\n",
    "print(\"Clientes activos después de el saldo :\", clientes_activos)"
   ]
  },
  {
   "cell_type": "markdown",
   "id": "72656ecd-7b2c-47bd-afea-751484e22381",
   "metadata": {},
   "source": [
    "No logro entender que le falta "
   ]
  },
  {
   "cell_type": "code",
   "execution_count": null,
   "id": "5f3cabd8-e04f-432d-92ce-40de3fdda48c",
   "metadata": {},
   "outputs": [],
   "source": []
  }
 ],
 "metadata": {
  "kernelspec": {
   "display_name": "Python 3 (ipykernel)",
   "language": "python",
   "name": "python3"
  },
  "language_info": {
   "codemirror_mode": {
    "name": "ipython",
    "version": 3
   },
   "file_extension": ".py",
   "mimetype": "text/x-python",
   "name": "python",
   "nbconvert_exporter": "python",
   "pygments_lexer": "ipython3",
   "version": "3.12.4"
  }
 },
 "nbformat": 4,
 "nbformat_minor": 5
}
