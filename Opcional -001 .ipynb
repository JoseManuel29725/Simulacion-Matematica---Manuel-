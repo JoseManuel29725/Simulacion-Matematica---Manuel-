{
 "cells": [
  {
   "cell_type": "markdown",
   "id": "f2cfea4d-20f1-451d-abd5-0910516195fb",
   "metadata": {},
   "source": [
    "# Tarea opcional 001"
   ]
  },
  {
   "cell_type": "markdown",
   "id": "e0dc28c7-4db4-4f50-9dec-a19452e981d3",
   "metadata": {},
   "source": [
    "## Ejercicio 1\n",
    "definir salarios de empleados: salario total , minimo ,experiencia , inasistencias."
   ]
  },
  {
   "cell_type": "code",
   "execution_count": null,
   "id": "1a282cd9-fb8e-4444-a9ec-5cf0fe94c5bd",
   "metadata": {},
   "outputs": [],
   "source": [
    "# Definimos la función \n",
    "\n",
    "def calcular_salario(antiguedad, dependientes, asistencia):\n",
    "    # Validación de los datos:\n",
    "    if not (antiguedad, int) or not (dependientes, int) or not (asistencia, bool):\n",
    "        return \"Error. Revisar entradas.\"\n",
    "    \n",
    "    # Cálculo del salario\n",
    "    salario_base = 500\n",
    "    salario_antiguedad = antiguedad * 20\n",
    "    salario_dependientes = dependientes * 15\n",
    "    salario_asistencia = 100 if asistencia else 0\n",
    "    \n",
    "    salario_total = salario_base + salario_antiguedad + salario_dependientes + salario_asistencia\n",
    "    \n",
    "    # Estos son los datos para la salida \n",
    "    resultado = (f\"El salario total  {salario_total}: \"\n",
    "                 f\"${salario_base} de salario mínimo + \"\n",
    "                 f\"${salario_antiguedad} por {antiguedad} años de experiencia + \"\n",
    "                 f\"${salario_dependientes} por {dependientes} dependientes + \"\n",
    "                 f\"${salario_asistencia} por no inasistencias.\")\n",
    "    \n",
    "    return resultado\n",
    "\n",
    "# Ejemplo de uso \n",
    "calcular_salario(9, 5, False) #true or false es para ver su a tenido inasistencias o no "
   ]
  },
  {
   "cell_type": "markdown",
   "id": "a5235c39-0661-4814-a284-68531458ee66",
   "metadata": {},
   "source": [
    "## Ejercicio 2\n",
    "    "
   ]
  },
  {
   "cell_type": "markdown",
   "id": "e5966ee9-2a39-4410-970c-1b81392b826c",
   "metadata": {},
   "source": [
    " función que recibe un número entero de 3 cifras:"
   ]
  },
  {
   "cell_type": "code",
   "execution_count": 72,
   "id": "6c0059c9-2c7c-4554-b6a4-4841647edbaf",
   "metadata": {},
   "outputs": [
    {
     "data": {
      "text/plain": [
       "'Error. El número debe ser de 3 cifras.'"
      ]
     },
     "execution_count": 72,
     "metadata": {},
     "output_type": "execute_result"
    }
   ],
   "source": [
    "numero = 7534\n",
    "\n",
    "# Validación de los datos \n",
    "if not (numero, int) or numero < 100 or numero > 999:\n",
    "        resultado = \"Error. El número debe ser de 3 cifras.\"\n",
    "   \n",
    "else:\n",
    "    centenas = numero // 100\n",
    "    decenas = (numero % 100) // 10\n",
    "    unidades = numero % 10\n",
    "    \n",
    "    #Salida\n",
    "    resultado = (f\"El número tiene {centenas} centenas,\"\n",
    "                 f\"El número tiene {decenas} decenas,\"\n",
    "                 f\"El número tiene {unidades} unidades\")\n",
    "\n",
    "resultado"
   ]
  },
  {
   "cell_type": "code",
   "execution_count": null,
   "id": "6f15bd55-7899-4331-a938-ae7b28f8561b",
   "metadata": {},
   "outputs": [],
   "source": []
  }
 ],
 "metadata": {
  "kernelspec": {
   "display_name": "Python 3 (ipykernel)",
   "language": "python",
   "name": "python3"
  },
  "language_info": {
   "codemirror_mode": {
    "name": "ipython",
    "version": 3
   },
   "file_extension": ".py",
   "mimetype": "text/x-python",
   "name": "python",
   "nbconvert_exporter": "python",
   "pygments_lexer": "ipython3",
   "version": "3.12.4"
  }
 },
 "nbformat": 4,
 "nbformat_minor": 5
}
