{
 "cells": [
  {
   "cell_type": "markdown",
   "id": "554da4aa-2932-413f-bbf9-2f32460b2f9d",
   "metadata": {},
   "source": [
    "Jose Manuel Orozco Martinez \n",
    "&nbsp;\n",
    "\n",
    "13/08/24\n",
    "&nbsp;\n",
    "\n",
    "# Ingenieria Civil\n",
    "\n",
    "## Tema: Puentes \n",
    "\n",
    "### Introducción:\n",
    "\n",
    "La <u>construcción de puentes</u> es una **disciplina fundamental** en la ingenieria civil, que involucra el diseño ,la planificación y la *construcción de estructuras* que permiten superar barreras fisicas como ríos, valles y carreteras.\n",
    "los puentes desarrollan  un papel muy importante en la conectividad de comunidades, facilitando el transporte y mejorando la calidad de vida de las personas.\n",
    "\n",
    "### ¿Qué son los puentes? \n",
    "\n",
    "Estas ***contrucciones*** están compuestas por diferentes elementos como pilares, vigas, tableros y cimientos que trabajan en conjunto para soportar el peso y \n",
    "***distribuir las cargas***  de manera eficiente, los puentes pueden varias en tamaño, forma y materiales utilizados,adaptándose a las necesidades de cada proyecto.\n",
    "\n",
    "![imagen_puente](https://ingeniatte.es/wp-content/uploads/2019/09/PUENTE-RANDE.jpeg)\n",
    "\n",
    "### Consideraciones en la contruccíon de puentes\n",
    "\n",
    "1. ***Diseño estructural:***\n",
    "\n",
    "    Los ingenieros deben considerar factores como:\n",
    "      1. tipo de fuente\n",
    "      2. ubicacíon geográfica\n",
    "      3. tráfico esperado\n",
    "      4. condiciones climáticas\n",
    "         \n",
    "2. ***Seleccion de materiales:***\n",
    "\n",
    "    Debemos evaluar las características de:\n",
    "     * resistencia\n",
    "     * durabilidad\n",
    "     * costo de diferentes materiales como:\n",
    "       * acero\n",
    "       * concreto\n",
    "       * madera\n",
    "       * combinaciones  \n",
    "3. ***Geotecnia:***\n",
    "\n",
    "   Se deben evaluar las <u>características del suelo</u>   y el subsuelo en el \n",
    "   sitio de construcción. Esto incluye estudios geotécnicos para determinar la \n",
    "   capacidad portante del suelo.\n",
    "\n",
    "### Formula general\n",
    "   para futuras ecuaciones:\n",
    "$$ x =  \\frac{-b \\pm \\sqrt{b^2 - 4ac}}{2a} $$\n"
   ]
  },
  {
   "cell_type": "code",
   "execution_count": null,
   "id": "9f6bc098-d712-44c7-8ec8-a43ba1837548",
   "metadata": {},
   "outputs": [],
   "source": []
  }
 ],
 "metadata": {
  "kernelspec": {
   "display_name": "Python 3 (ipykernel)",
   "language": "python",
   "name": "python3"
  },
  "language_info": {
   "codemirror_mode": {
    "name": "ipython",
    "version": 3
   },
   "file_extension": ".py",
   "mimetype": "text/x-python",
   "name": "python",
   "nbconvert_exporter": "python",
   "pygments_lexer": "ipython3",
   "version": "3.12.4"
  }
 },
 "nbformat": 4,
 "nbformat_minor": 5
}
