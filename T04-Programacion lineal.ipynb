{
 "cells": [
  {
   "cell_type": "markdown",
   "id": "c3c5f59a-6c0e-4639-838c-7a53859645aa",
   "metadata": {},
   "source": [
    "### Jose Manuel Orozco Martinez 11/09/2024"
   ]
  },
  {
   "cell_type": "markdown",
   "id": "c6917a8e-c4bc-40c6-bd9b-7206781f6c01",
   "metadata": {},
   "source": [
    "# T04 - Programacion lineal "
   ]
  },
  {
   "cell_type": "markdown",
   "id": "580e5502-3b9a-4a20-878c-e325ec0d2fa1",
   "metadata": {},
   "source": [
    "## 02 programacion lineal "
   ]
  },
  {
   "cell_type": "markdown",
   "id": "d60ac1db-83fd-4550-a32e-c7f86e7bf1ae",
   "metadata": {},
   "source": [
    "#### 4. Problema de transporte 1\n",
    "- **Referencia**: http://bdigital.unal.edu.co/5037/4/guillermojimenezlozano.2006_Parte1.pdf\n",
    "\n",
    "Una  empresa tiene dos fábricas A y B.  En ellas  se fabrica un determinado  producto, a razón de 500  y 400 unidades por día respectivamente.  El producto  ha  de  ser distribuido posteriormente  a  tres  centros  C,  D  y  E,  que  requieren,  respectivamente,  200,  300  y  400  unidades.  Los  costos  de  transportar cada unidad del producto desde cada fábrica a cada centro distribuidor son los  indicados  en la tabla  siguiente: \n",
    "\n",
    "Factoría|C|D|E|Fabricación (Unidades)\n",
    ":----|----|----|----|----\n",
    "A|  50 u.m|60 u.m|10 u.m|500 u\n",
    "B|  25 u.m|40 u.m|20 u.m|400 u\n",
    "Demanda|200|300|400|\n",
    "\n",
    "\n"
   ]
  },
  {
   "cell_type": "markdown",
   "id": "1f657295-dfef-4871-98b2-45815ee337f3",
   "metadata": {},
   "source": []
  },
  {
   "cell_type": "markdown",
   "id": "5ae024b2-1685-49f8-a890-5b9a9d42f8e0",
   "metadata": {},
   "source": [
    "#### 1-. Identificar criterio de optimizacion min ,max :\n",
    "¿De qué manera  deben  organizar  el transporte a fin de que los gastos sean mínimos?\n"
   ]
  },
  {
   "cell_type": "markdown",
   "id": "b2673300-8670-42f8-b0b6-f256a3db5d4c",
   "metadata": {},
   "source": [
    "#### 2-. Variables de control ,funcion objetivo:\n",
    "\n",
    "$$x_{AC}:Unidades\\_transportadas\\_de\\_A\\_a\\_C $$\n",
    "$$x_{AD}:Unidades\\_transportadas\\_de\\_A\\_a\\_D $$\n",
    "$$x_{AE}:Unidades\\_transportadas\\_de\\_A\\_a\\_E $$\n",
    "$$x_{BC}:Unidades\\_transportadas\\_de\\_B\\_a\\_C $$\n",
    "$$x_{BD}:Unidades\\_transportadas\\_de\\_B\\_a\\_D $$\n",
    "$$x_{BE}:Unidades\\_transportadas\\_de\\_B\\_a\\_E $$"
   ]
  },
  {
   "cell_type": "markdown",
   "id": "003e5146-c6f0-44da-9fff-a23ed7e15c8c",
   "metadata": {},
   "source": [
    "#### 3-. Funcion de objetivo:\n"
   ]
  },
  {
   "cell_type": "markdown",
   "id": "9db6b923-0d03-4a61-a9bb-640d9cd96a0a",
   "metadata": {},
   "source": [
    "$$Costo\\_total= 50x_{AC}+60x_{AD}+10x_{AE}+25x_{BC}+40x_{BD}+20x_{BE} $$"
   ]
  },
  {
   "cell_type": "markdown",
   "id": "2d6b5a20-d2ba-46fc-822f-598915444465",
   "metadata": {},
   "source": [
    "#### 4-. Informacion adicional:"
   ]
  },
  {
   "cell_type": "markdown",
   "id": "5ae913e3-bb65-47c3-855d-98ca125d9a66",
   "metadata": {},
   "source": [
    "Restricciones de oferta:\n",
    "$$Fabrica\\_A: x_{AC}+x_{AD}+x_{AE}=500$$\n",
    "$$Fabrica\\_B: x_{BC}+x_{BD}+x_{BE}=400$$\n",
    "Restricciones de demanda:\n",
    "$$Centro\\_C:x_{AC}+x_{BC}=200$$\n",
    "$$Centro\\_D: x_{AD}+x_{BD}=300$$\n",
    "$$Centro\\_E: x_{AE}+x_{BE}=400$$\n",
    "bounds=bounds"
   ]
  },
  {
   "cell_type": "markdown",
   "id": "2b8286ec-1477-44dc-bf4c-0bbf2a4d1992",
   "metadata": {},
   "source": [
    "#### Solución:"
   ]
  },
  {
   "cell_type": "code",
   "execution_count": 130,
   "id": "8c9ca241-e34f-4324-a529-42dde0e8f8e9",
   "metadata": {},
   "outputs": [
    {
     "data": {
      "text/plain": [
       "        message: Optimization terminated successfully. (HiGHS Status 7: Optimal)\n",
       "        success: True\n",
       "         status: 0\n",
       "            fun: 23000.0\n",
       "              x: [ 0.000e+00  1.000e+02  4.000e+02  2.000e+02  2.000e+02\n",
       "                   0.000e+00]\n",
       "            nit: 1\n",
       "          lower:  residual: [ 0.000e+00  1.000e+02  4.000e+02  2.000e+02\n",
       "                              2.000e+02  0.000e+00]\n",
       "                 marginals: [ 5.000e+00  0.000e+00  0.000e+00  0.000e+00\n",
       "                              0.000e+00  3.000e+01]\n",
       "          upper:  residual: [       inf        inf        inf        inf\n",
       "                                    inf        inf]\n",
       "                 marginals: [ 0.000e+00  0.000e+00  0.000e+00  0.000e+00\n",
       "                              0.000e+00  0.000e+00]\n",
       "          eqlin:  residual: [ 0.000e+00  0.000e+00  0.000e+00]\n",
       "                 marginals: [ 4.500e+01  6.000e+01  1.000e+01]\n",
       "        ineqlin:  residual: [ 0.000e+00  0.000e+00]\n",
       "                 marginals: [-0.000e+00 -2.000e+01]\n",
       " mip_node_count: 0\n",
       " mip_dual_bound: 0.0\n",
       "        mip_gap: 0.0"
      ]
     },
     "execution_count": 130,
     "metadata": {},
     "output_type": "execute_result"
    }
   ],
   "source": [
    "import scipy.optimize as opt\n",
    "import numpy as np\n",
    "\n",
    "# Coeficientes de la función objetivo \n",
    "c = np.array([50, 60, 10, 25, 40, 20])\n",
    "\n",
    "# restricciones de oferta:\n",
    "b_ub = np.array([500, 400])\n",
    "A_ub = np.array([\n",
    "    [1, 1, 1, 0, 0, 0], \n",
    "    [0, 0, 0, 1, 1, 1]   \n",
    "])\n",
    "\n",
    "#restricciones de demanda:\n",
    "b_eq = np.array([200, 300, 400])\n",
    "A_eq = np.array([\n",
    "    [1, 0, 0, 1, 0, 0], \n",
    "    [0, 1, 0, 0, 1, 0],  \n",
    "    [0, 0, 1, 0, 0, 1]   \n",
    "])\n",
    "\n",
    "sol = opt.linprog(c, A_ub=A_ub, b_ub=b_ub, A_eq=A_eq, b_eq=b_eq)\n",
    "type(sol)\n",
    "sol\n",
    "\n"
   ]
  },
  {
   "cell_type": "markdown",
   "id": "9d319c34-d3d2-4265-85ae-5c6a66cc2cea",
   "metadata": {},
   "source": [
    "#### 5. Optimización de inversión en bonos"
   ]
  },
  {
   "cell_type": "markdown",
   "id": "aa517b97-9e59-4f48-861c-7327fea780df",
   "metadata": {},
   "source": [
    "El objetivo de este problema es determinar la mejor estrategia de inversión, dados diferentes tipos de bono, la máxima cantidad que puede ser invertida en cada bono, el porcentaje de retorno y los años de madurez. También hay una cantidad fija de dinero disponible ($\\$750,000$). Por lo menos la mitad de este dinero debe ser invertido en bonos con 10 años o más para la madurez. Se puede invertir un máximo del $25\\%$ de esta cantidad en cada bono. Finalmente, hay otra restricción que no permite usar más de $35\\%$ en bonos de alto riesgo.\n",
    "\n",
    "Existen seis (6) opciones de inversión con las letras correspondientes $A_i$\n",
    "\n",
    "1. $A_1$:(Tasa de retorno=$8.65\\%$; Años para la madurez=11, Riesgo=Bajo)\n",
    "1. $A_2$:(Tasa de retorno=$9.50\\%$; Años para la madurez=10, Riesgo=Alto)\n",
    "1. $A_3$:(Tasa de retorno=$10.00\\%$; Años para la madurez=6, Riesgo=Alto)\n",
    "1. $A_4$:(Tasa de retorno=$8.75\\%$; Años para la madurez=10, Riesgo=Bajo)\n",
    "1. $A_5$:(Tasa de retorno=$9.25\\%$; Años para la madurez=7, Riesgo=Alto)\n",
    "1. $A_6$:(Tasa de retorno=$9.00\\%$; Años para la madurez=13, Riesgo=Bajo)\n",
    "\n",
    "Lo que se quiere entonces es maximizar el retorno que deja la inversión.\n",
    "\n",
    "Este problema puede ser resuelto con programación lineal. Formalmente, puede ser descrito como:\n",
    "\n",
    "$$\\max_{A_1,A_2,...,A_6}\\sum^{6}_{i=1} A_iR_i,$$\n",
    "\n",
    "donde $A_i$ representa la cantidad invertida en la opción, y $R_i$ representa la tasa de retorno respectiva."
   ]
  },
  {
   "cell_type": "markdown",
   "id": "91d025da-ec0c-4d28-a3d0-946ca43eb263",
   "metadata": {},
   "source": [
    "#### 1-. Identificar criterio de optimizacion min ,max :\n",
    " **el objetivo es maximizar el retorno total de la inversión bajo varias restricciones**"
   ]
  },
  {
   "cell_type": "markdown",
   "id": "93336de7-0646-49bf-a2cc-1d94f9629c1f",
   "metadata": {},
   "source": [
    "#### 2-. Variables de control ,funcion objetivo:\n",
    "1. $A_1$:(Tasa de retorno=$8.65\\%$; Años para la madurez=11, Riesgo=Bajo)\n",
    "1. $A_2$:(Tasa de retorno=$9.50\\%$; Años para la madurez=10, Riesgo=Alto)\n",
    "1. $A_3$:(Tasa de retorno=$10.00\\%$; Años para la madurez=6, Riesgo=Alto)\n",
    "1. $A_4$:(Tasa de retorno=$8.75\\%$; Años para la madurez=10, Riesgo=Bajo)\n",
    "1. $A_5$:(Tasa de retorno=$9.25\\%$; Años para la madurez=7, Riesgo=Alto)\n",
    "1. $A_6$:(Tasa de retorno=$9.00\\%$; Años para la madurez=13, Riesgo=Bajo)\n"
   ]
  },
  {
   "cell_type": "markdown",
   "id": "de9e62cf-c282-4378-a1e6-2f81add7cb50",
   "metadata": {},
   "source": [
    "#### 3-. Funcion de objetivo:"
   ]
  },
  {
   "cell_type": "markdown",
   "id": "528df40d-d906-45a1-84bf-b8602208487a",
   "metadata": {},
   "source": [
    "$$0.0865x_{A1}+0.0950x_{A2}+0.1000x_{A3}+0.0875x_{A4}+0.0925x_{A5}+0.0900x_{A6} $$"
   ]
  },
  {
   "cell_type": "markdown",
   "id": "1c94d19d-a3d3-4158-9c4a-389a71c04131",
   "metadata": {},
   "source": [
    "#### 4-. Informacion general:"
   ]
  },
  {
   "cell_type": "markdown",
   "id": "045787bb-b0df-407c-81a9-332b0d4c3290",
   "metadata": {},
   "source": [
    "Restriccion totalidad disponible:\n",
    "$$A_1+A_2+A_3+A_4+A_5+A_6\\leq 750,000$$"
   ]
  },
  {
   "cell_type": "markdown",
   "id": "7f05b718-7916-4cfd-8861-ff460e6716f6",
   "metadata": {},
   "source": [
    "Restriccion inversión minima:\n",
    "$$A_1+A_2+A_3+A_4+A_6\\geq 375,000$$"
   ]
  },
  {
   "cell_type": "markdown",
   "id": "6a75530f-12c0-465f-a3ac-62317315ddff",
   "metadata": {},
   "source": [
    "Restriccion en 35% maximo en bonos de alto riesgo:\n",
    "$$A_1\\leq 187,500$$ $$A_2\\leq 187,500$$ $$A_3\\leq 187,500$$ $$A_4\\leq 187,500$$ $$A_5\\leq 187,500$$ $$A_6\\leq 187,500$$  "
   ]
  },
  {
   "cell_type": "markdown",
   "id": "b2038b9d-0335-4305-99db-e3b480961141",
   "metadata": {},
   "source": [
    "Restriccion en 25% maximo en cada bono:\n",
    "$$A_2+A_3+A_4+A_5\\leq 262,500$$"
   ]
  },
  {
   "cell_type": "markdown",
   "id": "0e91d47b-fb4f-4c72-94df-a237f18110ec",
   "metadata": {},
   "source": [
    "#### Solución:"
   ]
  },
  {
   "cell_type": "code",
   "execution_count": 192,
   "id": "8c67f29b-e240-4be1-bdff-318741bec0bf",
   "metadata": {},
   "outputs": [
    {
     "data": {
      "text/plain": [
       "       message: The problem is infeasible. (HiGHS Status 8: model_status is Infeasible; primal_status is At lower/fixed bound)\n",
       "       success: False\n",
       "        status: 2\n",
       "           fun: None\n",
       "             x: None\n",
       "           nit: 0\n",
       "         lower:  residual: None\n",
       "                marginals: None\n",
       "         upper:  residual: None\n",
       "                marginals: None\n",
       "         eqlin:  residual: None\n",
       "                marginals: None\n",
       "       ineqlin:  residual: None\n",
       "                marginals: None"
      ]
     },
     "execution_count": 192,
     "metadata": {},
     "output_type": "execute_result"
    }
   ],
   "source": [
    "import scipy.optimize as opt\n",
    "import numpy as np\n",
    "\n",
    "# coeficientes de la función objetivo\n",
    "c = np.array([0.0865, 0.0950, 0.1000, 0.0875, 0.0925, 0.0900])\n",
    "\n",
    "A_ub = np.array([\n",
    "   [1, 1, 1, 1, 1, 1],           \n",
    "    [-1, -1, 0, -1, 0, -1],      \n",
    "    [0, 0, 1, 0, 1, 0],          \n",
    "    [-1, 0, 0, 0, 0, 0],          \n",
    "    [0, -1, 0, 0, 0, 0],\n",
    "    [0, 0, -1, 0, 0, 0],\n",
    "    [0, 0, 0, -1, 0, 0],\n",
    "    [0, 0, 0, 0, -1, 0],\n",
    "    [0, 0, 0, 0, 0, -1]\n",
    "])\n",
    "\n",
    "#restricciones\n",
    "b_ub = np.array([750000, -375000, 262500, -187500, -187500, -187500, -187500, -187500, -187500])\n",
    "\n",
    "sol = opt.linprog(-returns, A_ub=A_ub, b_ub=b_ub, bounds=bounds, method='highs')\n",
    "type(sol)\n",
    "sol\n",
    "\n"
   ]
  },
  {
   "cell_type": "markdown",
   "id": "b103cac1-df7c-4c05-8d82-41649a908b34",
   "metadata": {},
   "source": [
    "## A06"
   ]
  },
  {
   "cell_type": "markdown",
   "id": "484a02e3-60a0-4304-8ab5-a9656191c5c6",
   "metadata": {},
   "source": [
    "#### Ejercicio 1:\n",
    "Una carpintería local fabrica sillas, mesas, libreros y bases de cama. Hay dos empleados en esta carpintería: un empleado experimentado y un aprendiz. El aprendiz tarda aproximadamente 50% más tiempo que el carpintero experimentado en construir cualquier cosa, además de que tiene un desperdicio de alrededor de 20% de material. Los materiales y tiempos necesarios para construir algo se desglozan en la siguiente tabla:\n",
    "\n",
    "Las mesas se venden en 9000, las sillas en 3000, los libreros en 10000, y las bases de cama en $9000. Suponiendo una jornada de 40 horas a la semana y que tienen 100 unidades de madera, ¿qué les conviene construir durante una semana para maximizar su ganancia?\n",
    "\n",
    "* ¿Cuántas horas trabaja cada quién?\n",
    "* ¿Cuánto material se usa\n",
    "* \n",
    "¿Cuál se el ingreso total si se vende todo lo fabricado\n"
   ]
  },
  {
   "cell_type": "markdown",
   "id": "fefd59cc-d17c-401a-b48d-ace84721e236",
   "metadata": {},
   "source": [
    "#### 1-. Identificar criterio de optimizacion min ,max : \n",
    "se necesita maximizar la ganancia total dada la capacidad limitada de tiempo y material."
   ]
  },
  {
   "cell_type": "markdown",
   "id": "6cca9371-3e5f-4270-9cf6-3972715df262",
   "metadata": {},
   "source": [
    "#### 2-. Variables de control ,funcion objetivo:\n",
    "$$x_1: número\\_de\\_mesas\\_a\\_fabricar $$\n",
    "$$x_2: número\\_de\\_sillas\\_a\\_fabricar.$$\n",
    "$$x_3: número\\_de\\_libreros\\_a\\_fabricar. $$\n",
    "$$x_4: número\\_de\\_bases\\_de\\_cama\\_a\\_fabricar. $$ "
   ]
  },
  {
   "cell_type": "markdown",
   "id": "5eb43878-37f2-44dc-92a1-ec514bc4729a",
   "metadata": {},
   "source": [
    "#### 3-. Funcion de objetivo:\n",
    "$$ Maximisar = 9000x_1 + 3000x_2 + 10000x_3 + 9000x_4$$"
   ]
  },
  {
   "cell_type": "markdown",
   "id": "ebec4c72-57c9-4df3-a5d8-95f651e11419",
   "metadata": {},
   "source": [
    "#### 4-.Informacion general:\n",
    "restriccion tiempo experimentado: \n",
    "$$  4.5x_1 + 1.5x_2 + 6x_3 + 4.5x_4 \\leq 80 $$\n",
    "restriccion\\_materiales: \n",
    "$$  7.2x_1 + 2.4x_2 + 6x_3 + 6x_4 \\leq 100 $$"
   ]
  },
  {
   "cell_type": "markdown",
   "id": "66fb0131-c150-44d7-b75b-f1a06f19bf99",
   "metadata": {},
   "source": [
    "#### Solucion:"
   ]
  },
  {
   "cell_type": "code",
   "execution_count": 218,
   "id": "e31af529-477f-4795-8b7e-430010e608f2",
   "metadata": {},
   "outputs": [
    {
     "data": {
      "text/plain": [
       "        message: Optimization terminated successfully. (HiGHS Status 7: Optimal)\n",
       "        success: True\n",
       "         status: 0\n",
       "            fun: -153333.33333333334\n",
       "              x: [ 0.000e+00  0.000e+00  3.333e+00  1.333e+01]\n",
       "            nit: 2\n",
       "          lower:  residual: [ 0.000e+00  0.000e+00  3.333e+00  1.333e+01]\n",
       "                 marginals: [ 1.200e+03  4.000e+02  0.000e+00  0.000e+00]\n",
       "          upper:  residual: [       inf        inf        inf        inf]\n",
       "                 marginals: [ 0.000e+00  0.000e+00  0.000e+00  0.000e+00]\n",
       "          eqlin:  residual: []\n",
       "                 marginals: []\n",
       "        ineqlin:  residual: [ 0.000e+00  0.000e+00]\n",
       "                 marginals: [-6.667e+02 -1.000e+03]\n",
       " mip_node_count: 0\n",
       " mip_dual_bound: 0.0\n",
       "        mip_gap: 0.0"
      ]
     },
     "execution_count": 218,
     "metadata": {},
     "output_type": "execute_result"
    }
   ],
   "source": [
    "import scipy.optimize as opt\n",
    "import numpy as np\n",
    "\n",
    "# Coeficientes de la función objetivo \n",
    "c = np.array([-9000, -3000, -10000, -9000]) \n",
    "\n",
    "\n",
    "A_ub = np.array([\n",
    "    [4.5, 1.5, 6, 4.5],  # Restricción de tiempo\n",
    "    [7.2, 2.4, 6, 6]     # Restricción de material\n",
    "])\n",
    "\n",
    "#restricciones\n",
    "b_ub = np.array([80, 100])\n",
    "sol = opt.linprog(c, A_ub=A_ub, b_ub=b_ub)\n",
    "type(sol)\n",
    "sol\n"
   ]
  },
  {
   "cell_type": "markdown",
   "id": "ede51832-e8d6-484f-977d-7190c28c9923",
   "metadata": {},
   "source": [
    "#### 2-.La carpintería recibió una orden por 3 combos de mesa + 6 sillas.\n",
    "¿Se puede cumplir la orden?\r\n",
    "Si sí, ¿qué es lo que tienen que fabricar en el resto del tiempo y con el resto del material para maximizar su ganancia?\r\n",
    "¿Cuántas horas trabaja cada quién?\r\n",
    "¿Cuánto material se usa?\r\n",
    "¿Cuál es el nuevo ingreso total?tal?"
   ]
  },
  {
   "cell_type": "code",
   "execution_count": 262,
   "id": "c787c790-aca7-48ef-a654-37b09e5a5e86",
   "metadata": {},
   "outputs": [
    {
     "data": {
      "text/plain": [
       "        message: Optimization terminated successfully. (HiGHS Status 7: Optimal)\n",
       "        success: True\n",
       "         status: 0\n",
       "            fun: -35000.0\n",
       "              x: [ 3.889e+00  0.000e+00  0.000e+00  0.000e+00]\n",
       "            nit: 0\n",
       "          lower:  residual: [ 3.889e+00  0.000e+00  0.000e+00  0.000e+00]\n",
       "                 marginals: [ 0.000e+00  0.000e+00  2.000e+03  0.000e+00]\n",
       "          upper:  residual: [       inf        inf        inf        inf]\n",
       "                 marginals: [ 0.000e+00  0.000e+00  0.000e+00  0.000e+00]\n",
       "          eqlin:  residual: []\n",
       "                 marginals: []\n",
       "        ineqlin:  residual: [ 1.333e+01  0.000e+00  4.200e+01]\n",
       "                 marginals: [-0.000e+00 -2.000e+03 -0.000e+00]\n",
       " mip_node_count: 0\n",
       " mip_dual_bound: 0.0\n",
       "        mip_gap: 0.0"
      ]
     },
     "execution_count": 262,
     "metadata": {},
     "output_type": "execute_result"
    }
   ],
   "source": [
    "from scipy.optimize import linprog\n",
    "\n",
    "c = [-9000, -3000, -10000, -9000]\n",
    "A = [\n",
    "    # Tiempo del empleado experimentado\n",
    "      [3, 1, 4, 3],\n",
    "    [4.5, 1.5, 6, 4.5],  # Tiempo del aprendiz\n",
    "    [7.2, 2.4, 6, 6]  # Material ajustado\n",
    "]\n",
    "\n",
    "b = [25, 17.5, 70]  # Recursos restantes\n",
    "sol2 = linprog(c, A_ub=A, b_ub=b)\n",
    "type(sol2)\n",
    "sol2\n",
    "#me hice muchas bolas con este la verdad no lo logro comprender "
   ]
  },
  {
   "cell_type": "markdown",
   "id": "fcc6db83-c190-4ea9-9660-280d263434a4",
   "metadata": {},
   "source": [
    "## A05"
   ]
  },
  {
   "cell_type": "markdown",
   "id": "e8a16592-d38d-42a9-a2b7-108fcb2bd11b",
   "metadata": {},
   "source": [
    "#### Ejercicio 1:\n",
    "Se quiere producir comida para gatos de la manera más barata, no obstante se debe también asegurar que se cumplan los datos requeridos de analisis nutricional. Por lo que se quiere variar la cantidad de cada ingrediente para cumplir con los estandares nutricionales. Los requisitos que se tienen es que en 100 gramos, se deben tener por lo menos 9 gramos de proteína y 7 gramos de grasa. Así mismo, no se debe tener más de 2.5 gramos de fibra y 0.5 gramos de sal."
   ]
  },
  {
   "cell_type": "markdown",
   "id": "95b974f8-c73a-4b63-aeed-bd32ec636eb4",
   "metadata": {},
   "source": [
    "#### 1-. Identificar criterio de optimizacion min ,max : \n",
    "* EL objetivo es minimizar los costos de los ingredientes cumpliendo con las restricciones:\n",
    "\n",
    "#### 2-. variables de control:\n",
    "* $$x_1 = cantidad\\_de\\_pollo\\_gr$$\n",
    "* $$x_2 = cantidad\\_de\\_carne\\_gr$$\n",
    "* $$x_3 = cantidad\\_de\\_cordero\\_gr$$\n",
    "* $$x_4 = cantidad\\_arroz\\_gr$$\n",
    "* $$x_5 = cantidad\\_de\\_trigo\\_gr$$\n",
    "* $$x_6 = cantidad\\_de\\_gel\\_gr$$\n",
    "#### 3-. Funcion de objetivo:\n",
    "$$ \\min_{x1,x2,x3,x5,x6}= 0.012x_1+0.009x_2+0.010x_3+0.003x_4+0.005x_5+0.002x_6 $$ \n",
    "\n",
    "\n",
    "#### 4-. Informacion adicional\n",
    "$$ \\text{s.t.} $$\n",
    "$$ restriccion\\_proteina = 0.10x_1 + 0.20x_2 + 0.15x_3 + 0.004x_5 \\geq 9 $$\n",
    "$$ restriccion\\_grasa = 0.08x_1 + 0.10x_2 + 0.11x_3 + 0.01x_4 + 0.01x_5 \\geq 7 $$\n",
    "$$ restriccion\\_fibra= 0.001x_1 + 0.005x_2 + 0.005x_3 +0.10x_4 + 0.15x_5 \\leq 2.5 $$\n",
    "$$ restriccion\\_sal = 0.002x_1 + 0.005x_2 + 0.007x_3 + 0.002x_4 + 0.008x_5 \\leq 0.5 $$\n"
   ]
  },
  {
   "cell_type": "markdown",
   "id": "67119241-549b-4323-8a9e-9c5a87dbe134",
   "metadata": {},
   "source": [
    "#### Solucion:"
   ]
  },
  {
   "cell_type": "code",
   "execution_count": 282,
   "id": "a3e3455e-0f56-4bb4-a39b-141d48036aa6",
   "metadata": {},
   "outputs": [
    {
     "data": {
      "text/plain": [
       "        message: Optimization terminated successfully. (HiGHS Status 7: Optimal)\n",
       "        success: True\n",
       "         status: 0\n",
       "            fun: 0.63\n",
       "              x: [ 0.000e+00  7.000e+01  0.000e+00  0.000e+00  0.000e+00\n",
       "                   0.000e+00]\n",
       "            nit: 2\n",
       "          lower:  residual: [ 0.000e+00  7.000e+01  0.000e+00  0.000e+00\n",
       "                              0.000e+00  0.000e+00]\n",
       "                 marginals: [ 4.800e-03  0.000e+00  1.000e-04  2.100e-03\n",
       "                              4.100e-03  2.000e-03]\n",
       "          upper:  residual: [       inf        inf        inf        inf\n",
       "                                    inf        inf]\n",
       "                 marginals: [ 0.000e+00  0.000e+00  0.000e+00  0.000e+00\n",
       "                              0.000e+00  0.000e+00]\n",
       "          eqlin:  residual: []\n",
       "                 marginals: []\n",
       "        ineqlin:  residual: [ 5.000e+00  0.000e+00  2.150e+00  1.500e-01]\n",
       "                 marginals: [-0.000e+00 -9.000e-02 -0.000e+00 -0.000e+00]\n",
       " mip_node_count: 0\n",
       " mip_dual_bound: 0.0\n",
       "        mip_gap: 0.0"
      ]
     },
     "execution_count": 282,
     "metadata": {},
     "output_type": "execute_result"
    }
   ],
   "source": [
    "import numpy as np\n",
    "from scipy.optimize import linprog\n",
    "\n",
    "# Coeficientes de la función objetivo\n",
    "c = [0.012, 0.009, 0.010, 0.003, 0.005, 0.002]\n",
    "\n",
    "# Coeficientes de las restricciones\n",
    "A = [\n",
    "    [-0.10, -0.20, -0.15, 0, -0.004, 0],  \n",
    "    [-0.08, -0.10, -0.11, -0.01, -0.01, 0], \n",
    "    [0.001, 0.005, 0.005, 0.10, 0.15, 0],  \n",
    "    [0.002, 0.005, 0.007, 0.002, 0.008, 0]   \n",
    "]\n",
    "\n",
    "#  restricciones\n",
    "b = [-9, -7, 2.5, 0.5]\n",
    "sol = linprog(c, A_ub=A, b_ub=b, bounds=bounds, method='highs')\n",
    "type(sol)\n",
    "sol\n",
    "\n"
   ]
  },
  {
   "cell_type": "markdown",
   "id": "55b5ccb1-2151-469c-9c5d-d0951f1e877d",
   "metadata": {},
   "source": [
    "#### Ejercicio 2:\n",
    "La Comisión Federal de Electricidad (CFE) dispone de cuatro plantas de generación para satisfacer la demanda diaria eléctrica en cuatro ciudades, Guadalajara, León y Morelia. Las plantas 1, 2 y 3 pueden satisfacer 75, 50 y 60 millones de kW al día respectivamente. Las necesidades de las ciudades de Guadalajara, León y Morelia son de 60, 45 y 60 millones de Kw al día respectivamente.\n",
    "\n",
    "Los costos asociados al envío de suministro energético por cada millón de kW entre cada planta y cada ciudad son los registrados en la siguiente tabla."
   ]
  },
  {
   "cell_type": "markdown",
   "id": "afc04180-e953-4e2e-aced-c2bf9f5fec77",
   "metadata": {},
   "source": [
    "#### 1-. Identificar criterio de optimizacion min ,max : \n",
    "* buscamos minimizar el costo total de transporte desde las plantas hacia las ciudades, con restricciones de capacidad de producción y demanda de las ciudades.\n",
    "#### 2-. variables de control:\n",
    "$$ x_1 = planta1\\_leon  $$\n",
    "$$ x_1 = planta1\\_mor  $$\n",
    "$$ x_2 =planta2\\_gdl  $$\n",
    "$$ x_2 = planta2\\_leon $$\n",
    "$$ x_2 = planta2\\_mor $$\n",
    "$$ x_3 = planta3\\_gdl  $$\n",
    "$$ x_3 = planta3\\_leon $$\n",
    "$$ x_3 = planta3\\_mor  $$\n",
    "#### 3-. Funcion de objetivo:\n",
    "$$  5x_1\\_gdl + 2x_1\\_gdl+ 7x_1\\_gdl + 3x_2\\_gdl + 4x_2\\_leon + 5x_2\\_mor + 5x_3\\_gdl + 2x_3\\_leon + 3x_3\\_mor $$\n",
    "\n",
    "#### 4-. Informacion adicional:\n",
    "* $x_1\\_gdl+ x_1\\_mor + x_1\\_leon\\leq 75$\n",
    "* $x_1\\_gdl+ x_1\\_mor + x_1\\_leon\\leq 50$\n",
    "* $x_1\\_gdl+ x_1\\_mor + x_1\\_leon\\leq 60$\n",
    "* $x_1\\_gdl+ x_1\\_mor + x_1\\_leon\\geq 60$\n",
    "* $x_1\\_gdl+ x_1\\_mor + x_1\\_leon\\geq 45$\n",
    "* $x_1\\_gdl+ x_1\\_mor + x_1\\_leon\\geq 60$"
   ]
  },
  {
   "cell_type": "markdown",
   "id": "6f09f762-20c9-488f-9167-c5e27e21c19e",
   "metadata": {},
   "source": [
    "#### solucion: "
   ]
  },
  {
   "cell_type": "code",
   "execution_count": 296,
   "id": "6f93665f-3c5f-43cd-85c8-5ec298f11573",
   "metadata": {},
   "outputs": [
    {
     "data": {
      "text/plain": [
       "        message: Optimization terminated successfully. (HiGHS Status 7: Optimal)\n",
       "        success: True\n",
       "         status: 0\n",
       "            fun: 470.0\n",
       "              x: [ 1.000e+01  4.500e+01  0.000e+00  5.000e+01  0.000e+00\n",
       "                   0.000e+00  0.000e+00  0.000e+00  6.000e+01]\n",
       "            nit: 4\n",
       "          lower:  residual: [ 1.000e+01  4.500e+01  0.000e+00  5.000e+01\n",
       "                              0.000e+00  0.000e+00  0.000e+00  0.000e+00\n",
       "                              6.000e+01]\n",
       "                 marginals: [ 0.000e+00  0.000e+00  4.000e+00  0.000e+00\n",
       "                              4.000e+00  4.000e+00  0.000e+00  0.000e+00\n",
       "                              0.000e+00]\n",
       "          upper:  residual: [       inf        inf        inf        inf\n",
       "                                    inf        inf        inf        inf\n",
       "                                    inf]\n",
       "                 marginals: [ 0.000e+00  0.000e+00  0.000e+00  0.000e+00\n",
       "                              0.000e+00  0.000e+00  0.000e+00  0.000e+00\n",
       "                              0.000e+00]\n",
       "          eqlin:  residual: []\n",
       "                 marginals: []\n",
       "        ineqlin:  residual: [ 2.000e+01  0.000e+00  0.000e+00  0.000e+00\n",
       "                              0.000e+00  0.000e+00]\n",
       "                 marginals: [-0.000e+00 -2.000e+00 -0.000e+00 -5.000e+00\n",
       "                             -2.000e+00 -3.000e+00]\n",
       " mip_node_count: 0\n",
       " mip_dual_bound: 0.0\n",
       "        mip_gap: 0.0"
      ]
     },
     "execution_count": 296,
     "metadata": {},
     "output_type": "execute_result"
    }
   ],
   "source": [
    "import scipy.optimize as opt\n",
    "import numpy as np\n",
    "\n",
    "c = np.array([5,\n",
    "             2,\n",
    "             7,\n",
    "             3,\n",
    "             4,\n",
    "             5,\n",
    "             5,\n",
    "             2,\n",
    "             3\n",
    "         ])\n",
    "\n",
    "A_ub = np.array([\n",
    "    [1,1,1,0,0,0,0,0,0],\n",
    "    [0,0,0,1,1,1,0,0,0],\n",
    "    [0,0,0,0,0,0,1,1,1],\n",
    "    [-1,0,0,-1,0,0,-1,0,0],\n",
    "    [0,-1,0,0,-1,0,0,-1,0],\n",
    "    [0,0,-1,0,0,-1,0,0,-1]\n",
    "])\n",
    "\n",
    "b_ub= np.array ([\n",
    "    75,\n",
    "    50,\n",
    "    60,\n",
    "   -60,\n",
    "   -45,\n",
    "   -60\n",
    "])\n",
    "\n",
    "import scipy.optimize as opt \n",
    "# veremos como se usa esta funcion\n",
    "sol= opt.linprog(c,A_ub,b_ub)\n",
    "type(sol)\n",
    "sol"
   ]
  },
  {
   "cell_type": "code",
   "execution_count": null,
   "id": "f0de560e-1529-4bbb-b6d5-c5b858b15549",
   "metadata": {},
   "outputs": [],
   "source": []
  }
 ],
 "metadata": {
  "kernelspec": {
   "display_name": "Python 3 (ipykernel)",
   "language": "python",
   "name": "python3"
  },
  "language_info": {
   "codemirror_mode": {
    "name": "ipython",
    "version": 3
   },
   "file_extension": ".py",
   "mimetype": "text/x-python",
   "name": "python",
   "nbconvert_exporter": "python",
   "pygments_lexer": "ipython3",
   "version": "3.12.4"
  }
 },
 "nbformat": 4,
 "nbformat_minor": 5
}
