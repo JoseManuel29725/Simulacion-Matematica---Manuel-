{
 "cells": [
  {
   "cell_type": "markdown",
   "id": "6ed3cedf-f5d8-4b34-8f99-c116e45f0036",
   "metadata": {},
   "source": [
    "05/09/24 Jose Manuel Orozco Martinez "
   ]
  },
  {
   "cell_type": "markdown",
   "id": "52e70929-fe01-4bee-8590-fbbda86de8b3",
   "metadata": {},
   "source": [
    "Programacion lineal:"
   ]
  },
  {
   "cell_type": "markdown",
   "id": "f60f3bbf-2479-41f1-89cb-51cbdb3300a5",
   "metadata": {},
   "source": [
    "## Ejercicio 1\n",
    "\n",
    "Se quiere producir comida para gatos de la manera más barata, no obstante se debe también asegurar que se cumplan los datos requeridos de analisis nutricional. Por lo que se quiere variar la cantidad de cada ingrediente para cumplir con los estandares nutricionales. Los requisitos que se tienen es que en 100 gramos, se deben tener por lo menos 9 gramos de proteína y  7 gramos de grasa. Así mismo, no se debe tener más de 2.5 gramos de fibra y 0.5 gramos de sal."
   ]
  },
  {
   "cell_type": "markdown",
   "id": "50c246bb-4849-41cc-87b2-08707371bcbb",
   "metadata": {},
   "source": [
    "### 1-. Identificar criterio de optimizacion \n",
    "* EL objetivo es minimizar los costos de los ingredientes cumpliendo con las restricciones:\n",
    "\n",
    "### 2-. variables de control:\n",
    "* x1 = cantidad de pollo gr \n",
    "* x2 = cantidad de carne gr\n",
    "* x3 = cantidad de cordero gr\n",
    "* x4 = cantidad de \n",
    "* x5 = cantidad de trigo \n",
    "* x6 = cantidad de gel\n",
    "### 3-. Funcion de costo \n",
    "$$ \\min_{x1,x2,x3,x5,x6}= 0.012x_1+0.009x_2+0.010x_3+0.003x_4+0.005x_5+0.002x_6 $$ \n",
    "\n",
    "\n",
    "### 4-. Informacion adicional\n",
    "$$ \\text{s.t.} $$\n",
    "$$ restriccion\\_proteina = 0.10x_1 + 0.20x_2 + 0.15x_3 + 0.004x_5 \\geq 9 $$\n",
    "$$ restriccion\\_grasa = 0.08x_1 + 0.10x_2 + 0.11x_3 + 0.01x_4 + 0.01x_5 \\geq 7 $$\n",
    "$$ restriccion\\_fibra= 0.001x_1 + 0.005x_2 + 0.005x_3 +0.10x_4 + 0.15x_5 \\leq 2.5 $$\n",
    "$$ restriccion\\_sal = 0.002x_1 + 0.005x_2 + 0.007x_3 + 0.002x_4 + 0.008x_5 \\leq 0.5 $$\n"
   ]
  },
  {
   "cell_type": "markdown",
   "id": "6f947aac-33e3-446e-b650-a192dc4e8ec3",
   "metadata": {},
   "source": [
    "## Ejercicio 2"
   ]
  },
  {
   "cell_type": "markdown",
   "id": "83739935-7d20-46b8-bc68-098c0474fdde",
   "metadata": {},
   "source": [
    "La Comisión Federal de Electricidad (CFE) dispone de cuatro plantas de generación para satisfacer la demanda diaria eléctrica en cuatro ciudades, Guadalajara, León y Morelia. Las plantas 1, 2 y 3 pueden satisfacer 75, 50 y 60 millones de kW al día respectivamente. Las necesidades de las ciudades de Guadalajara, León y Morelia son de 60, 45 y 60 millones de Kw al día respectivamente.\n",
    "\n",
    "Los costos asociados al envío de suministro energético por cada millón de kW entre cada planta y cada ciudad son los registrados en la siguiente tabla."
   ]
  },
  {
   "cell_type": "markdown",
   "id": "5b1a6679-ac95-49d5-92c4-febc67dc1d1c",
   "metadata": {},
   "source": [
    "### 1-. Identificar criterio de optimizacion:\n",
    "* buscamos minimizar el costo total de transporte desde las plantas hacia las ciudades, con restricciones de capacidad de producción y demanda de las ciudades.\n",
    "\n",
    "### 2-. variables de control:\n",
    "\n",
    "$$ x1 = planta1\\_leon  $$\n",
    "$$ x1 = planta1\\_mor  $$\n",
    "$$ x2 =planta2\\_gdl  $$\n",
    "$$ x2 = planta2\\_leon $$\n",
    "$$ x2 = planta2\\_mor $$\n",
    "$$ x3 = planta3\\_gdl  $$\n",
    "$$ x3 = planta3\\_leon $$\n",
    "$$ x3 = planta3\\_mor  $$\n",
    "### 3-. Funcion de costos \n",
    "$$  5x_1\\_gdl + 2x_1\\_gdl+ 7x_1\\_gdl + 3x_2\\_gdl + 4x_2\\_leon + 5x_2\\_mor + 5x_3\\_gdl + 2x_3\\_leon + 3x_3\\_mor $$\n",
    "\n",
    "### 4-. Informacion adicional "
   ]
  },
  {
   "cell_type": "code",
   "execution_count": null,
   "id": "29e0e667-54ae-4b39-aad0-be58c3d7fe45",
   "metadata": {},
   "outputs": [],
   "source": []
  }
 ],
 "metadata": {
  "kernelspec": {
   "display_name": "Python 3 (ipykernel)",
   "language": "python",
   "name": "python3"
  },
  "language_info": {
   "codemirror_mode": {
    "name": "ipython",
    "version": 3
   },
   "file_extension": ".py",
   "mimetype": "text/x-python",
   "name": "python",
   "nbconvert_exporter": "python",
   "pygments_lexer": "ipython3",
   "version": "3.12.4"
  }
 },
 "nbformat": 4,
 "nbformat_minor": 5
}
