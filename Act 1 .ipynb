{
 "cells": [
  {
   "cell_type": "markdown",
   "id": "00460654-045c-4c53-90ef-f54d64f2a7e4",
   "metadata": {},
   "source": [
    "# Tipos de variables \n",
    "\n"
   ]
  },
  {
   "cell_type": "code",
   "execution_count": 10,
   "id": "07bb4f7c-17e0-4553-a264-69570aebe23c",
   "metadata": {},
   "outputs": [],
   "source": [
    "pedro = \"Hola\""
   ]
  },
  {
   "cell_type": "code",
   "execution_count": 6,
   "id": "7f59d390-5ae1-4a8e-8b9a-d3c2d34c9079",
   "metadata": {},
   "outputs": [
    {
     "name": "stdout",
     "output_type": "stream",
     "text": [
      "3\n"
     ]
    }
   ],
   "source": [
    "print(pedro)\n"
   ]
  },
  {
   "cell_type": "code",
   "execution_count": 12,
   "id": "2302ddc7-aa88-45d3-91b6-4d5b2d6f3587",
   "metadata": {},
   "outputs": [
    {
     "data": {
      "text/plain": [
       "str"
      ]
     },
     "execution_count": 12,
     "metadata": {},
     "output_type": "execute_result"
    }
   ],
   "source": [
    "type(pedro)\n"
   ]
  },
  {
   "cell_type": "code",
   "execution_count": 14,
   "id": "927c9b47-dfe1-4d32-bbf2-15f6440e231d",
   "metadata": {},
   "outputs": [
    {
     "name": "stdout",
     "output_type": "stream",
     "text": [
      "3.1416\n"
     ]
    },
    {
     "data": {
      "text/plain": [
       "float"
      ]
     },
     "execution_count": 14,
     "metadata": {},
     "output_type": "execute_result"
    }
   ],
   "source": [
    "pi = 3.1416\n",
    "print(pi)\n",
    "type(pi)"
   ]
  },
  {
   "cell_type": "code",
   "execution_count": 16,
   "id": "1e401f37-3785-43f2-9f2c-8c0b042456a9",
   "metadata": {},
   "outputs": [
    {
     "name": "stdout",
     "output_type": "stream",
     "text": [
      "G\n"
     ]
    },
    {
     "data": {
      "text/plain": [
       "str"
      ]
     },
     "execution_count": 16,
     "metadata": {},
     "output_type": "execute_result"
    }
   ],
   "source": [
    "inicial= \"G\"\n",
    "print(inicial)\n",
    "type(inicial)"
   ]
  },
  {
   "cell_type": "code",
   "execution_count": 18,
   "id": "0fca2178-379f-4922-8077-842aa743a402",
   "metadata": {},
   "outputs": [
    {
     "name": "stdout",
     "output_type": "stream",
     "text": [
      "Orozco\n"
     ]
    },
    {
     "data": {
      "text/plain": [
       "str"
      ]
     },
     "execution_count": 18,
     "metadata": {},
     "output_type": "execute_result"
    }
   ],
   "source": [
    "apellido = \"Orozco\"\n",
    "print(apellido)\n",
    "type(apellido)"
   ]
  },
  {
   "cell_type": "code",
   "execution_count": 20,
   "id": "42d0dc0e-09c4-44b2-94b8-73d8ba59bac4",
   "metadata": {},
   "outputs": [
    {
     "name": "stdout",
     "output_type": "stream",
     "text": [
      "True\n"
     ]
    },
    {
     "data": {
      "text/plain": [
       "bool"
      ]
     },
     "execution_count": 20,
     "metadata": {},
     "output_type": "execute_result"
    }
   ],
   "source": [
    "desayuno = True \n",
    "print(desayuno)\n",
    "type(desayuno)"
   ]
  },
  {
   "cell_type": "markdown",
   "id": "5f413d6c-9a9b-4ca4-ad1d-c51620b83150",
   "metadata": {},
   "source": [
    "# Operadores \n"
   ]
  },
  {
   "cell_type": "code",
   "execution_count": null,
   "id": "9cc8c122-3637-4692-9b66-58dcf94f3776",
   "metadata": {},
   "outputs": [],
   "source": [
    "\n",
    "\n",
    "\n",
    "\n",
    "\n",
    "\n",
    "\n"
   ]
  },
  {
   "cell_type": "markdown",
   "id": "59cbb371-432f-4a05-a0a9-29930b7043f0",
   "metadata": {},
   "source": [
    "# Matematicos \n"
   ]
  },
  {
   "cell_type": "markdown",
   "id": "2e0aeadc-7981-4531-ad22-61e8d4765604",
   "metadata": {},
   "source": [
    "$$ + $$ \n",
    "$$ -$$ \n",
    "$$ * $$ \n",
    "$$ / $$ \n",
    "$$ ** $$ \n",
    "$$ % $$ \n",
    "\n",
    "\n",
    "\n",
    "\n",
    "\n",
    "\n",
    "\n",
    "\n"
   ]
  },
  {
   "cell_type": "markdown",
   "id": "800ff840-f46c-4369-94b6-e318858d77e7",
   "metadata": {},
   "source": [
    "# Booleanos"
   ]
  },
  {
   "cell_type": "markdown",
   "id": "844d3943-7678-4f64-aa7d-42b311c00c0a",
   "metadata": {},
   "source": [
    "$$ > $$\n",
    "$$ >= $$ \n",
    "$$ != $$\n",
    "$$ == $$\n",
    "$$ < $$ \n"
   ]
  },
  {
   "cell_type": "code",
   "execution_count": 31,
   "id": "41fac314-9a23-43cb-ba67-306b9f9d1fc5",
   "metadata": {},
   "outputs": [
    {
     "data": {
      "text/plain": [
       "8.2"
      ]
     },
     "execution_count": 31,
     "metadata": {},
     "output_type": "execute_result"
    }
   ],
   "source": [
    "a = 3\n",
    "b = 5.2\n",
    "a + b"
   ]
  },
  {
   "cell_type": "code",
   "execution_count": 33,
   "id": "b78fd8e9-1955-4397-9d58-dc4d11c37858",
   "metadata": {},
   "outputs": [
    {
     "data": {
      "text/plain": [
       "-2.2"
      ]
     },
     "execution_count": 33,
     "metadata": {},
     "output_type": "execute_result"
    }
   ],
   "source": [
    "a - b "
   ]
  },
  {
   "cell_type": "code",
   "execution_count": 35,
   "id": "1d524c3b-7674-4a34-a014-16dd8c9e1974",
   "metadata": {},
   "outputs": [
    {
     "data": {
      "text/plain": [
       "15.600000000000001"
      ]
     },
     "execution_count": 35,
     "metadata": {},
     "output_type": "execute_result"
    }
   ],
   "source": [
    "a * b "
   ]
  },
  {
   "cell_type": "code",
   "execution_count": 39,
   "id": "557be449-76f3-4a0f-9a23-0e01ef2f3b08",
   "metadata": {},
   "outputs": [
    {
     "data": {
      "text/plain": [
       "0.5769230769230769"
      ]
     },
     "execution_count": 39,
     "metadata": {},
     "output_type": "execute_result"
    }
   ],
   "source": [
    "a/b"
   ]
  },
  {
   "cell_type": "code",
   "execution_count": 41,
   "id": "5f9c424f-1e19-4f76-b35e-cadb36ecd469",
   "metadata": {},
   "outputs": [
    {
     "data": {
      "text/plain": [
       "302.71261832657075"
      ]
     },
     "execution_count": 41,
     "metadata": {},
     "output_type": "execute_result"
    }
   ],
   "source": [
    "a ** b\n"
   ]
  },
  {
   "cell_type": "code",
   "execution_count": 43,
   "id": "f6ea5ef5-efa2-4c6c-ab51-62e153430f43",
   "metadata": {},
   "outputs": [
    {
     "data": {
      "text/plain": [
       "3.0"
      ]
     },
     "execution_count": 43,
     "metadata": {},
     "output_type": "execute_result"
    }
   ],
   "source": [
    "a%b"
   ]
  },
  {
   "cell_type": "code",
   "execution_count": 45,
   "id": "be645977-894c-45f9-8314-1cb33b065b23",
   "metadata": {},
   "outputs": [
    {
     "data": {
      "text/plain": [
       "0.0"
      ]
     },
     "execution_count": 45,
     "metadata": {},
     "output_type": "execute_result"
    }
   ],
   "source": [
    "a // b "
   ]
  },
  {
   "cell_type": "code",
   "execution_count": 49,
   "id": "cc4f343b-4204-479b-8b74-1409976fdf5c",
   "metadata": {},
   "outputs": [
    {
     "data": {
      "text/plain": [
       "'Jose Orozco'"
      ]
     },
     "execution_count": 49,
     "metadata": {},
     "output_type": "execute_result"
    }
   ],
   "source": [
    "nombre = \"Jose\"\n",
    "apellido = \" Orozco\"\n",
    "\n",
    "nombre + apellido "
   ]
  },
  {
   "cell_type": "code",
   "execution_count": 51,
   "id": "b1fb909e-93b2-4fb6-811e-6b6abb1d8355",
   "metadata": {},
   "outputs": [
    {
     "name": "stdout",
     "output_type": "stream",
     "text": [
      "El resultado de sumar a y b es: 8.2\n"
     ]
    }
   ],
   "source": [
    "c = a + b \n",
    "print(\"El resultado de sumar a y b es: \" + str(c))"
   ]
  },
  {
   "cell_type": "code",
   "execution_count": 53,
   "id": "66833b14-1d2a-4d38-8c2c-c9354e624b21",
   "metadata": {},
   "outputs": [
    {
     "data": {
      "text/plain": [
       "3"
      ]
     },
     "execution_count": 53,
     "metadata": {},
     "output_type": "execute_result"
    }
   ],
   "source": [
    "a \n"
   ]
  },
  {
   "cell_type": "code",
   "execution_count": 55,
   "id": "c7794a3c-b104-4670-b2ea-9dc435856bf3",
   "metadata": {},
   "outputs": [
    {
     "data": {
      "text/plain": [
       "5.2"
      ]
     },
     "execution_count": 55,
     "metadata": {},
     "output_type": "execute_result"
    }
   ],
   "source": [
    "b "
   ]
  },
  {
   "cell_type": "code",
   "execution_count": 57,
   "id": "40487e7a-a84c-408d-a58b-761c055a1812",
   "metadata": {},
   "outputs": [
    {
     "data": {
      "text/plain": [
       "True"
      ]
     },
     "execution_count": 57,
     "metadata": {},
     "output_type": "execute_result"
    }
   ],
   "source": [
    "a < b"
   ]
  },
  {
   "cell_type": "code",
   "execution_count": 59,
   "id": "1c7103cf-c67f-4ef2-b133-4894d6990879",
   "metadata": {},
   "outputs": [
    {
     "data": {
      "text/plain": [
       "False"
      ]
     },
     "execution_count": 59,
     "metadata": {},
     "output_type": "execute_result"
    }
   ],
   "source": [
    "a > b"
   ]
  },
  {
   "cell_type": "code",
   "execution_count": 61,
   "id": "84f477a7-d193-49f0-9779-87651119b78d",
   "metadata": {},
   "outputs": [
    {
     "data": {
      "text/plain": [
       "' Orozco'"
      ]
     },
     "execution_count": 61,
     "metadata": {},
     "output_type": "execute_result"
    }
   ],
   "source": [
    "apellido "
   ]
  },
  {
   "cell_type": "code",
   "execution_count": 63,
   "id": "4d80dbbf-7d72-497a-9c66-413b79b7b69f",
   "metadata": {},
   "outputs": [
    {
     "data": {
      "text/plain": [
       "True"
      ]
     },
     "execution_count": 63,
     "metadata": {},
     "output_type": "execute_result"
    }
   ],
   "source": [
    "apellido != \"Martinez\""
   ]
  },
  {
   "cell_type": "code",
   "execution_count": 67,
   "id": "695e9405-556e-469a-b8a8-2549f26a2e04",
   "metadata": {},
   "outputs": [
    {
     "data": {
      "text/plain": [
       "False"
      ]
     },
     "execution_count": 67,
     "metadata": {},
     "output_type": "execute_result"
    }
   ],
   "source": [
    "apellido == \"Orozco \""
   ]
  },
  {
   "cell_type": "code",
   "execution_count": 69,
   "id": "821e546b-d13a-47d7-8570-ae47827f4a3d",
   "metadata": {},
   "outputs": [
    {
     "data": {
      "text/plain": [
       "False"
      ]
     },
     "execution_count": 69,
     "metadata": {},
     "output_type": "execute_result"
    }
   ],
   "source": [
    "apellido == \"Orozco\" and a == 4 "
   ]
  },
  {
   "cell_type": "code",
   "execution_count": 71,
   "id": "30c22d44-cb22-4f24-8e4a-3b5fd9a6f173",
   "metadata": {},
   "outputs": [
    {
     "data": {
      "text/plain": [
       "False"
      ]
     },
     "execution_count": 71,
     "metadata": {},
     "output_type": "execute_result"
    }
   ],
   "source": [
    "True and False "
   ]
  },
  {
   "cell_type": "markdown",
   "id": "a04fa9f4-878c-4faa-8316-ac470db22da1",
   "metadata": {},
   "source": [
    "# Control de flujo "
   ]
  },
  {
   "cell_type": "code",
   "execution_count": 81,
   "id": "380d6c14-a08a-425f-8d75-c9362096a1ed",
   "metadata": {},
   "outputs": [
    {
     "data": {
      "text/plain": [
       "'Buscar  como poner la i rara en google despues '"
      ]
     },
     "execution_count": 81,
     "metadata": {},
     "output_type": "execute_result"
    }
   ],
   "source": [
    "\"Buscar  como poner la i rara en google despues \"\n"
   ]
  },
  {
   "cell_type": "code",
   "execution_count": 95,
   "id": "373a3f07-f363-4038-9d74-e99f4207c646",
   "metadata": {},
   "outputs": [
    {
     "name": "stdout",
     "output_type": "stream",
     "text": [
      "87 no es mmultiplo de 6\n"
     ]
    }
   ],
   "source": [
    "# Inicio \n",
    "\n",
    "a = 87 \n",
    "b = 6 \n",
    "\n",
    "if (b != 0) :\n",
    "    if (a % b == 0 ) :\n",
    "    print( \"La variable a si es múltiplo de\" + str(b))\n",
    "    else: \n",
    "        print(str(a) + \" no es mmultiplo de \" + str(b))\n",
    "else : \n",
    "    print(\" 'b' no puede ser 0\")"
   ]
  },
  {
   "cell_type": "code",
   "execution_count": 99,
   "id": "e5caadc2-83ba-4ee7-99ee-2d1a3c82cd55",
   "metadata": {},
   "outputs": [
    {
     "name": "stdout",
     "output_type": "stream",
     "text": [
      "0\n",
      "1\n",
      "2\n",
      "3\n",
      "4\n",
      "5\n",
      "6\n",
      "7\n",
      "8\n",
      "9\n",
      "10\n"
     ]
    }
   ],
   "source": [
    "a = 10 \n",
    "i = 0\n",
    "while(i <= a): \n",
    "    print(i)\n",
    "    i += 1\n",
    "    "
   ]
  },
  {
   "cell_type": "code",
   "execution_count": 5,
   "id": "a1a411fa-8935-4c98-bac1-7b2af8ac705b",
   "metadata": {},
   "outputs": [
    {
     "ename": "SyntaxError",
     "evalue": "invalid syntax. Maybe you meant '==' or ':=' instead of '='? (2141083825.py, line 5)",
     "output_type": "error",
     "traceback": [
      "\u001b[1;36m  Cell \u001b[1;32mIn[5], line 5\u001b[1;36m\u001b[0m\n\u001b[1;33m    if i= i +1\u001b[0m\n\u001b[1;37m       ^\u001b[0m\n\u001b[1;31mSyntaxError\u001b[0m\u001b[1;31m:\u001b[0m invalid syntax. Maybe you meant '==' or ':=' instead of '='?\n"
     ]
    }
   ],
   "source": [
    "a = 30 \n",
    "i = 0 \n",
    "while( i <= a) : \n",
    "    print(i)\n",
    "    if i == i +1\n",
    "    break "
   ]
  },
  {
   "cell_type": "code",
   "execution_count": null,
   "id": "68ab78c0-28fc-4e8d-9499-a7d7a8242be3",
   "metadata": {},
   "outputs": [],
   "source": [
    "num_prim = "
   ]
  },
  {
   "cell_type": "code",
   "execution_count": null,
   "id": "f3e2a067-94e7-4edd-8c19-fb6b69216f14",
   "metadata": {},
   "outputs": [],
   "source": []
  }
 ],
 "metadata": {
  "kernelspec": {
   "display_name": "Python 3 (ipykernel)",
   "language": "python",
   "name": "python3"
  },
  "language_info": {
   "codemirror_mode": {
    "name": "ipython",
    "version": 3
   },
   "file_extension": ".py",
   "mimetype": "text/x-python",
   "name": "python",
   "nbconvert_exporter": "python",
   "pygments_lexer": "ipython3",
   "version": "3.12.4"
  }
 },
 "nbformat": 4,
 "nbformat_minor": 5
}
